{
  "nbformat": 4,
  "nbformat_minor": 0,
  "metadata": {
    "kernelspec": {
      "display_name": "Python [conda env:okcredit]",
      "language": "python",
      "name": "conda-env-okcredit-py"
    },
    "language_info": {
      "codemirror_mode": {
        "name": "ipython",
        "version": 3
      },
      "file_extension": ".py",
      "mimetype": "text/x-python",
      "name": "python",
      "nbconvert_exporter": "python",
      "pygments_lexer": "ipython3",
      "version": "3.6.5"
    },
    "colab": {
      "name": "model_sklearn.ipynb",
      "provenance": []
    }
  },
  "cells": [
    {
      "cell_type": "code",
      "metadata": {
        "id": "uQw4eKwb_VCp",
        "colab_type": "code",
        "colab": {}
      },
      "source": [
        "%load_ext autoreload\n",
        "%autoreload 2\n",
        "\n",
        "import pandas as pd\n",
        "import numpy as np\n",
        "import matplotlib.pyplot as plt\n",
        "\n",
        "import time\n",
        "import os\n",
        "import sys\n",
        "import warnings\n",
        "warnings.filterwarnings('ignore')\n",
        "\n",
        "%matplotlib inline"
      ],
      "execution_count": 0,
      "outputs": []
    },
    {
      "cell_type": "code",
      "metadata": {
        "id": "krJEqT9t_f2c",
        "colab_type": "code",
        "colab": {
          "base_uri": "https://localhost:8080/",
          "height": 34
        },
        "outputId": "40d49cbe-a6ec-47ed-f080-0e42bdd90222"
      },
      "source": [
        "from google.colab import drive\n",
        "drive.mount('/content/drive')"
      ],
      "execution_count": 2,
      "outputs": [
        {
          "output_type": "stream",
          "text": [
            "Drive already mounted at /content/drive; to attempt to forcibly remount, call drive.mount(\"/content/drive\", force_remount=True).\n"
          ],
          "name": "stdout"
        }
      ]
    },
    {
      "cell_type": "markdown",
      "metadata": {
        "id": "QcVUOuKj_VC7",
        "colab_type": "text"
      },
      "source": [
        "## Loading Data"
      ]
    },
    {
      "cell_type": "code",
      "metadata": {
        "id": "hwf8zwfi_VC-",
        "colab_type": "code",
        "colab": {
          "base_uri": "https://localhost:8080/",
          "height": 232
        },
        "outputId": "c39d843e-4706-4dfc-bda4-c43aa772a9e2"
      },
      "source": [
        "data = pd.read_csv('/content/drive/My Drive/givemesomecredit-master/data/cs-training.csv', index_col=0)\n",
        "data.head()"
      ],
      "execution_count": 3,
      "outputs": [
        {
          "output_type": "execute_result",
          "data": {
            "text/html": [
              "<div>\n",
              "<style scoped>\n",
              "    .dataframe tbody tr th:only-of-type {\n",
              "        vertical-align: middle;\n",
              "    }\n",
              "\n",
              "    .dataframe tbody tr th {\n",
              "        vertical-align: top;\n",
              "    }\n",
              "\n",
              "    .dataframe thead th {\n",
              "        text-align: right;\n",
              "    }\n",
              "</style>\n",
              "<table border=\"1\" class=\"dataframe\">\n",
              "  <thead>\n",
              "    <tr style=\"text-align: right;\">\n",
              "      <th></th>\n",
              "      <th>SeriousDlqin2yrs</th>\n",
              "      <th>RevolvingUtilizationOfUnsecuredLines</th>\n",
              "      <th>age</th>\n",
              "      <th>NumberOfTime30-59DaysPastDueNotWorse</th>\n",
              "      <th>DebtRatio</th>\n",
              "      <th>MonthlyIncome</th>\n",
              "      <th>NumberOfOpenCreditLinesAndLoans</th>\n",
              "      <th>NumberOfTimes90DaysLate</th>\n",
              "      <th>NumberRealEstateLoansOrLines</th>\n",
              "      <th>NumberOfTime60-89DaysPastDueNotWorse</th>\n",
              "      <th>NumberOfDependents</th>\n",
              "    </tr>\n",
              "  </thead>\n",
              "  <tbody>\n",
              "    <tr>\n",
              "      <th>1</th>\n",
              "      <td>1</td>\n",
              "      <td>0.766127</td>\n",
              "      <td>45</td>\n",
              "      <td>2</td>\n",
              "      <td>0.802982</td>\n",
              "      <td>9120.0</td>\n",
              "      <td>13</td>\n",
              "      <td>0</td>\n",
              "      <td>6</td>\n",
              "      <td>0</td>\n",
              "      <td>2.0</td>\n",
              "    </tr>\n",
              "    <tr>\n",
              "      <th>2</th>\n",
              "      <td>0</td>\n",
              "      <td>0.957151</td>\n",
              "      <td>40</td>\n",
              "      <td>0</td>\n",
              "      <td>0.121876</td>\n",
              "      <td>2600.0</td>\n",
              "      <td>4</td>\n",
              "      <td>0</td>\n",
              "      <td>0</td>\n",
              "      <td>0</td>\n",
              "      <td>1.0</td>\n",
              "    </tr>\n",
              "    <tr>\n",
              "      <th>3</th>\n",
              "      <td>0</td>\n",
              "      <td>0.658180</td>\n",
              "      <td>38</td>\n",
              "      <td>1</td>\n",
              "      <td>0.085113</td>\n",
              "      <td>3042.0</td>\n",
              "      <td>2</td>\n",
              "      <td>1</td>\n",
              "      <td>0</td>\n",
              "      <td>0</td>\n",
              "      <td>0.0</td>\n",
              "    </tr>\n",
              "    <tr>\n",
              "      <th>4</th>\n",
              "      <td>0</td>\n",
              "      <td>0.233810</td>\n",
              "      <td>30</td>\n",
              "      <td>0</td>\n",
              "      <td>0.036050</td>\n",
              "      <td>3300.0</td>\n",
              "      <td>5</td>\n",
              "      <td>0</td>\n",
              "      <td>0</td>\n",
              "      <td>0</td>\n",
              "      <td>0.0</td>\n",
              "    </tr>\n",
              "    <tr>\n",
              "      <th>5</th>\n",
              "      <td>0</td>\n",
              "      <td>0.907239</td>\n",
              "      <td>49</td>\n",
              "      <td>1</td>\n",
              "      <td>0.024926</td>\n",
              "      <td>63588.0</td>\n",
              "      <td>7</td>\n",
              "      <td>0</td>\n",
              "      <td>1</td>\n",
              "      <td>0</td>\n",
              "      <td>0.0</td>\n",
              "    </tr>\n",
              "  </tbody>\n",
              "</table>\n",
              "</div>"
            ],
            "text/plain": [
              "   SeriousDlqin2yrs  ...  NumberOfDependents\n",
              "1                 1  ...                 2.0\n",
              "2                 0  ...                 1.0\n",
              "3                 0  ...                 0.0\n",
              "4                 0  ...                 0.0\n",
              "5                 0  ...                 0.0\n",
              "\n",
              "[5 rows x 11 columns]"
            ]
          },
          "metadata": {
            "tags": []
          },
          "execution_count": 3
        }
      ]
    },
    {
      "cell_type": "code",
      "metadata": {
        "id": "87NEUbHd_VDJ",
        "colab_type": "code",
        "colab": {}
      },
      "source": [
        "target_col = 'SeriousDlqin2yrs'"
      ],
      "execution_count": 0,
      "outputs": []
    },
    {
      "cell_type": "markdown",
      "metadata": {
        "id": "3PC8MxKq_VDR",
        "colab_type": "text"
      },
      "source": [
        "## Splitting into Training and Dev Sets"
      ]
    },
    {
      "cell_type": "code",
      "metadata": {
        "id": "G5V3TiRu_VDU",
        "colab_type": "code",
        "colab": {
          "base_uri": "https://localhost:8080/",
          "height": 101
        },
        "outputId": "2ad78892-7028-49c8-c3ea-8eb04e6b1c82"
      },
      "source": [
        "train = data.sample(n=120000, random_state=3)\n",
        "dev = data[~data.index.isin(train.index)]\n",
        "train[target_col].value_counts(normalize=True), dev[target_col].value_counts(normalize=True)"
      ],
      "execution_count": 5,
      "outputs": [
        {
          "output_type": "execute_result",
          "data": {
            "text/plain": [
              "(0    0.933217\n",
              " 1    0.066783\n",
              " Name: SeriousDlqin2yrs, dtype: float64, 0    0.932933\n",
              " 1    0.067067\n",
              " Name: SeriousDlqin2yrs, dtype: float64)"
            ]
          },
          "metadata": {
            "tags": []
          },
          "execution_count": 5
        }
      ]
    },
    {
      "cell_type": "markdown",
      "metadata": {
        "id": "QCRMBiOc_VDl",
        "colab_type": "text"
      },
      "source": [
        "## Cleaning Data"
      ]
    },
    {
      "cell_type": "code",
      "metadata": {
        "id": "29D3pP7v_VDr",
        "colab_type": "code",
        "colab": {}
      },
      "source": [
        "def clean_data(df, income_mv, dependent_mv):\n",
        "    \"\"\"\n",
        "    Imputes missing values\n",
        "    Floors & ceils the outliers\n",
        "    Combines smaller categories into a single category\n",
        "    \"\"\"\n",
        "    \n",
        "    df.columns = [col.replace('-', '_') for col in df.columns]\n",
        "    \n",
        "    # RevolvingUtilizationOfUnsecuredLines\n",
        "    df.loc[df['RevolvingUtilizationOfUnsecuredLines'] >1, 'RevolvingUtilizationOfUnsecuredLines'] = 1\n",
        "    \n",
        "    # age\n",
        "    df.loc[df['age']< 21, 'age'] = 21\n",
        "    \n",
        "    # MonthlyIncome\n",
        "    df['MonthlyIncome'] = df['MonthlyIncome'].fillna(income_mv) #replace with median\n",
        "    \n",
        "    # NumberOfDependents\n",
        "    df['NumberOfDependents'] = df['NumberOfDependents'].fillna(dependent_mv) #replace with median\n",
        "    \n",
        "    return df\n",
        "\n"
      ],
      "execution_count": 0,
      "outputs": []
    },
    {
      "cell_type": "code",
      "metadata": {
        "id": "Z1lf-Iia_VD3",
        "colab_type": "code",
        "colab": {}
      },
      "source": [
        "train = clean_data(train, 5400, 0)\n",
        "dev = clean_data(dev, 5400, 0)"
      ],
      "execution_count": 0,
      "outputs": []
    },
    {
      "cell_type": "code",
      "metadata": {
        "id": "__OLNoek_VEH",
        "colab_type": "code",
        "colab": {}
      },
      "source": [
        "def get_bins_from_training_data(df):\n",
        "    '''bin variables based on the eda done in the other notebook (eda.ipynb)'''\n",
        "    binsdf = {}\n",
        "    _, binsdf['RevolvingUtilizationOfUnsecuredLines'] = pd.cut(df['RevolvingUtilizationOfUnsecuredLines'], [-0.001, 0.05, 0.2, 0.95, 1], retbins=True, labels=None)\n",
        "    _, binsdf['DebtRatio'] = pd.cut(df['DebtRatio'], [-0.001, 0.05, 0.3, 0.6, 329664], retbins=True, labels=None)\n",
        "    _, binsdf['NumberRealEstateLoansOrLines'] = pd.cut(df['NumberRealEstateLoansOrLines'], [-0.001, 0, 1, 3], retbins=True, labels=None)\n",
        "    _, binsdf['NumberOfTime30_59DaysPastDueNotWorse'] = pd.cut(df['NumberOfTime30_59DaysPastDueNotWorse'], [-0.001, 0, 1, 98], retbins=True, labels=None)\n",
        "    _, binsdf['NumberOfTime60_89DaysPastDueNotWorse'] = pd.cut(df['NumberOfTime60_89DaysPastDueNotWorse'], [-0.001, 0, 98], retbins=True, labels=None)\n",
        "    _, binsdf['NumberOfTimes90DaysLate'] = pd.cut(df['NumberOfTimes90DaysLate'], [-0.001, 0, 98], retbins=True, labels=None)\n",
        "    _, binsdf['NumberOfDependents'] = pd.cut(df['NumberOfDependents'], [-0.001, 0, 1, 2, 20], retbins=True, labels=None)\n",
        "    _, binsdf['age'] = pd.qcut(df['age'], 5, retbins=True, labels=None)\n",
        "    _, binsdf['MonthlyIncome'] = pd.qcut(df['MonthlyIncome'], 4, retbins=True, labels=None)\n",
        "    _, binsdf['NumberOfOpenCreditLinesAndLoans'] = pd.qcut(df['NumberOfOpenCreditLinesAndLoans'], 5, retbins=True, labels=None)\n",
        "    return binsdf\n",
        "\n",
        "binsdf = get_bins_from_training_data(train)"
      ],
      "execution_count": 0,
      "outputs": []
    },
    {
      "cell_type": "code",
      "metadata": {
        "id": "C-T7iMX1_VEX",
        "colab_type": "code",
        "colab": {}
      },
      "source": [
        "def create_bins(df, binsdf):\n",
        "    '''create bins on the unseen data set'''\n",
        "    retdf = pd.DataFrame()\n",
        "    for column in df.columns:\n",
        "        if column in binsdf.keys():\n",
        "            retdf[column] = pd.cut(df[column], bins=binsdf[column], labels=False, include_lowest=True)\n",
        "        else:\n",
        "            retdf[column] = df[column].copy(deep=True)\n",
        "    return retdf\n",
        "\n",
        "def create_bins_2(df, binsdf):\n",
        "    '''create bins on the unseen data set'''\n",
        "    retdf = pd.DataFrame()\n",
        "    for column in df.columns:\n",
        "        if column in binsdf.keys():\n",
        "            retdf[column] = pd.cut(df[column], bins=binsdf[column], include_lowest=True)\n",
        "        else:\n",
        "            retdf[column] = df[column].copy(deep=True)\n",
        "    return retdf\n",
        "\n",
        "train_binned_df = create_bins(train, binsdf)\n",
        "dev_binned_df = create_bins(dev, binsdf)\n",
        "\n",
        "train_binned_df_2 = create_bins_2(train, binsdf)\n",
        "dev_binned_df_2 = create_bins_2(dev, binsdf)"
      ],
      "execution_count": 0,
      "outputs": []
    },
    {
      "cell_type": "code",
      "metadata": {
        "id": "oyej2VAB_VEm",
        "colab_type": "code",
        "colab": {}
      },
      "source": [
        "def weight_of_evidence(df, labelcol, col, categorical_col=None):\n",
        "    '''calculates weight of evidence values for each category in a given variable (col)'''\n",
        "    if categorical_col is None:\n",
        "        categorical_col = col\n",
        "    \n",
        "    tempdf = df.groupby(by=categorical_col).agg({labelcol:{\n",
        "                                                        '_counts': 'size',\n",
        "                                                        '_bads': lambda x: len(x[x==1]),\n",
        "                                                        '_goods': lambda x: len(x[x==0])\n",
        "                                                    }})\n",
        "    tempdf.columns  = [col+ column for column in tempdf.columns.droplevel(0)]\n",
        "    tempdf[col+'_distri_tot'] = tempdf[col+'_counts']/(tempdf[col+'_counts'].sum())\n",
        "    tempdf[col+'_distri_bads'] = tempdf[col+'_bads']/(tempdf[col+'_bads'].sum())\n",
        "    tempdf[col+'_distri_goods'] = tempdf[col+'_goods']/(tempdf[col+'_goods'].sum())\n",
        "    tempdf[col+'_bad_rate'] = tempdf[col+'_bads']/tempdf[col+'_counts']\n",
        "    tempdf[col+'_woe'] = np.log(tempdf[col+'_distri_goods']) - np.log(tempdf[col+'_distri_bads'])\n",
        "    return tempdf\n",
        "\n",
        "\n",
        "def information_value(df, col):\n",
        "    '''calculates Information Value using the Weight of evidence scores'''\n",
        "    df['diff_col'] = df[col+'_distri_goods'] - df[col+'_distri_bads']\n",
        "    return np.sum(df['diff_col']*df[col+'_woe'])\n",
        "\n",
        "def get_woe_from_training_data(binned_df):\n",
        "    '''calculates the wWeight of Evidence and Information Values based on the training data set for all the features'''\n",
        "    woe_dict = {}\n",
        "    iv_dict = {}\n",
        "    for column in binned_df.columns:\n",
        "        if column == target_col:\n",
        "            pass\n",
        "        else:\n",
        "            woe_df = weight_of_evidence(binned_df, target_col, column)\n",
        "            woe_column = [col for col in woe_df.columns if 'woe' in col][0]\n",
        "            woe_dict[column] = dict(woe_df[woe_column])\n",
        "            iv_dict[column] = information_value(woe_df, column)\n",
        "    return woe_dict, iv_dict\n",
        " \n",
        "\n",
        "woe, iv = get_woe_from_training_data(create_bins(train, binsdf))"
      ],
      "execution_count": 0,
      "outputs": []
    },
    {
      "cell_type": "code",
      "metadata": {
        "id": "VvQZWKcE_VFG",
        "colab_type": "code",
        "colab": {
          "base_uri": "https://localhost:8080/",
          "height": 343
        },
        "outputId": "24148a05-4841-40a5-cf2b-62a3cca227d3"
      },
      "source": [
        "iv = pd.DataFrame.from_dict(iv, orient='index')\n",
        "iv.columns = ['information_value']\n",
        "iv.sort_values(by='information_value', ascending=False)"
      ],
      "execution_count": 11,
      "outputs": [
        {
          "output_type": "execute_result",
          "data": {
            "text/html": [
              "<div>\n",
              "<style scoped>\n",
              "    .dataframe tbody tr th:only-of-type {\n",
              "        vertical-align: middle;\n",
              "    }\n",
              "\n",
              "    .dataframe tbody tr th {\n",
              "        vertical-align: top;\n",
              "    }\n",
              "\n",
              "    .dataframe thead th {\n",
              "        text-align: right;\n",
              "    }\n",
              "</style>\n",
              "<table border=\"1\" class=\"dataframe\">\n",
              "  <thead>\n",
              "    <tr style=\"text-align: right;\">\n",
              "      <th></th>\n",
              "      <th>information_value</th>\n",
              "    </tr>\n",
              "  </thead>\n",
              "  <tbody>\n",
              "    <tr>\n",
              "      <th>RevolvingUtilizationOfUnsecuredLines</th>\n",
              "      <td>0.957373</td>\n",
              "    </tr>\n",
              "    <tr>\n",
              "      <th>NumberOfTimes90DaysLate</th>\n",
              "      <td>0.822086</td>\n",
              "    </tr>\n",
              "    <tr>\n",
              "      <th>NumberOfTime30_59DaysPastDueNotWorse</th>\n",
              "      <td>0.736713</td>\n",
              "    </tr>\n",
              "    <tr>\n",
              "      <th>NumberOfTime60_89DaysPastDueNotWorse</th>\n",
              "      <td>0.562831</td>\n",
              "    </tr>\n",
              "    <tr>\n",
              "      <th>age</th>\n",
              "      <td>0.240657</td>\n",
              "    </tr>\n",
              "    <tr>\n",
              "      <th>MonthlyIncome</th>\n",
              "      <td>0.061015</td>\n",
              "    </tr>\n",
              "    <tr>\n",
              "      <th>NumberRealEstateLoansOrLines</th>\n",
              "      <td>0.052700</td>\n",
              "    </tr>\n",
              "    <tr>\n",
              "      <th>NumberOfOpenCreditLinesAndLoans</th>\n",
              "      <td>0.048957</td>\n",
              "    </tr>\n",
              "    <tr>\n",
              "      <th>NumberOfDependents</th>\n",
              "      <td>0.032749</td>\n",
              "    </tr>\n",
              "    <tr>\n",
              "      <th>DebtRatio</th>\n",
              "      <td>0.012388</td>\n",
              "    </tr>\n",
              "  </tbody>\n",
              "</table>\n",
              "</div>"
            ],
            "text/plain": [
              "                                      information_value\n",
              "RevolvingUtilizationOfUnsecuredLines           0.957373\n",
              "NumberOfTimes90DaysLate                        0.822086\n",
              "NumberOfTime30_59DaysPastDueNotWorse           0.736713\n",
              "NumberOfTime60_89DaysPastDueNotWorse           0.562831\n",
              "age                                            0.240657\n",
              "MonthlyIncome                                  0.061015\n",
              "NumberRealEstateLoansOrLines                   0.052700\n",
              "NumberOfOpenCreditLinesAndLoans                0.048957\n",
              "NumberOfDependents                             0.032749\n",
              "DebtRatio                                      0.012388"
            ]
          },
          "metadata": {
            "tags": []
          },
          "execution_count": 11
        }
      ]
    },
    {
      "cell_type": "code",
      "metadata": {
        "id": "AWOZ9QHI_VFO",
        "colab_type": "code",
        "colab": {}
      },
      "source": [
        "def create_woe(binned_df, woe):\n",
        "    '''Applies the calculated WoE values on the unseen data set'''\n",
        "    for column in woe.keys():\n",
        "        binned_df[column] = binned_df[column].map(woe[column])\n",
        "    return binned_df\n",
        "\n",
        "\n",
        "train_woe = create_woe(train_binned_df, woe)\n",
        "dev_woe =  create_woe(dev_binned_df, woe)"
      ],
      "execution_count": 0,
      "outputs": []
    },
    {
      "cell_type": "code",
      "metadata": {
        "id": "Gggceu29_VFV",
        "colab_type": "code",
        "colab": {
          "base_uri": "https://localhost:8080/",
          "height": 118
        },
        "outputId": "a05179a4-52a1-4c03-8b12-03b032c4fb2e"
      },
      "source": [
        "train_woe.columns = [col.replace('-', '_') for col in train_woe.columns]\n",
        "dev_woe.columns = [col.replace('-', '_') for col in dev_woe.columns]\n",
        "train_woe.columns"
      ],
      "execution_count": 13,
      "outputs": [
        {
          "output_type": "execute_result",
          "data": {
            "text/plain": [
              "Index(['SeriousDlqin2yrs', 'RevolvingUtilizationOfUnsecuredLines', 'age',\n",
              "       'NumberOfTime30_59DaysPastDueNotWorse', 'DebtRatio', 'MonthlyIncome',\n",
              "       'NumberOfOpenCreditLinesAndLoans', 'NumberOfTimes90DaysLate',\n",
              "       'NumberRealEstateLoansOrLines', 'NumberOfTime60_89DaysPastDueNotWorse',\n",
              "       'NumberOfDependents'],\n",
              "      dtype='object')"
            ]
          },
          "metadata": {
            "tags": []
          },
          "execution_count": 13
        }
      ]
    },
    {
      "cell_type": "markdown",
      "metadata": {
        "id": "-X1LH-ja_VFc",
        "colab_type": "text"
      },
      "source": [
        "## Model"
      ]
    },
    {
      "cell_type": "code",
      "metadata": {
        "id": "dMHWEmGu_VFe",
        "colab_type": "code",
        "colab": {}
      },
      "source": [
        "from sklearn.linear_model import LogisticRegression"
      ],
      "execution_count": 0,
      "outputs": []
    },
    {
      "cell_type": "code",
      "metadata": {
        "id": "R_DQESQ4_VFt",
        "colab_type": "code",
        "colab": {}
      },
      "source": [
        "var_cols = [\n",
        "     'RevolvingUtilizationOfUnsecuredLines',\n",
        "            'age',\n",
        "       'NumberOfTime30_59DaysPastDueNotWorse',\n",
        "            # 'DebtRatio', \n",
        "            'MonthlyIncome',\n",
        "      #  'NumberOfOpenCreditLinesAndLoans',\n",
        "            'NumberOfTimes90DaysLate',\n",
        "      #  'NumberRealEstateLoansOrLines',\n",
        "            'NumberOfTime60_89DaysPastDueNotWorse',\n",
        "       'NumberOfDependents'\n",
        "           ]\n",
        "target_col = 'SeriousDlqin2yrs'"
      ],
      "execution_count": 0,
      "outputs": []
    },
    {
      "cell_type": "markdown",
      "metadata": {
        "id": "HVOZiVgX_VF1",
        "colab_type": "text"
      },
      "source": [
        "### Fitting the model"
      ]
    },
    {
      "cell_type": "code",
      "metadata": {
        "id": "UtxQGbMb_VF5",
        "colab_type": "code",
        "colab": {
          "base_uri": "https://localhost:8080/",
          "height": 101
        },
        "outputId": "7febff15-eff7-4a14-e323-41d1d0f2197f"
      },
      "source": [
        "sk_model = LogisticRegression()\n",
        "sk_model.fit(train_woe[var_cols], train_woe[target_col])"
      ],
      "execution_count": 16,
      "outputs": [
        {
          "output_type": "execute_result",
          "data": {
            "text/plain": [
              "LogisticRegression(C=1.0, class_weight=None, dual=False, fit_intercept=True,\n",
              "                   intercept_scaling=1, l1_ratio=None, max_iter=100,\n",
              "                   multi_class='auto', n_jobs=None, penalty='l2',\n",
              "                   random_state=None, solver='lbfgs', tol=0.0001, verbose=0,\n",
              "                   warm_start=False)"
            ]
          },
          "metadata": {
            "tags": []
          },
          "execution_count": 16
        }
      ]
    },
    {
      "cell_type": "code",
      "metadata": {
        "id": "crEzE_MX_VGX",
        "colab_type": "code",
        "colab": {
          "base_uri": "https://localhost:8080/",
          "height": 254
        },
        "outputId": "19e26bb7-a186-4f54-e1e8-3c7c56b7c8dd"
      },
      "source": [
        "#coefficients\n",
        "\n",
        "coef = pd.DataFrame()\n",
        "coef['feature'] = var_cols\n",
        "coef['coef'] = sk_model.coef_[0]\n",
        "coef"
      ],
      "execution_count": 17,
      "outputs": [
        {
          "output_type": "execute_result",
          "data": {
            "text/html": [
              "<div>\n",
              "<style scoped>\n",
              "    .dataframe tbody tr th:only-of-type {\n",
              "        vertical-align: middle;\n",
              "    }\n",
              "\n",
              "    .dataframe tbody tr th {\n",
              "        vertical-align: top;\n",
              "    }\n",
              "\n",
              "    .dataframe thead th {\n",
              "        text-align: right;\n",
              "    }\n",
              "</style>\n",
              "<table border=\"1\" class=\"dataframe\">\n",
              "  <thead>\n",
              "    <tr style=\"text-align: right;\">\n",
              "      <th></th>\n",
              "      <th>feature</th>\n",
              "      <th>coef</th>\n",
              "    </tr>\n",
              "  </thead>\n",
              "  <tbody>\n",
              "    <tr>\n",
              "      <th>0</th>\n",
              "      <td>RevolvingUtilizationOfUnsecuredLines</td>\n",
              "      <td>-0.612441</td>\n",
              "    </tr>\n",
              "    <tr>\n",
              "      <th>1</th>\n",
              "      <td>age</td>\n",
              "      <td>-0.446756</td>\n",
              "    </tr>\n",
              "    <tr>\n",
              "      <th>2</th>\n",
              "      <td>NumberOfTime30_59DaysPastDueNotWorse</td>\n",
              "      <td>-0.567312</td>\n",
              "    </tr>\n",
              "    <tr>\n",
              "      <th>3</th>\n",
              "      <td>MonthlyIncome</td>\n",
              "      <td>-0.361132</td>\n",
              "    </tr>\n",
              "    <tr>\n",
              "      <th>4</th>\n",
              "      <td>NumberOfTimes90DaysLate</td>\n",
              "      <td>-0.535147</td>\n",
              "    </tr>\n",
              "    <tr>\n",
              "      <th>5</th>\n",
              "      <td>NumberOfTime60_89DaysPastDueNotWorse</td>\n",
              "      <td>-0.413585</td>\n",
              "    </tr>\n",
              "    <tr>\n",
              "      <th>6</th>\n",
              "      <td>NumberOfDependents</td>\n",
              "      <td>-0.290315</td>\n",
              "    </tr>\n",
              "  </tbody>\n",
              "</table>\n",
              "</div>"
            ],
            "text/plain": [
              "                                feature      coef\n",
              "0  RevolvingUtilizationOfUnsecuredLines -0.612441\n",
              "1                                   age -0.446756\n",
              "2  NumberOfTime30_59DaysPastDueNotWorse -0.567312\n",
              "3                         MonthlyIncome -0.361132\n",
              "4               NumberOfTimes90DaysLate -0.535147\n",
              "5  NumberOfTime60_89DaysPastDueNotWorse -0.413585\n",
              "6                    NumberOfDependents -0.290315"
            ]
          },
          "metadata": {
            "tags": []
          },
          "execution_count": 17
        }
      ]
    },
    {
      "cell_type": "code",
      "metadata": {
        "id": "Un_hc8Ja_VGo",
        "colab_type": "code",
        "colab": {}
      },
      "source": [
        "# saving model\n",
        "\n",
        "import pickle as pkl\n",
        "\n",
        "with open('/content/drive/My Drive/givemesomecredit-master/model/model_sk_10_variables_1.pkl', 'wb') as f:\n",
        "    pkl.dump(sk_model, f)"
      ],
      "execution_count": 0,
      "outputs": []
    },
    {
      "cell_type": "markdown",
      "metadata": {
        "id": "rXN1Z1kj_VG3",
        "colab_type": "text"
      },
      "source": [
        "### Checking performance"
      ]
    },
    {
      "cell_type": "code",
      "metadata": {
        "id": "zreMWkM3_VG6",
        "colab_type": "code",
        "colab": {
          "base_uri": "https://localhost:8080/",
          "height": 332
        },
        "outputId": "b184167b-3e97-4d35-933f-f1283988ccf8"
      },
      "source": [
        "import sklearn.metrics as setrics\n",
        "plt.style.use('dark_background')\n",
        "\n",
        "def get_metrics(df, model, var_cols, label_col):\n",
        "    '''plots roc-auc and calcualtes somers-d score'''\n",
        "    roc_auc = setrics.roc_auc_score(df[label_col],  model.predict_proba(df[var_cols])[:,1])\n",
        "    print('ROC_AUC: ', roc_auc)\n",
        "    \n",
        "    somersd = 2*roc_auc -1\n",
        "    print('Somersd: ', somersd)\n",
        "    \n",
        "    fpr, tpr, _ = setrics.roc_curve(df[label_col],  model.predict_proba(df[var_cols])[:,1])\n",
        "    plt.plot(fpr,tpr,label=\"data 1, auc=\"+str(roc_auc))\n",
        "    plt.legend(loc=4)\n",
        "    plt.show()\n",
        "\n",
        "print('-----   Training Set Performance   --------\\n')    \n",
        "get_metrics(train_woe, sk_model, var_cols, label_col='SeriousDlqin2yrs')"
      ],
      "execution_count": 19,
      "outputs": [
        {
          "output_type": "stream",
          "text": [
            "-----   Training Set Performance   --------\n",
            "\n",
            "ROC_AUC:  0.8458548634000478\n",
            "Somersd:  0.6917097268000956\n"
          ],
          "name": "stdout"
        },
        {
          "output_type": "display_data",
          "data": {
            "image/png": "[encoded data removed]",
            "text/plain": [
              "<Figure size 432x288 with 1 Axes>"
            ]
          },
          "metadata": {
            "tags": []
          }
        }
      ]
    },
    {
      "cell_type": "code",
      "metadata": {
        "id": "mvZnaOz__VHH",
        "colab_type": "code",
        "colab": {
          "base_uri": "https://localhost:8080/",
          "height": 332
        },
        "outputId": "f551c428-3c32-46f4-dd09-05df8d12c42d"
      },
      "source": [
        "print('-----   Dev Set Performance   --------\\n')    \n",
        "\n",
        "get_metrics(dev_woe.dropna(), sk_model, var_cols, label_col='SeriousDlqin2yrs')"
      ],
      "execution_count": 20,
      "outputs": [
        {
          "output_type": "stream",
          "text": [
            "-----   Dev Set Performance   --------\n",
            "\n",
            "ROC_AUC:  0.8589489834015229\n",
            "Somersd:  0.7178979668030459\n"
          ],
          "name": "stdout"
        },
        {
          "output_type": "display_data",
          "data": {
            "image/png": "[encoded data removed]",
            "text/plain": [
              "<Figure size 432x288 with 1 Axes>"
            ]
          },
          "metadata": {
            "tags": []
          }
        }
      ]
    },
    {
      "cell_type": "markdown",
      "metadata": {
        "id": "VpoLnlGl_VHP",
        "colab_type": "text"
      },
      "source": [
        "## Scorecard"
      ]
    },
    {
      "cell_type": "markdown",
      "metadata": {
        "id": "49Lx5evC_VHS",
        "colab_type": "text"
      },
      "source": [
        "### Calculating Offset\n",
        "\n",
        "Let's set the odds of 50:1 at a score of 600"
      ]
    },
    {
      "cell_type": "code",
      "metadata": {
        "id": "szrU1Let_VHX",
        "colab_type": "code",
        "colab": {
          "base_uri": "https://localhost:8080/",
          "height": 34
        },
        "outputId": "0e2a3b3d-910a-48ea-bc28-2a24d60ea2be"
      },
      "source": [
        "score= 600\n",
        "odds = 50\n",
        "pdo = 20\n",
        "factor = pdo/np.log(2)\n",
        "\n",
        "offset = score - np.log(odds)*factor\n",
        "offset"
      ],
      "execution_count": 21,
      "outputs": [
        {
          "output_type": "execute_result",
          "data": {
            "text/plain": [
              "487.1228762045055"
            ]
          },
          "metadata": {
            "tags": []
          },
          "execution_count": 21
        }
      ]
    },
    {
      "cell_type": "code",
      "metadata": {
        "id": "NQohVzcQ_VHd",
        "colab_type": "code",
        "colab": {}
      },
      "source": [
        "def make_scorecard(woe_df, model, features, pdo=20, offset_score=600):\n",
        "    '''calculates credit score'''\n",
        "    factor = pdo/np.log(2)\n",
        "    n = len(features)\n",
        "    offset = offset_score - np.log(50)*factor\n",
        "    \n",
        "    scorecard = -(((woe_df[features]*(model.coef_)).sum(axis=1)) + model.intercept_)*factor +  offset\n",
        "    return scorecard"
      ],
      "execution_count": 0,
      "outputs": []
    },
    {
      "cell_type": "code",
      "metadata": {
        "id": "Uos2ZPRg_VHo",
        "colab_type": "code",
        "colab": {}
      },
      "source": [
        "train_scorecard = make_scorecard(train_woe, sk_model, var_cols, offset_score=600)\n",
        "dev_scorecard = make_scorecard(dev_woe, sk_model, var_cols, offset_score=600)"
      ],
      "execution_count": 0,
      "outputs": []
    },
    {
      "cell_type": "code",
      "metadata": {
        "id": "nTWDp6iA_VHv",
        "colab_type": "code",
        "colab": {}
      },
      "source": [
        "train['credit_score'] = train_scorecard\n",
        "train.to_csv('/content/drive/My Drive/givemesomecredit-master/output/train_credit_scores.csv')\n",
        "\n",
        "dev['credit_score'] = dev_scorecard\n",
        "dev.to_csv('/content/drive/My Drive/givemesomecredit-master/output/dev_credit_scores.csv')"
      ],
      "execution_count": 0,
      "outputs": []
    },
    {
      "cell_type": "markdown",
      "metadata": {
        "id": "JH7Y7rCn_VH9",
        "colab_type": "text"
      },
      "source": [
        "## Predicting on Test Data"
      ]
    },
    {
      "cell_type": "code",
      "metadata": {
        "id": "BSbiEn26_VID",
        "colab_type": "code",
        "colab": {
          "base_uri": "https://localhost:8080/",
          "height": 232
        },
        "outputId": "f24b3643-61c5-423b-ba0f-b04ba4eac3e9"
      },
      "source": [
        "test = pd.read_csv('/content/drive/My Drive/givemesomecredit-master/data/cs-test.csv', index_col=0)\n",
        "test.head()"
      ],
      "execution_count": 25,
      "outputs": [
        {
          "output_type": "execute_result",
          "data": {
            "text/html": [
              "<div>\n",
              "<style scoped>\n",
              "    .dataframe tbody tr th:only-of-type {\n",
              "        vertical-align: middle;\n",
              "    }\n",
              "\n",
              "    .dataframe tbody tr th {\n",
              "        vertical-align: top;\n",
              "    }\n",
              "\n",
              "    .dataframe thead th {\n",
              "        text-align: right;\n",
              "    }\n",
              "</style>\n",
              "<table border=\"1\" class=\"dataframe\">\n",
              "  <thead>\n",
              "    <tr style=\"text-align: right;\">\n",
              "      <th></th>\n",
              "      <th>SeriousDlqin2yrs</th>\n",
              "      <th>RevolvingUtilizationOfUnsecuredLines</th>\n",
              "      <th>age</th>\n",
              "      <th>NumberOfTime30-59DaysPastDueNotWorse</th>\n",
              "      <th>DebtRatio</th>\n",
              "      <th>MonthlyIncome</th>\n",
              "      <th>NumberOfOpenCreditLinesAndLoans</th>\n",
              "      <th>NumberOfTimes90DaysLate</th>\n",
              "      <th>NumberRealEstateLoansOrLines</th>\n",
              "      <th>NumberOfTime60-89DaysPastDueNotWorse</th>\n",
              "      <th>NumberOfDependents</th>\n",
              "    </tr>\n",
              "  </thead>\n",
              "  <tbody>\n",
              "    <tr>\n",
              "      <th>1</th>\n",
              "      <td>NaN</td>\n",
              "      <td>0.885519</td>\n",
              "      <td>43</td>\n",
              "      <td>0</td>\n",
              "      <td>0.177513</td>\n",
              "      <td>5700.0</td>\n",
              "      <td>4</td>\n",
              "      <td>0</td>\n",
              "      <td>0</td>\n",
              "      <td>0</td>\n",
              "      <td>0.0</td>\n",
              "    </tr>\n",
              "    <tr>\n",
              "      <th>2</th>\n",
              "      <td>NaN</td>\n",
              "      <td>0.463295</td>\n",
              "      <td>57</td>\n",
              "      <td>0</td>\n",
              "      <td>0.527237</td>\n",
              "      <td>9141.0</td>\n",
              "      <td>15</td>\n",
              "      <td>0</td>\n",
              "      <td>4</td>\n",
              "      <td>0</td>\n",
              "      <td>2.0</td>\n",
              "    </tr>\n",
              "    <tr>\n",
              "      <th>3</th>\n",
              "      <td>NaN</td>\n",
              "      <td>0.043275</td>\n",
              "      <td>59</td>\n",
              "      <td>0</td>\n",
              "      <td>0.687648</td>\n",
              "      <td>5083.0</td>\n",
              "      <td>12</td>\n",
              "      <td>0</td>\n",
              "      <td>1</td>\n",
              "      <td>0</td>\n",
              "      <td>2.0</td>\n",
              "    </tr>\n",
              "    <tr>\n",
              "      <th>4</th>\n",
              "      <td>NaN</td>\n",
              "      <td>0.280308</td>\n",
              "      <td>38</td>\n",
              "      <td>1</td>\n",
              "      <td>0.925961</td>\n",
              "      <td>3200.0</td>\n",
              "      <td>7</td>\n",
              "      <td>0</td>\n",
              "      <td>2</td>\n",
              "      <td>0</td>\n",
              "      <td>0.0</td>\n",
              "    </tr>\n",
              "    <tr>\n",
              "      <th>5</th>\n",
              "      <td>NaN</td>\n",
              "      <td>1.000000</td>\n",
              "      <td>27</td>\n",
              "      <td>0</td>\n",
              "      <td>0.019917</td>\n",
              "      <td>3865.0</td>\n",
              "      <td>4</td>\n",
              "      <td>0</td>\n",
              "      <td>0</td>\n",
              "      <td>0</td>\n",
              "      <td>1.0</td>\n",
              "    </tr>\n",
              "  </tbody>\n",
              "</table>\n",
              "</div>"
            ],
            "text/plain": [
              "   SeriousDlqin2yrs  ...  NumberOfDependents\n",
              "1               NaN  ...                 0.0\n",
              "2               NaN  ...                 2.0\n",
              "3               NaN  ...                 2.0\n",
              "4               NaN  ...                 0.0\n",
              "5               NaN  ...                 1.0\n",
              "\n",
              "[5 rows x 11 columns]"
            ]
          },
          "metadata": {
            "tags": []
          },
          "execution_count": 25
        }
      ]
    },
    {
      "cell_type": "code",
      "metadata": {
        "id": "r5GZ2YtB_VIR",
        "colab_type": "code",
        "colab": {
          "base_uri": "https://localhost:8080/",
          "height": 168
        },
        "outputId": "f60bc6b1-8108-4f03-b3e7-e7ec1ab910fc"
      },
      "source": [
        "test = clean_data(test, 5400, 3)\n",
        "test_binned_df = create_bins(test, binsdf)\n",
        "test_woe = create_woe(test_binned_df, woe)\n",
        "test_scorecard = make_scorecard(test_woe, sk_model, var_cols)\n",
        "test_scorecard.describe()"
      ],
      "execution_count": 26,
      "outputs": [
        {
          "output_type": "execute_result",
          "data": {
            "text/plain": [
              "count    101503.000000\n",
              "mean        581.107619\n",
              "std          32.854399\n",
              "min         433.267019\n",
              "25%         567.183989\n",
              "50%         590.139903\n",
              "75%         604.971221\n",
              "max         623.021212\n",
              "dtype: float64"
            ]
          },
          "metadata": {
            "tags": []
          },
          "execution_count": 26
        }
      ]
    },
    {
      "cell_type": "code",
      "metadata": {
        "id": "5YV0GQ82_VIe",
        "colab_type": "code",
        "colab": {}
      },
      "source": [
        "test['credit_score'] = test_scorecard\n",
        "test.to_csv('/content/drive/My Drive/givemesomecredit-master/output/test_credit_scores.csv')"
      ],
      "execution_count": 0,
      "outputs": []
    },
    {
      "cell_type": "markdown",
      "metadata": {
        "id": "vI_yqJEt_VIp",
        "colab_type": "text"
      },
      "source": [
        "### Score distribution"
      ]
    },
    {
      "cell_type": "code",
      "metadata": {
        "id": "iAuvd3eq_VIs",
        "colab_type": "code",
        "colab": {}
      },
      "source": [
        "dev['credit_score'] = dev_scorecard"
      ],
      "execution_count": 0,
      "outputs": []
    },
    {
      "cell_type": "code",
      "metadata": {
        "id": "xnZdDSS2_VI9",
        "colab_type": "code",
        "colab": {
          "base_uri": "https://localhost:8080/",
          "height": 313
        },
        "outputId": "a401d2e6-d197-467c-c449-7285d280c9a2"
      },
      "source": [
        "plt.style.use('dark_background')\n",
        "dev['credit_bin'] = pd.qcut(dev['credit_score'], 10, labels=False)\n",
        "dev['credit_bin_range'] = pd.qcut(dev['credit_score'], 10)\n",
        "dev.groupby(by='credit_bin').agg('mean')[target_col].plot(title='Default Rate by Credit Bin')"
      ],
      "execution_count": 39,
      "outputs": [
        {
          "output_type": "execute_result",
          "data": {
            "text/plain": [
              "<matplotlib.axes._subplots.AxesSubplot at 0x7ff30817cbe0>"
            ]
          },
          "metadata": {
            "tags": []
          },
          "execution_count": 39
        },
        {
          "output_type": "display_data",
          "data": {
            "image/png": "[encoded data removed]",
            "text/plain": [
              "<Figure size 432x288 with 1 Axes>"
            ]
          },
          "metadata": {
            "tags": []
          }
        }
      ]
    },
    {
      "cell_type": "code",
      "metadata": {
        "id": "S984DJRG_VJG",
        "colab_type": "code",
        "colab": {
          "base_uri": "https://localhost:8080/",
          "height": 343
        },
        "outputId": "6720b2c7-906c-4c7b-84d6-f387201c6cd0"
      },
      "source": [
        "score_bins = dev.groupby(by='credit_bin_range').agg('mean')[target_col].reset_index()\n",
        "score_bins.columns =['credit_bin', 'default_rate']\n",
        "score_bins['default_rate'] = score_bins['default_rate'].round(3).mul(100)\n",
        "score_bins"
      ],
      "execution_count": 30,
      "outputs": [
        {
          "output_type": "execute_result",
          "data": {
            "text/html": [
              "<div>\n",
              "<style scoped>\n",
              "    .dataframe tbody tr th:only-of-type {\n",
              "        vertical-align: middle;\n",
              "    }\n",
              "\n",
              "    .dataframe tbody tr th {\n",
              "        vertical-align: top;\n",
              "    }\n",
              "\n",
              "    .dataframe thead th {\n",
              "        text-align: right;\n",
              "    }\n",
              "</style>\n",
              "<table border=\"1\" class=\"dataframe\">\n",
              "  <thead>\n",
              "    <tr style=\"text-align: right;\">\n",
              "      <th></th>\n",
              "      <th>credit_bin</th>\n",
              "      <th>default_rate</th>\n",
              "    </tr>\n",
              "  </thead>\n",
              "  <tbody>\n",
              "    <tr>\n",
              "      <th>0</th>\n",
              "      <td>(434.72900000000004, 540.524]</td>\n",
              "      <td>36.5</td>\n",
              "    </tr>\n",
              "    <tr>\n",
              "      <th>1</th>\n",
              "      <td>(540.524, 560.571]</td>\n",
              "      <td>11.0</td>\n",
              "    </tr>\n",
              "    <tr>\n",
              "      <th>2</th>\n",
              "      <td>(560.571, 570.793]</td>\n",
              "      <td>6.1</td>\n",
              "    </tr>\n",
              "    <tr>\n",
              "      <th>3</th>\n",
              "      <td>(570.793, 576.587]</td>\n",
              "      <td>4.5</td>\n",
              "    </tr>\n",
              "    <tr>\n",
              "      <th>4</th>\n",
              "      <td>(576.587, 590.14]</td>\n",
              "      <td>3.0</td>\n",
              "    </tr>\n",
              "    <tr>\n",
              "      <th>5</th>\n",
              "      <td>(590.14, 597.543]</td>\n",
              "      <td>2.5</td>\n",
              "    </tr>\n",
              "    <tr>\n",
              "      <th>6</th>\n",
              "      <td>(597.543, 602.368]</td>\n",
              "      <td>1.1</td>\n",
              "    </tr>\n",
              "    <tr>\n",
              "      <th>7</th>\n",
              "      <td>(602.368, 607.613]</td>\n",
              "      <td>0.9</td>\n",
              "    </tr>\n",
              "    <tr>\n",
              "      <th>8</th>\n",
              "      <td>(607.613, 614.88]</td>\n",
              "      <td>0.7</td>\n",
              "    </tr>\n",
              "    <tr>\n",
              "      <th>9</th>\n",
              "      <td>(614.88, 623.021]</td>\n",
              "      <td>0.6</td>\n",
              "    </tr>\n",
              "  </tbody>\n",
              "</table>\n",
              "</div>"
            ],
            "text/plain": [
              "                      credit_bin  default_rate\n",
              "0  (434.72900000000004, 540.524]          36.5\n",
              "1             (540.524, 560.571]          11.0\n",
              "2             (560.571, 570.793]           6.1\n",
              "3             (570.793, 576.587]           4.5\n",
              "4              (576.587, 590.14]           3.0\n",
              "5              (590.14, 597.543]           2.5\n",
              "6             (597.543, 602.368]           1.1\n",
              "7             (602.368, 607.613]           0.9\n",
              "8              (607.613, 614.88]           0.7\n",
              "9              (614.88, 623.021]           0.6"
            ]
          },
          "metadata": {
            "tags": []
          },
          "execution_count": 30
        }
      ]
    },
    {
      "cell_type": "code",
      "metadata": {
        "id": "c37h_LmQ_VJN",
        "colab_type": "code",
        "colab": {
          "base_uri": "https://localhost:8080/",
          "height": 343
        },
        "outputId": "81e78aa4-75fe-47d8-f2b7-daddc24d9ec9"
      },
      "source": [
        "score_bins['min_score'] = score_bins['credit_bin'].apply(lambda x: int(x.left))\n",
        "score_bins['max_score'] = score_bins['credit_bin'].apply(lambda x: int(x.right))\n",
        "score_bins = score_bins.reset_index()\n",
        "score_bins.columns = ['decile', 'credit_bin', 'default_rate', 'min_score', 'max_score']\n",
        "score_bins = score_bins[['decile', 'credit_bin', 'min_score', 'max_score', 'default_rate']]\n",
        "score_bins['decile'] = score_bins['decile'] + 1\n",
        "score_bins"
      ],
      "execution_count": 31,
      "outputs": [
        {
          "output_type": "execute_result",
          "data": {
            "text/html": [
              "<div>\n",
              "<style scoped>\n",
              "    .dataframe tbody tr th:only-of-type {\n",
              "        vertical-align: middle;\n",
              "    }\n",
              "\n",
              "    .dataframe tbody tr th {\n",
              "        vertical-align: top;\n",
              "    }\n",
              "\n",
              "    .dataframe thead th {\n",
              "        text-align: right;\n",
              "    }\n",
              "</style>\n",
              "<table border=\"1\" class=\"dataframe\">\n",
              "  <thead>\n",
              "    <tr style=\"text-align: right;\">\n",
              "      <th></th>\n",
              "      <th>decile</th>\n",
              "      <th>credit_bin</th>\n",
              "      <th>min_score</th>\n",
              "      <th>max_score</th>\n",
              "      <th>default_rate</th>\n",
              "    </tr>\n",
              "  </thead>\n",
              "  <tbody>\n",
              "    <tr>\n",
              "      <th>0</th>\n",
              "      <td>1</td>\n",
              "      <td>(434.72900000000004, 540.524]</td>\n",
              "      <td>434</td>\n",
              "      <td>540</td>\n",
              "      <td>36.5</td>\n",
              "    </tr>\n",
              "    <tr>\n",
              "      <th>1</th>\n",
              "      <td>2</td>\n",
              "      <td>(540.524, 560.571]</td>\n",
              "      <td>540</td>\n",
              "      <td>560</td>\n",
              "      <td>11.0</td>\n",
              "    </tr>\n",
              "    <tr>\n",
              "      <th>2</th>\n",
              "      <td>3</td>\n",
              "      <td>(560.571, 570.793]</td>\n",
              "      <td>560</td>\n",
              "      <td>570</td>\n",
              "      <td>6.1</td>\n",
              "    </tr>\n",
              "    <tr>\n",
              "      <th>3</th>\n",
              "      <td>4</td>\n",
              "      <td>(570.793, 576.587]</td>\n",
              "      <td>570</td>\n",
              "      <td>576</td>\n",
              "      <td>4.5</td>\n",
              "    </tr>\n",
              "    <tr>\n",
              "      <th>4</th>\n",
              "      <td>5</td>\n",
              "      <td>(576.587, 590.14]</td>\n",
              "      <td>576</td>\n",
              "      <td>590</td>\n",
              "      <td>3.0</td>\n",
              "    </tr>\n",
              "    <tr>\n",
              "      <th>5</th>\n",
              "      <td>6</td>\n",
              "      <td>(590.14, 597.543]</td>\n",
              "      <td>590</td>\n",
              "      <td>597</td>\n",
              "      <td>2.5</td>\n",
              "    </tr>\n",
              "    <tr>\n",
              "      <th>6</th>\n",
              "      <td>7</td>\n",
              "      <td>(597.543, 602.368]</td>\n",
              "      <td>597</td>\n",
              "      <td>602</td>\n",
              "      <td>1.1</td>\n",
              "    </tr>\n",
              "    <tr>\n",
              "      <th>7</th>\n",
              "      <td>8</td>\n",
              "      <td>(602.368, 607.613]</td>\n",
              "      <td>602</td>\n",
              "      <td>607</td>\n",
              "      <td>0.9</td>\n",
              "    </tr>\n",
              "    <tr>\n",
              "      <th>8</th>\n",
              "      <td>9</td>\n",
              "      <td>(607.613, 614.88]</td>\n",
              "      <td>607</td>\n",
              "      <td>614</td>\n",
              "      <td>0.7</td>\n",
              "    </tr>\n",
              "    <tr>\n",
              "      <th>9</th>\n",
              "      <td>10</td>\n",
              "      <td>(614.88, 623.021]</td>\n",
              "      <td>614</td>\n",
              "      <td>623</td>\n",
              "      <td>0.6</td>\n",
              "    </tr>\n",
              "  </tbody>\n",
              "</table>\n",
              "</div>"
            ],
            "text/plain": [
              "   decile                     credit_bin min_score max_score  default_rate\n",
              "0       1  (434.72900000000004, 540.524]       434       540          36.5\n",
              "1       2             (540.524, 560.571]       540       560          11.0\n",
              "2       3             (560.571, 570.793]       560       570           6.1\n",
              "3       4             (570.793, 576.587]       570       576           4.5\n",
              "4       5              (576.587, 590.14]       576       590           3.0\n",
              "5       6              (590.14, 597.543]       590       597           2.5\n",
              "6       7             (597.543, 602.368]       597       602           1.1\n",
              "7       8             (602.368, 607.613]       602       607           0.9\n",
              "8       9              (607.613, 614.88]       607       614           0.7\n",
              "9      10              (614.88, 623.021]       614       623           0.6"
            ]
          },
          "metadata": {
            "tags": []
          },
          "execution_count": 31
        }
      ]
    },
    {
      "cell_type": "code",
      "metadata": {
        "id": "Taef7wH7_VJT",
        "colab_type": "code",
        "colab": {
          "base_uri": "https://localhost:8080/",
          "height": 299
        },
        "outputId": "3fd5af73-e856-417e-88b8-036064e1c208"
      },
      "source": [
        "dev_binned_df_3 = dev_binned_df_2.join(dev_woe, rsuffix='_woe')\n",
        "dev_binned_df_3.head()"
      ],
      "execution_count": 32,
      "outputs": [
        {
          "output_type": "execute_result",
          "data": {
            "text/html": [
              "<div>\n",
              "<style scoped>\n",
              "    .dataframe tbody tr th:only-of-type {\n",
              "        vertical-align: middle;\n",
              "    }\n",
              "\n",
              "    .dataframe tbody tr th {\n",
              "        vertical-align: top;\n",
              "    }\n",
              "\n",
              "    .dataframe thead th {\n",
              "        text-align: right;\n",
              "    }\n",
              "</style>\n",
              "<table border=\"1\" class=\"dataframe\">\n",
              "  <thead>\n",
              "    <tr style=\"text-align: right;\">\n",
              "      <th></th>\n",
              "      <th>SeriousDlqin2yrs</th>\n",
              "      <th>RevolvingUtilizationOfUnsecuredLines</th>\n",
              "      <th>age</th>\n",
              "      <th>NumberOfTime30_59DaysPastDueNotWorse</th>\n",
              "      <th>DebtRatio</th>\n",
              "      <th>MonthlyIncome</th>\n",
              "      <th>NumberOfOpenCreditLinesAndLoans</th>\n",
              "      <th>NumberOfTimes90DaysLate</th>\n",
              "      <th>NumberRealEstateLoansOrLines</th>\n",
              "      <th>NumberOfTime60_89DaysPastDueNotWorse</th>\n",
              "      <th>NumberOfDependents</th>\n",
              "      <th>SeriousDlqin2yrs_woe</th>\n",
              "      <th>RevolvingUtilizationOfUnsecuredLines_woe</th>\n",
              "      <th>age_woe</th>\n",
              "      <th>NumberOfTime30_59DaysPastDueNotWorse_woe</th>\n",
              "      <th>DebtRatio_woe</th>\n",
              "      <th>MonthlyIncome_woe</th>\n",
              "      <th>NumberOfOpenCreditLinesAndLoans_woe</th>\n",
              "      <th>NumberOfTimes90DaysLate_woe</th>\n",
              "      <th>NumberRealEstateLoansOrLines_woe</th>\n",
              "      <th>NumberOfTime60_89DaysPastDueNotWorse_woe</th>\n",
              "      <th>NumberOfDependents_woe</th>\n",
              "    </tr>\n",
              "  </thead>\n",
              "  <tbody>\n",
              "    <tr>\n",
              "      <th>7</th>\n",
              "      <td>0</td>\n",
              "      <td>(0.2, 0.95]</td>\n",
              "      <td>(56.0, 65.0]</td>\n",
              "      <td>(-0.002, 0.0]</td>\n",
              "      <td>(0.6, 329664.0]</td>\n",
              "      <td>(3900.0, 5400.0]</td>\n",
              "      <td>(6.0, 9.0]</td>\n",
              "      <td>(-0.002, 0.0]</td>\n",
              "      <td>(1.0, 3.0]</td>\n",
              "      <td>(-0.002, 0.0]</td>\n",
              "      <td>(-0.002, 0.0]</td>\n",
              "      <td>0</td>\n",
              "      <td>-0.288164</td>\n",
              "      <td>0.412348</td>\n",
              "      <td>0.538239</td>\n",
              "      <td>-0.123598</td>\n",
              "      <td>0.017534</td>\n",
              "      <td>0.230913</td>\n",
              "      <td>0.384389</td>\n",
              "      <td>0.149293</td>\n",
              "      <td>0.285051</td>\n",
              "      <td>0.145361</td>\n",
              "    </tr>\n",
              "    <tr>\n",
              "      <th>9</th>\n",
              "      <td>0</td>\n",
              "      <td>(0.05, 0.2]</td>\n",
              "      <td>(20.999, 39.0]</td>\n",
              "      <td>(-0.002, 0.0]</td>\n",
              "      <td>(0.6, 329664.0]</td>\n",
              "      <td>(3900.0, 5400.0]</td>\n",
              "      <td>(-0.001, 4.0]</td>\n",
              "      <td>(-0.002, 0.0]</td>\n",
              "      <td>(-0.002, 0.0]</td>\n",
              "      <td>(-0.002, 0.0]</td>\n",
              "      <td>(-0.002, 0.0]</td>\n",
              "      <td>0</td>\n",
              "      <td>1.068732</td>\n",
              "      <td>-0.491161</td>\n",
              "      <td>0.538239</td>\n",
              "      <td>-0.123598</td>\n",
              "      <td>0.017534</td>\n",
              "      <td>-0.351146</td>\n",
              "      <td>0.384389</td>\n",
              "      <td>-0.261145</td>\n",
              "      <td>0.285051</td>\n",
              "      <td>0.145361</td>\n",
              "    </tr>\n",
              "    <tr>\n",
              "      <th>13</th>\n",
              "      <td>0</td>\n",
              "      <td>(-0.002, 0.05]</td>\n",
              "      <td>(39.0, 48.0]</td>\n",
              "      <td>(-0.002, 0.0]</td>\n",
              "      <td>(0.05, 0.3]</td>\n",
              "      <td>(7373.25, 1794060.0]</td>\n",
              "      <td>(12.0, 57.0]</td>\n",
              "      <td>(-0.002, 0.0]</td>\n",
              "      <td>(1.0, 3.0]</td>\n",
              "      <td>(-0.002, 0.0]</td>\n",
              "      <td>(1.0, 2.0]</td>\n",
              "      <td>0</td>\n",
              "      <td>1.365560</td>\n",
              "      <td>-0.238303</td>\n",
              "      <td>0.538239</td>\n",
              "      <td>0.123321</td>\n",
              "      <td>0.368569</td>\n",
              "      <td>0.001339</td>\n",
              "      <td>0.384389</td>\n",
              "      <td>0.149293</td>\n",
              "      <td>0.285051</td>\n",
              "      <td>-0.191095</td>\n",
              "    </tr>\n",
              "    <tr>\n",
              "      <th>20</th>\n",
              "      <td>0</td>\n",
              "      <td>(0.2, 0.95]</td>\n",
              "      <td>(20.999, 39.0]</td>\n",
              "      <td>(-0.002, 0.0]</td>\n",
              "      <td>(0.05, 0.3]</td>\n",
              "      <td>(-0.001, 3900.0]</td>\n",
              "      <td>(-0.001, 4.0]</td>\n",
              "      <td>(-0.002, 0.0]</td>\n",
              "      <td>(-0.002, 0.0]</td>\n",
              "      <td>(-0.002, 0.0]</td>\n",
              "      <td>(-0.002, 0.0]</td>\n",
              "      <td>0</td>\n",
              "      <td>-0.288164</td>\n",
              "      <td>-0.491161</td>\n",
              "      <td>0.538239</td>\n",
              "      <td>0.123321</td>\n",
              "      <td>-0.328794</td>\n",
              "      <td>-0.351146</td>\n",
              "      <td>0.384389</td>\n",
              "      <td>-0.261145</td>\n",
              "      <td>0.285051</td>\n",
              "      <td>0.145361</td>\n",
              "    </tr>\n",
              "    <tr>\n",
              "      <th>25</th>\n",
              "      <td>0</td>\n",
              "      <td>(-0.002, 0.05]</td>\n",
              "      <td>(56.0, 65.0]</td>\n",
              "      <td>(-0.002, 0.0]</td>\n",
              "      <td>(0.05, 0.3]</td>\n",
              "      <td>(-0.001, 3900.0]</td>\n",
              "      <td>(6.0, 9.0]</td>\n",
              "      <td>(-0.002, 0.0]</td>\n",
              "      <td>(0.0, 1.0]</td>\n",
              "      <td>(-0.002, 0.0]</td>\n",
              "      <td>(-0.002, 0.0]</td>\n",
              "      <td>0</td>\n",
              "      <td>1.365560</td>\n",
              "      <td>0.412348</td>\n",
              "      <td>0.538239</td>\n",
              "      <td>0.123321</td>\n",
              "      <td>-0.328794</td>\n",
              "      <td>0.230913</td>\n",
              "      <td>0.384389</td>\n",
              "      <td>0.235830</td>\n",
              "      <td>0.285051</td>\n",
              "      <td>0.145361</td>\n",
              "    </tr>\n",
              "  </tbody>\n",
              "</table>\n",
              "</div>"
            ],
            "text/plain": [
              "    SeriousDlqin2yrs  ... NumberOfDependents_woe\n",
              "7                  0  ...               0.145361\n",
              "9                  0  ...               0.145361\n",
              "13                 0  ...              -0.191095\n",
              "20                 0  ...               0.145361\n",
              "25                 0  ...               0.145361\n",
              "\n",
              "[5 rows x 22 columns]"
            ]
          },
          "metadata": {
            "tags": []
          },
          "execution_count": 32
        }
      ]
    },
    {
      "cell_type": "markdown",
      "metadata": {
        "id": "_VEeaY07_VJd",
        "colab_type": "text"
      },
      "source": [
        "### Bin Wise Variable scores"
      ]
    },
    {
      "cell_type": "code",
      "metadata": {
        "id": "FrZpnEyL_VJf",
        "colab_type": "code",
        "colab": {}
      },
      "source": [
        "score_list = []\n",
        "dev_binned_df_3 = dev_binned_df_3.dropna()\n",
        "for i, variable in enumerate(var_cols):\n",
        "    for val in dev_binned_df_3[variable+'_woe'].unique():\n",
        "#         try:\n",
        "        temp_list = []\n",
        "        temp_list.append(variable)\n",
        "        _bin = dev_binned_df_3[dev_binned_df_3[variable+'_woe']==val][variable].mode().values[0]\n",
        "#             if isinstance(_bin, Interval):\n",
        "#                 _bin = (_bin.left, _bin.right)\n",
        "        temp_list.append(_bin)\n",
        "        temp_list.append((-val*sk_model.coef_[0][i] +\\\n",
        "                                     sk_model.intercept_/len(var_cols))*20/np.log(2) + \\\n",
        "                                    offset/len(var_cols))\n",
        "        score_list.append(pd.Series(temp_list))\n",
        "#         except:\n",
        "#             pass\n",
        "      "
      ],
      "execution_count": 0,
      "outputs": []
    },
    {
      "cell_type": "code",
      "metadata": {
        "id": "7wkIf9bZ_VJn",
        "colab_type": "code",
        "colab": {
          "base_uri": "https://localhost:8080/",
          "height": 758
        },
        "outputId": "01073eba-f988-434c-9989-ce3b8d2f39f3"
      },
      "source": [
        "score_df = pd.concat(score_list, axis=1).T\n",
        "score_df.columns = ['variable', 'bin', 'score']\n",
        "score_df['left'] = score_df['bin'].apply(lambda x:x if (isinstance(x, np.int64) or isinstance(x, np.float64)) else x.left)\n",
        "some_df = score_df.sort_values(by=['variable', 'left'], ascending=True).drop(columns=['left'])\n",
        "# some_df.to_csv('tt.csv')\n",
        "some_df['score'] = some_df['score'].apply(lambda x: x[0].round(1))\n",
        "some_df"
      ],
      "execution_count": 34,
      "outputs": [
        {
          "output_type": "execute_result",
          "data": {
            "text/html": [
              "<div>\n",
              "<style scoped>\n",
              "    .dataframe tbody tr th:only-of-type {\n",
              "        vertical-align: middle;\n",
              "    }\n",
              "\n",
              "    .dataframe tbody tr th {\n",
              "        vertical-align: top;\n",
              "    }\n",
              "\n",
              "    .dataframe thead th {\n",
              "        text-align: right;\n",
              "    }\n",
              "</style>\n",
              "<table border=\"1\" class=\"dataframe\">\n",
              "  <thead>\n",
              "    <tr style=\"text-align: right;\">\n",
              "      <th></th>\n",
              "      <th>variable</th>\n",
              "      <th>bin</th>\n",
              "      <th>score</th>\n",
              "    </tr>\n",
              "  </thead>\n",
              "  <tbody>\n",
              "    <tr>\n",
              "      <th>14</th>\n",
              "      <td>MonthlyIncome</td>\n",
              "      <td>(-0.001, 3900.0]</td>\n",
              "      <td>55.4</td>\n",
              "    </tr>\n",
              "    <tr>\n",
              "      <th>12</th>\n",
              "      <td>MonthlyIncome</td>\n",
              "      <td>(3900.0, 5400.0]</td>\n",
              "      <td>59.0</td>\n",
              "    </tr>\n",
              "    <tr>\n",
              "      <th>15</th>\n",
              "      <td>MonthlyIncome</td>\n",
              "      <td>(5400.0, 7373.25]</td>\n",
              "      <td>59.6</td>\n",
              "    </tr>\n",
              "    <tr>\n",
              "      <th>13</th>\n",
              "      <td>MonthlyIncome</td>\n",
              "      <td>(7373.25, 1794060.0]</td>\n",
              "      <td>62.7</td>\n",
              "    </tr>\n",
              "    <tr>\n",
              "      <th>20</th>\n",
              "      <td>NumberOfDependents</td>\n",
              "      <td>(-0.002, 0.0]</td>\n",
              "      <td>60.1</td>\n",
              "    </tr>\n",
              "    <tr>\n",
              "      <th>22</th>\n",
              "      <td>NumberOfDependents</td>\n",
              "      <td>(0.0, 1.0]</td>\n",
              "      <td>58.0</td>\n",
              "    </tr>\n",
              "    <tr>\n",
              "      <th>21</th>\n",
              "      <td>NumberOfDependents</td>\n",
              "      <td>(1.0, 2.0]</td>\n",
              "      <td>57.3</td>\n",
              "    </tr>\n",
              "    <tr>\n",
              "      <th>23</th>\n",
              "      <td>NumberOfDependents</td>\n",
              "      <td>(2.0, 20.0]</td>\n",
              "      <td>55.8</td>\n",
              "    </tr>\n",
              "    <tr>\n",
              "      <th>9</th>\n",
              "      <td>NumberOfTime30_59DaysPastDueNotWorse</td>\n",
              "      <td>(-0.002, 0.0]</td>\n",
              "      <td>67.7</td>\n",
              "    </tr>\n",
              "    <tr>\n",
              "      <th>10</th>\n",
              "      <td>NumberOfTime30_59DaysPastDueNotWorse</td>\n",
              "      <td>(0.0, 1.0]</td>\n",
              "      <td>44.3</td>\n",
              "    </tr>\n",
              "    <tr>\n",
              "      <th>11</th>\n",
              "      <td>NumberOfTime30_59DaysPastDueNotWorse</td>\n",
              "      <td>(1.0, 98.0]</td>\n",
              "      <td>27.7</td>\n",
              "    </tr>\n",
              "    <tr>\n",
              "      <th>18</th>\n",
              "      <td>NumberOfTime60_89DaysPastDueNotWorse</td>\n",
              "      <td>(-0.002, 0.0]</td>\n",
              "      <td>62.3</td>\n",
              "    </tr>\n",
              "    <tr>\n",
              "      <th>19</th>\n",
              "      <td>NumberOfTime60_89DaysPastDueNotWorse</td>\n",
              "      <td>(0.0, 98.0]</td>\n",
              "      <td>34.2</td>\n",
              "    </tr>\n",
              "    <tr>\n",
              "      <th>16</th>\n",
              "      <td>NumberOfTimes90DaysLate</td>\n",
              "      <td>(-0.002, 0.0]</td>\n",
              "      <td>64.8</td>\n",
              "    </tr>\n",
              "    <tr>\n",
              "      <th>17</th>\n",
              "      <td>NumberOfTimes90DaysLate</td>\n",
              "      <td>(0.0, 98.0]</td>\n",
              "      <td>23.6</td>\n",
              "    </tr>\n",
              "    <tr>\n",
              "      <th>2</th>\n",
              "      <td>RevolvingUtilizationOfUnsecuredLines</td>\n",
              "      <td>(-0.002, 0.05]</td>\n",
              "      <td>83.0</td>\n",
              "    </tr>\n",
              "    <tr>\n",
              "      <th>1</th>\n",
              "      <td>RevolvingUtilizationOfUnsecuredLines</td>\n",
              "      <td>(0.05, 0.2]</td>\n",
              "      <td>77.7</td>\n",
              "    </tr>\n",
              "    <tr>\n",
              "      <th>0</th>\n",
              "      <td>RevolvingUtilizationOfUnsecuredLines</td>\n",
              "      <td>(0.2, 0.95]</td>\n",
              "      <td>53.8</td>\n",
              "    </tr>\n",
              "    <tr>\n",
              "      <th>3</th>\n",
              "      <td>RevolvingUtilizationOfUnsecuredLines</td>\n",
              "      <td>(0.95, 1.0]</td>\n",
              "      <td>33.8</td>\n",
              "    </tr>\n",
              "    <tr>\n",
              "      <th>5</th>\n",
              "      <td>age</td>\n",
              "      <td>(20.999, 39.0]</td>\n",
              "      <td>52.5</td>\n",
              "    </tr>\n",
              "    <tr>\n",
              "      <th>6</th>\n",
              "      <td>age</td>\n",
              "      <td>(39.0, 48.0]</td>\n",
              "      <td>55.8</td>\n",
              "    </tr>\n",
              "    <tr>\n",
              "      <th>8</th>\n",
              "      <td>age</td>\n",
              "      <td>(48.0, 56.0]</td>\n",
              "      <td>57.9</td>\n",
              "    </tr>\n",
              "    <tr>\n",
              "      <th>4</th>\n",
              "      <td>age</td>\n",
              "      <td>(56.0, 65.0]</td>\n",
              "      <td>64.2</td>\n",
              "    </tr>\n",
              "    <tr>\n",
              "      <th>7</th>\n",
              "      <td>age</td>\n",
              "      <td>(65.0, 109.0]</td>\n",
              "      <td>72.3</td>\n",
              "    </tr>\n",
              "  </tbody>\n",
              "</table>\n",
              "</div>"
            ],
            "text/plain": [
              "                                variable                   bin  score\n",
              "14                         MonthlyIncome      (-0.001, 3900.0]   55.4\n",
              "12                         MonthlyIncome      (3900.0, 5400.0]   59.0\n",
              "15                         MonthlyIncome     (5400.0, 7373.25]   59.6\n",
              "13                         MonthlyIncome  (7373.25, 1794060.0]   62.7\n",
              "20                    NumberOfDependents         (-0.002, 0.0]   60.1\n",
              "22                    NumberOfDependents            (0.0, 1.0]   58.0\n",
              "21                    NumberOfDependents            (1.0, 2.0]   57.3\n",
              "23                    NumberOfDependents           (2.0, 20.0]   55.8\n",
              "9   NumberOfTime30_59DaysPastDueNotWorse         (-0.002, 0.0]   67.7\n",
              "10  NumberOfTime30_59DaysPastDueNotWorse            (0.0, 1.0]   44.3\n",
              "11  NumberOfTime30_59DaysPastDueNotWorse           (1.0, 98.0]   27.7\n",
              "18  NumberOfTime60_89DaysPastDueNotWorse         (-0.002, 0.0]   62.3\n",
              "19  NumberOfTime60_89DaysPastDueNotWorse           (0.0, 98.0]   34.2\n",
              "16               NumberOfTimes90DaysLate         (-0.002, 0.0]   64.8\n",
              "17               NumberOfTimes90DaysLate           (0.0, 98.0]   23.6\n",
              "2   RevolvingUtilizationOfUnsecuredLines        (-0.002, 0.05]   83.0\n",
              "1   RevolvingUtilizationOfUnsecuredLines           (0.05, 0.2]   77.7\n",
              "0   RevolvingUtilizationOfUnsecuredLines           (0.2, 0.95]   53.8\n",
              "3   RevolvingUtilizationOfUnsecuredLines           (0.95, 1.0]   33.8\n",
              "5                                    age        (20.999, 39.0]   52.5\n",
              "6                                    age          (39.0, 48.0]   55.8\n",
              "8                                    age          (48.0, 56.0]   57.9\n",
              "4                                    age          (56.0, 65.0]   64.2\n",
              "7                                    age         (65.0, 109.0]   72.3"
            ]
          },
          "metadata": {
            "tags": []
          },
          "execution_count": 34
        }
      ]
    },
    {
      "cell_type": "code",
      "metadata": {
        "id": "MkSgqnFZVKPS",
        "colab_type": "code",
        "colab": {
          "base_uri": "https://localhost:8080/",
          "height": 134
        },
        "outputId": "94fbc2d9-9207-45d7-ce6f-0aa776d84191"
      },
      "source": [
        "for var in var_cols:\n",
        "  print(var)"
      ],
      "execution_count": 36,
      "outputs": [
        {
          "output_type": "stream",
          "text": [
            "RevolvingUtilizationOfUnsecuredLines\n",
            "age\n",
            "NumberOfTime30_59DaysPastDueNotWorse\n",
            "MonthlyIncome\n",
            "NumberOfTimes90DaysLate\n",
            "NumberOfTime60_89DaysPastDueNotWorse\n",
            "NumberOfDependents\n"
          ],
          "name": "stdout"
        }
      ]
    },
    {
      "cell_type": "code",
      "metadata": {
        "id": "Oa_8m7ET0yhB",
        "colab_type": "code",
        "colab": {}
      },
      "source": [
        ""
      ],
      "execution_count": 0,
      "outputs": []
    }
  ]
}