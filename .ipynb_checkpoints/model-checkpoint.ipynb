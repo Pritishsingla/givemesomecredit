{
 "cells": [
  {
   "cell_type": "code",
   "execution_count": 112,
   "metadata": {},
   "outputs": [
    {
     "name": "stdout",
     "output_type": "stream",
     "text": [
      "The autoreload extension is already loaded. To reload it, use:\n",
      "  %reload_ext autoreload\n"
     ]
    }
   ],
   "source": [
    "%load_ext autoreload\n",
    "%autoreload 2\n",
    "\n",
    "import pandas as pd\n",
    "import numpy as np\n",
    "import matplotlib.pyplot as plt\n",
    "\n",
    "import time\n",
    "import os\n",
    "import sys\n",
    "import warnings\n",
    "warnings.filterwarnings('ignore')\n",
    "\n",
    "%matplotlib inline"
   ]
  },
  {
   "cell_type": "markdown",
   "metadata": {},
   "source": [
    "## Loading Data"
   ]
  },
  {
   "cell_type": "code",
   "execution_count": 113,
   "metadata": {},
   "outputs": [
    {
     "data": {
      "text/html": [
       "<div>\n",
       "<style scoped>\n",
       "    .dataframe tbody tr th:only-of-type {\n",
       "        vertical-align: middle;\n",
       "    }\n",
       "\n",
       "    .dataframe tbody tr th {\n",
       "        vertical-align: top;\n",
       "    }\n",
       "\n",
       "    .dataframe thead th {\n",
       "        text-align: right;\n",
       "    }\n",
       "</style>\n",
       "<table border=\"1\" class=\"dataframe\">\n",
       "  <thead>\n",
       "    <tr style=\"text-align: right;\">\n",
       "      <th></th>\n",
       "      <th>SeriousDlqin2yrs</th>\n",
       "      <th>RevolvingUtilizationOfUnsecuredLines</th>\n",
       "      <th>age</th>\n",
       "      <th>NumberOfTime30-59DaysPastDueNotWorse</th>\n",
       "      <th>DebtRatio</th>\n",
       "      <th>MonthlyIncome</th>\n",
       "      <th>NumberOfOpenCreditLinesAndLoans</th>\n",
       "      <th>NumberOfTimes90DaysLate</th>\n",
       "      <th>NumberRealEstateLoansOrLines</th>\n",
       "      <th>NumberOfTime60-89DaysPastDueNotWorse</th>\n",
       "      <th>NumberOfDependents</th>\n",
       "    </tr>\n",
       "  </thead>\n",
       "  <tbody>\n",
       "    <tr>\n",
       "      <th>1</th>\n",
       "      <td>1</td>\n",
       "      <td>0.766127</td>\n",
       "      <td>45</td>\n",
       "      <td>2</td>\n",
       "      <td>0.802982</td>\n",
       "      <td>9120.0</td>\n",
       "      <td>13</td>\n",
       "      <td>0</td>\n",
       "      <td>6</td>\n",
       "      <td>0</td>\n",
       "      <td>2.0</td>\n",
       "    </tr>\n",
       "    <tr>\n",
       "      <th>2</th>\n",
       "      <td>0</td>\n",
       "      <td>0.957151</td>\n",
       "      <td>40</td>\n",
       "      <td>0</td>\n",
       "      <td>0.121876</td>\n",
       "      <td>2600.0</td>\n",
       "      <td>4</td>\n",
       "      <td>0</td>\n",
       "      <td>0</td>\n",
       "      <td>0</td>\n",
       "      <td>1.0</td>\n",
       "    </tr>\n",
       "    <tr>\n",
       "      <th>3</th>\n",
       "      <td>0</td>\n",
       "      <td>0.658180</td>\n",
       "      <td>38</td>\n",
       "      <td>1</td>\n",
       "      <td>0.085113</td>\n",
       "      <td>3042.0</td>\n",
       "      <td>2</td>\n",
       "      <td>1</td>\n",
       "      <td>0</td>\n",
       "      <td>0</td>\n",
       "      <td>0.0</td>\n",
       "    </tr>\n",
       "    <tr>\n",
       "      <th>4</th>\n",
       "      <td>0</td>\n",
       "      <td>0.233810</td>\n",
       "      <td>30</td>\n",
       "      <td>0</td>\n",
       "      <td>0.036050</td>\n",
       "      <td>3300.0</td>\n",
       "      <td>5</td>\n",
       "      <td>0</td>\n",
       "      <td>0</td>\n",
       "      <td>0</td>\n",
       "      <td>0.0</td>\n",
       "    </tr>\n",
       "    <tr>\n",
       "      <th>5</th>\n",
       "      <td>0</td>\n",
       "      <td>0.907239</td>\n",
       "      <td>49</td>\n",
       "      <td>1</td>\n",
       "      <td>0.024926</td>\n",
       "      <td>63588.0</td>\n",
       "      <td>7</td>\n",
       "      <td>0</td>\n",
       "      <td>1</td>\n",
       "      <td>0</td>\n",
       "      <td>0.0</td>\n",
       "    </tr>\n",
       "  </tbody>\n",
       "</table>\n",
       "</div>"
      ],
      "text/plain": [
       "   SeriousDlqin2yrs  RevolvingUtilizationOfUnsecuredLines  age  \\\n",
       "1                 1                              0.766127   45   \n",
       "2                 0                              0.957151   40   \n",
       "3                 0                              0.658180   38   \n",
       "4                 0                              0.233810   30   \n",
       "5                 0                              0.907239   49   \n",
       "\n",
       "   NumberOfTime30-59DaysPastDueNotWorse  DebtRatio  MonthlyIncome  \\\n",
       "1                                     2   0.802982         9120.0   \n",
       "2                                     0   0.121876         2600.0   \n",
       "3                                     1   0.085113         3042.0   \n",
       "4                                     0   0.036050         3300.0   \n",
       "5                                     1   0.024926        63588.0   \n",
       "\n",
       "   NumberOfOpenCreditLinesAndLoans  NumberOfTimes90DaysLate  \\\n",
       "1                               13                        0   \n",
       "2                                4                        0   \n",
       "3                                2                        1   \n",
       "4                                5                        0   \n",
       "5                                7                        0   \n",
       "\n",
       "   NumberRealEstateLoansOrLines  NumberOfTime60-89DaysPastDueNotWorse  \\\n",
       "1                             6                                     0   \n",
       "2                             0                                     0   \n",
       "3                             0                                     0   \n",
       "4                             0                                     0   \n",
       "5                             1                                     0   \n",
       "\n",
       "   NumberOfDependents  \n",
       "1                 2.0  \n",
       "2                 1.0  \n",
       "3                 0.0  \n",
       "4                 0.0  \n",
       "5                 0.0  "
      ]
     },
     "execution_count": 113,
     "metadata": {},
     "output_type": "execute_result"
    }
   ],
   "source": [
    "data = pd.read_csv('data/cs-training.csv', index_col=0)\n",
    "data.head()"
   ]
  },
  {
   "cell_type": "code",
   "execution_count": 114,
   "metadata": {},
   "outputs": [],
   "source": [
    "target_col = 'SeriousDlqin2yrs'"
   ]
  },
  {
   "cell_type": "markdown",
   "metadata": {},
   "source": [
    "## Splitting into Training and Dev Sets"
   ]
  },
  {
   "cell_type": "code",
   "execution_count": 115,
   "metadata": {},
   "outputs": [
    {
     "data": {
      "text/plain": [
       "(0    0.933217\n",
       " 1    0.066783\n",
       " Name: SeriousDlqin2yrs, dtype: float64, 0    0.932933\n",
       " 1    0.067067\n",
       " Name: SeriousDlqin2yrs, dtype: float64)"
      ]
     },
     "execution_count": 115,
     "metadata": {},
     "output_type": "execute_result"
    }
   ],
   "source": [
    "train = data.sample(n=120000, random_state=3)\n",
    "dev = data[~data.index.isin(train.index)]\n",
    "train[target_col].value_counts(normalize=True), dev[target_col].value_counts(normalize=True)"
   ]
  },
  {
   "cell_type": "markdown",
   "metadata": {},
   "source": [
    "## Cleaning Data"
   ]
  },
  {
   "cell_type": "code",
   "execution_count": 116,
   "metadata": {},
   "outputs": [],
   "source": [
    "def clean_data(df, income_mv, dependent_mv):\n",
    "    \"\"\"\n",
    "    Imputes missing values\n",
    "    Floors & ceils the outliers\n",
    "    Combines smaller categories into a single category\n",
    "    \"\"\"\n",
    "    \n",
    "    # RevolvingUtilizationOfUnsecuredLines\n",
    "    df.loc[df['RevolvingUtilizationOfUnsecuredLines'] >1, 'RevolvingUtilizationOfUnsecuredLines'] = 1\n",
    "    \n",
    "    # age\n",
    "    df.loc[df['age']< 21, 'age'] = 21\n",
    "    \n",
    "    # NumberOfTime30-59DaysPastDueNotWorse\n",
    "    df.loc[df['NumberOfTime30-59DaysPastDueNotWorse']>=2, 'NumberOfTime30-59DaysPastDueNotWorse'] = 2\n",
    "    \n",
    "    # NumberOfTime60-89DaysPastDueNotWorse\n",
    "    df.loc[df['NumberOfTime60-89DaysPastDueNotWorse']>=1, 'NumberOfTime60-89DaysPastDueNotWorse'] = 1\n",
    "    \n",
    "    # NumberOfTimes90DaysLate\n",
    "    df.loc[df['NumberOfTimes90DaysLate']>=1, 'NumberOfTimes90DaysLate'] = 1\n",
    "    \n",
    "    # MonthlyIncome\n",
    "    df['MonthlyIncome'] = df['MonthlyIncome'].fillna(income_mv)\n",
    "    \n",
    "    # NumberOfOpenCreditLinesAndLoans\n",
    "\n",
    "    # NumberRealEstateLoansOrLines\n",
    "    df.loc[df['NumberRealEstateLoansOrLines']>=3, 'NumberRealEstateLoansOrLines'] = 3\n",
    "    \n",
    "    # NumberOfDependents\n",
    "    df.loc[df['NumberOfDependents']>=3, 'NumberOfDependents'] = 3\n",
    "    df['NumberOfDependents'] = df['NumberOfDependents'].fillna(dependent_mv)\n",
    "    \n",
    "    return df\n",
    "\n"
   ]
  },
  {
   "cell_type": "code",
   "execution_count": 117,
   "metadata": {},
   "outputs": [],
   "source": [
    "train = clean_data(train, 5400, 0)\n",
    "dev = clean_data(dev, 5400, 0)"
   ]
  },
  {
   "cell_type": "code",
   "execution_count": 118,
   "metadata": {},
   "outputs": [],
   "source": [
    "def get_bins_from_training_data(df):\n",
    "    binsdf = {}\n",
    "    _, binsdf['RevolvingUtilizationOfUnsecuredLines'] = pd.qcut(df['RevolvingUtilizationOfUnsecuredLines'], 5, retbins=True, labels=None)\n",
    "    _, binsdf['DebtRatio'] = pd.qcut(df['DebtRatio'], 5, retbins=True, labels=None)\n",
    "    _, binsdf['age'] = pd.qcut(df['age'], 5, retbins=True, labels=None)\n",
    "#     binsdf['NumberOfTime30-59DaysPastDueNotWorse'] = df['NumberOfTime30-59DaysPastDueNotWorse'].copy(deep=True)\n",
    "#     binsdf['NumberOfTime60-89DaysPastDueNotWorse'] = df['NumberOfTime60-89DaysPastDueNotWorse'].copy(deep=True)\n",
    "#     binsdf['NumberOfTimes90DaysLate'] = df['NumberOfTimes90DaysLate'].copy(deep=True)\n",
    "    _, binsdf['MonthlyIncome'] = pd.qcut(df['MonthlyIncome'], 4, retbins=True, labels=None)\n",
    "    _, binsdf['NumberOfOpenCreditLinesAndLoans'] = pd.qcut(df['NumberOfOpenCreditLinesAndLoans'], 5, retbins=True, labels=None)\n",
    "#     binsdf['NumberRealEstateLoansOrLines'] = df['NumberOfTimes90DaysLate'].copy(deep=True)\n",
    "#     binsdf['NumberOfDependents'] = df['NumberOfTimes90DaysLate'].copy(deep=True)\n",
    "    return binsdf\n",
    "\n",
    "binsdf = get_bins_from_training_data(train)"
   ]
  },
  {
   "cell_type": "code",
   "execution_count": 119,
   "metadata": {},
   "outputs": [
    {
     "data": {
      "text/plain": [
       "numpy.ndarray"
      ]
     },
     "execution_count": 119,
     "metadata": {},
     "output_type": "execute_result"
    }
   ],
   "source": [
    "type(binsdf['age'])"
   ]
  },
  {
   "cell_type": "code",
   "execution_count": 120,
   "metadata": {},
   "outputs": [],
   "source": [
    "def create_bins(df, binsdf):\n",
    "    retdf = pd.DataFrame()\n",
    "    for column in df.columns:\n",
    "        if column in binsdf.keys():\n",
    "            retdf[column] = pd.cut(df[column], bins=binsdf[column], labels=False, include_lowest=True)\n",
    "        else:\n",
    "            retdf[column] = df[column].copy(deep=True)\n",
    "    return retdf\n",
    "\n",
    "train_binned_df = create_bins(train, binsdf)\n",
    "dev_binned_df = create_bins(dev, binsdf)"
   ]
  },
  {
   "cell_type": "code",
   "execution_count": 121,
   "metadata": {},
   "outputs": [],
   "source": [
    "def weight_of_evidence(df, labelcol, col, categorical_col=None):\n",
    "    if categorical_col is None:\n",
    "        categorical_col = col\n",
    "    \n",
    "    tempdf = df.groupby(by=categorical_col).agg({labelcol:{\n",
    "                                                        '_counts': 'size',\n",
    "                                                        '_bads': lambda x: len(x[x==1]),\n",
    "                                                        '_goods': lambda x: len(x[x==0])\n",
    "                                                    }})\n",
    "    tempdf.columns  = [col+ column for column in tempdf.columns.droplevel(0)]\n",
    "    tempdf[col+'_distri_tot'] = tempdf[col+'_counts']/(tempdf[col+'_counts'].sum())\n",
    "    tempdf[col+'_distri_bads'] = tempdf[col+'_bads']/(tempdf[col+'_bads'].sum())\n",
    "    tempdf[col+'_distri_goods'] = tempdf[col+'_goods']/(tempdf[col+'_goods'].sum())\n",
    "    tempdf[col+'_bad_rate'] = tempdf[col+'_bads']/tempdf[col+'_counts']\n",
    "    tempdf[col+'_woe'] = np.log(tempdf[col+'_distri_goods']) - np.log(tempdf[col+'_distri_bads'])\n",
    "    return tempdf\n",
    "\n",
    "\n",
    "def information_value(df, col):\n",
    "    df['diff_col'] = df[col+'_distri_goods'] - df[col+'_distri_bads']\n",
    "    return np.sum(df['diff_col']*df[col+'_woe'])\n"
   ]
  },
  {
   "cell_type": "code",
   "execution_count": 122,
   "metadata": {},
   "outputs": [],
   "source": [
    "def get_woe_from_training_data(binned_df):\n",
    "    woe_dict = {}\n",
    "    for column in binned_df.columns:\n",
    "        if column == target_col:\n",
    "            pass\n",
    "        else:\n",
    "            woe_df = weight_of_evidence(binned_df, target_col, column)\n",
    "            woe_column = [col for col in woe_df.columns if 'woe' in col][0]\n",
    "            woe_dict[column] = dict(woe_df[woe_column])\n",
    "    return woe_dict\n",
    " \n",
    "\n",
    "woe = get_woe_from_training_data(create_bins(train, binsdf))"
   ]
  },
  {
   "cell_type": "code",
   "execution_count": 123,
   "metadata": {},
   "outputs": [],
   "source": [
    "def create_woe(binned_df, woe):\n",
    "    for column in woe.keys():\n",
    "        binned_df[column] = binned_df[column].map(woe[column])\n",
    "    return binned_df\n",
    "\n",
    "train_woe = create_woe(train_binned_df, woe)\n",
    "dev_woe =  create_woe(dev_binned_df, woe)"
   ]
  },
  {
   "cell_type": "code",
   "execution_count": 124,
   "metadata": {},
   "outputs": [
    {
     "data": {
      "text/plain": [
       "Index(['SeriousDlqin2yrs', 'RevolvingUtilizationOfUnsecuredLines', 'age',\n",
       "       'NumberOfTime30_59DaysPastDueNotWorse', 'DebtRatio', 'MonthlyIncome',\n",
       "       'NumberOfOpenCreditLinesAndLoans', 'NumberOfTimes90DaysLate',\n",
       "       'NumberRealEstateLoansOrLines', 'NumberOfTime60_89DaysPastDueNotWorse',\n",
       "       'NumberOfDependents'],\n",
       "      dtype='object')"
      ]
     },
     "execution_count": 124,
     "metadata": {},
     "output_type": "execute_result"
    }
   ],
   "source": [
    "train_woe.columns = [col.replace('-', '_') for col in train_woe.columns]\n",
    "dev_woe.columns = [col.replace('-', '_') for col in dev_woe.columns]\n",
    "train_woe.columns"
   ]
  },
  {
   "cell_type": "markdown",
   "metadata": {},
   "source": [
    "## Model"
   ]
  },
  {
   "cell_type": "code",
   "execution_count": 125,
   "metadata": {},
   "outputs": [],
   "source": [
    "import statsmodels.api as sm\n",
    "import statsmodels.formula.api as smf"
   ]
  },
  {
   "cell_type": "code",
   "execution_count": 126,
   "metadata": {},
   "outputs": [],
   "source": [
    "formula = \" SeriousDlqin2yrs ~ \"\\\n",
    "            +\"C(RevolvingUtilizationOfUnsecuredLines) +\"\\\n",
    "            +\"C(age) +\"\\\n",
    "            +\"C(DebtRatio) + \"\\\n",
    "            +\"C(MonthlyIncome) + \"\\\n",
    "            +\"C(NumberOfTime30_59DaysPastDueNotWorse) +\"\\\n",
    "            +\"C(NumberOfTime60_89DaysPastDueNotWorse) +\"\\\n",
    "            +\"C(NumberOfTimes90DaysLate) +\"\\\n",
    "            +\"C(NumberOfOpenCreditLinesAndLoans) +\"\\\n",
    "            +\"C(NumberRealEstateLoansOrLines) +\"\\\n",
    "            +\"C(NumberOfDependents)\"\n",
    "\n",
    "func=smf.glm(formula=formula,data=train_woe,family=sm.families.Binomial()).fit(maxiter=1000)"
   ]
  },
  {
   "cell_type": "code",
   "execution_count": 127,
   "metadata": {},
   "outputs": [
    {
     "data": {
      "text/html": [
       "<table class=\"simpletable\">\n",
       "<caption>Generalized Linear Model Regression Results</caption>\n",
       "<tr>\n",
       "  <th>Dep. Variable:</th>  <td>SeriousDlqin2yrs</td> <th>  No. Observations:  </th>  <td>120000</td>  \n",
       "</tr>\n",
       "<tr>\n",
       "  <th>Model:</th>                 <td>GLM</td>       <th>  Df Residuals:      </th>  <td>119970</td>  \n",
       "</tr>\n",
       "<tr>\n",
       "  <th>Model Family:</th>       <td>Binomial</td>     <th>  Df Model:          </th>  <td>    29</td>  \n",
       "</tr>\n",
       "<tr>\n",
       "  <th>Link Function:</th>        <td>logit</td>      <th>  Scale:             </th> <td>  1.0000</td> \n",
       "</tr>\n",
       "<tr>\n",
       "  <th>Method:</th>               <td>IRLS</td>       <th>  Log-Likelihood:    </th> <td> -22029.</td> \n",
       "</tr>\n",
       "<tr>\n",
       "  <th>Date:</th>           <td>Mon, 06 Jan 2020</td> <th>  Deviance:          </th> <td>  44057.</td> \n",
       "</tr>\n",
       "<tr>\n",
       "  <th>Time:</th>               <td>06:37:19</td>     <th>  Pearson chi2:      </th> <td>1.04e+05</td> \n",
       "</tr>\n",
       "<tr>\n",
       "  <th>No. Iterations:</th>         <td>7</td>        <th>  Covariance Type:   </th> <td>nonrobust</td>\n",
       "</tr>\n",
       "</table>\n",
       "<table class=\"simpletable\">\n",
       "<tr>\n",
       "                                  <td></td>                                    <th>coef</th>     <th>std err</th>      <th>z</th>      <th>P>|z|</th>  <th>[0.025</th>    <th>0.975]</th>  \n",
       "</tr>\n",
       "<tr>\n",
       "  <th>Intercept</th>                                                        <td>    1.9737</td> <td>    0.072</td> <td>   27.249</td> <td> 0.000</td> <td>    1.832</td> <td>    2.116</td>\n",
       "</tr>\n",
       "<tr>\n",
       "  <th>C(RevolvingUtilizationOfUnsecuredLines)[T.-0.041499213989041106]</th> <td>   -0.7483</td> <td>    0.034</td> <td>  -21.774</td> <td> 0.000</td> <td>   -0.816</td> <td>   -0.681</td>\n",
       "</tr>\n",
       "<tr>\n",
       "  <th>C(RevolvingUtilizationOfUnsecuredLines)[T.0.8562372879953]</th>       <td>   -1.3472</td> <td>    0.045</td> <td>  -29.691</td> <td> 0.000</td> <td>   -1.436</td> <td>   -1.258</td>\n",
       "</tr>\n",
       "<tr>\n",
       "  <th>C(RevolvingUtilizationOfUnsecuredLines)[T.1.3002647994670473]</th>    <td>   -1.6286</td> <td>    0.054</td> <td>  -30.355</td> <td> 0.000</td> <td>   -1.734</td> <td>   -1.523</td>\n",
       "</tr>\n",
       "<tr>\n",
       "  <th>C(RevolvingUtilizationOfUnsecuredLines)[T.1.4078195475548518]</th>    <td>   -1.6774</td> <td>    0.056</td> <td>  -29.822</td> <td> 0.000</td> <td>   -1.788</td> <td>   -1.567</td>\n",
       "</tr>\n",
       "<tr>\n",
       "  <th>C(age)[T.-0.2383033567150501]</th>                                    <td>   -0.1120</td> <td>    0.037</td> <td>   -3.041</td> <td> 0.002</td> <td>   -0.184</td> <td>   -0.040</td>\n",
       "</tr>\n",
       "<tr>\n",
       "  <th>C(age)[T.-0.07255814084906453]</th>                                   <td>   -0.1865</td> <td>    0.039</td> <td>   -4.779</td> <td> 0.000</td> <td>   -0.263</td> <td>   -0.110</td>\n",
       "</tr>\n",
       "<tr>\n",
       "  <th>C(age)[T.0.41234782445430396]</th>                                    <td>   -0.4469</td> <td>    0.044</td> <td>  -10.238</td> <td> 0.000</td> <td>   -0.532</td> <td>   -0.361</td>\n",
       "</tr>\n",
       "<tr>\n",
       "  <th>C(age)[T.1.0439252783928006]</th>                                     <td>   -0.6971</td> <td>    0.053</td> <td>  -13.122</td> <td> 0.000</td> <td>   -0.801</td> <td>   -0.593</td>\n",
       "</tr>\n",
       "<tr>\n",
       "  <th>C(DebtRatio)[T.0.07300167695012694]</th>                              <td>   -0.2666</td> <td>    0.040</td> <td>   -6.630</td> <td> 0.000</td> <td>   -0.345</td> <td>   -0.188</td>\n",
       "</tr>\n",
       "<tr>\n",
       "  <th>C(DebtRatio)[T.0.09312639026351777]</th>                              <td>   -0.3909</td> <td>    0.053</td> <td>   -7.398</td> <td> 0.000</td> <td>   -0.494</td> <td>   -0.287</td>\n",
       "</tr>\n",
       "<tr>\n",
       "  <th>C(DebtRatio)[T.0.1580304728356665]</th>                               <td>   -0.3926</td> <td>    0.046</td> <td>   -8.539</td> <td> 0.000</td> <td>   -0.483</td> <td>   -0.302</td>\n",
       "</tr>\n",
       "<tr>\n",
       "  <th>C(DebtRatio)[T.0.19867967101778472]</th>                              <td>   -0.3455</td> <td>    0.049</td> <td>   -7.076</td> <td> 0.000</td> <td>   -0.441</td> <td>   -0.250</td>\n",
       "</tr>\n",
       "<tr>\n",
       "  <th>C(MonthlyIncome)[T.0.01753424106322954]</th>                          <td>   -0.0022</td> <td>    0.037</td> <td>   -0.059</td> <td> 0.953</td> <td>   -0.074</td> <td>    0.070</td>\n",
       "</tr>\n",
       "<tr>\n",
       "  <th>C(MonthlyIncome)[T.0.06979434687288388]</th>                          <td>   -0.1673</td> <td>    0.044</td> <td>   -3.816</td> <td> 0.000</td> <td>   -0.253</td> <td>   -0.081</td>\n",
       "</tr>\n",
       "<tr>\n",
       "  <th>C(MonthlyIncome)[T.0.36856872235274296]</th>                          <td>   -0.3097</td> <td>    0.044</td> <td>   -7.011</td> <td> 0.000</td> <td>   -0.396</td> <td>   -0.223</td>\n",
       "</tr>\n",
       "<tr>\n",
       "  <th>C(NumberOfTime30_59DaysPastDueNotWorse)[T.-0.8913023430781333]</th>   <td>   -0.4422</td> <td>    0.043</td> <td>  -10.396</td> <td> 0.000</td> <td>   -0.526</td> <td>   -0.359</td>\n",
       "</tr>\n",
       "<tr>\n",
       "  <th>C(NumberOfTime30_59DaysPastDueNotWorse)[T.0.5382385208179843]</th>    <td>   -1.2191</td> <td>    0.038</td> <td>  -31.792</td> <td> 0.000</td> <td>   -1.294</td> <td>   -1.144</td>\n",
       "</tr>\n",
       "<tr>\n",
       "  <th>C(NumberOfTime60_89DaysPastDueNotWorse)[T.0.28505120498871983]</th>   <td>   -0.9782</td> <td>    0.037</td> <td>  -26.412</td> <td> 0.000</td> <td>   -1.051</td> <td>   -0.906</td>\n",
       "</tr>\n",
       "<tr>\n",
       "  <th>C(NumberOfTimes90DaysLate)[T.0.3843890237077201]</th>                 <td>   -1.4858</td> <td>    0.035</td> <td>  -42.791</td> <td> 0.000</td> <td>   -1.554</td> <td>   -1.418</td>\n",
       "</tr>\n",
       "<tr>\n",
       "  <th>C(NumberOfOpenCreditLinesAndLoans)[T.0.0013388359373907033]</th>      <td>    0.3984</td> <td>    0.049</td> <td>    8.098</td> <td> 0.000</td> <td>    0.302</td> <td>    0.495</td>\n",
       "</tr>\n",
       "<tr>\n",
       "  <th>C(NumberOfOpenCreditLinesAndLoans)[T.0.11366145882733902]</th>        <td>    0.2036</td> <td>    0.048</td> <td>    4.212</td> <td> 0.000</td> <td>    0.109</td> <td>    0.298</td>\n",
       "</tr>\n",
       "<tr>\n",
       "  <th>C(NumberOfOpenCreditLinesAndLoans)[T.0.12751784361521445]</th>        <td>   -0.0422</td> <td>    0.044</td> <td>   -0.963</td> <td> 0.336</td> <td>   -0.128</td> <td>    0.044</td>\n",
       "</tr>\n",
       "<tr>\n",
       "  <th>C(NumberOfOpenCreditLinesAndLoans)[T.0.23091339882091244]</th>        <td>   -0.0002</td> <td>    0.043</td> <td>   -0.004</td> <td> 0.997</td> <td>   -0.084</td> <td>    0.084</td>\n",
       "</tr>\n",
       "<tr>\n",
       "  <th>C(NumberRealEstateLoansOrLines)[T.-0.23598824544096342]</th>          <td>    0.2050</td> <td>    0.061</td> <td>    3.340</td> <td> 0.001</td> <td>    0.085</td> <td>    0.325</td>\n",
       "</tr>\n",
       "<tr>\n",
       "  <th>C(NumberRealEstateLoansOrLines)[T.0.20668693690726658]</th>           <td>   -0.2447</td> <td>    0.046</td> <td>   -5.263</td> <td> 0.000</td> <td>   -0.336</td> <td>   -0.154</td>\n",
       "</tr>\n",
       "<tr>\n",
       "  <th>C(NumberRealEstateLoansOrLines)[T.0.25301136408726843]</th>           <td>   -0.3000</td> <td>    0.039</td> <td>   -7.776</td> <td> 0.000</td> <td>   -0.376</td> <td>   -0.224</td>\n",
       "</tr>\n",
       "<tr>\n",
       "  <th>C(NumberOfDependents)[T.-0.1910950948896577]</th>                     <td>   -0.1146</td> <td>    0.051</td> <td>   -2.257</td> <td> 0.024</td> <td>   -0.214</td> <td>   -0.015</td>\n",
       "</tr>\n",
       "<tr>\n",
       "  <th>C(NumberOfDependents)[T.-0.09724145713158383]</th>                    <td>   -0.0961</td> <td>    0.049</td> <td>   -1.961</td> <td> 0.050</td> <td>   -0.192</td> <td>-4.69e-05</td>\n",
       "</tr>\n",
       "<tr>\n",
       "  <th>C(NumberOfDependents)[T.0.14536104654819643]</th>                     <td>   -0.1532</td> <td>    0.044</td> <td>   -3.467</td> <td> 0.001</td> <td>   -0.240</td> <td>   -0.067</td>\n",
       "</tr>\n",
       "</table>"
      ],
      "text/plain": [
       "<class 'statsmodels.iolib.summary.Summary'>\n",
       "\"\"\"\n",
       "                 Generalized Linear Model Regression Results                  \n",
       "==============================================================================\n",
       "Dep. Variable:       SeriousDlqin2yrs   No. Observations:               120000\n",
       "Model:                            GLM   Df Residuals:                   119970\n",
       "Model Family:                Binomial   Df Model:                           29\n",
       "Link Function:                  logit   Scale:                          1.0000\n",
       "Method:                          IRLS   Log-Likelihood:                -22029.\n",
       "Date:                Mon, 06 Jan 2020   Deviance:                       44057.\n",
       "Time:                        06:37:19   Pearson chi2:                 1.04e+05\n",
       "No. Iterations:                     7   Covariance Type:             nonrobust\n",
       "====================================================================================================================================\n",
       "                                                                       coef    std err          z      P>|z|      [0.025      0.975]\n",
       "------------------------------------------------------------------------------------------------------------------------------------\n",
       "Intercept                                                            1.9737      0.072     27.249      0.000       1.832       2.116\n",
       "C(RevolvingUtilizationOfUnsecuredLines)[T.-0.041499213989041106]    -0.7483      0.034    -21.774      0.000      -0.816      -0.681\n",
       "C(RevolvingUtilizationOfUnsecuredLines)[T.0.8562372879953]          -1.3472      0.045    -29.691      0.000      -1.436      -1.258\n",
       "C(RevolvingUtilizationOfUnsecuredLines)[T.1.3002647994670473]       -1.6286      0.054    -30.355      0.000      -1.734      -1.523\n",
       "C(RevolvingUtilizationOfUnsecuredLines)[T.1.4078195475548518]       -1.6774      0.056    -29.822      0.000      -1.788      -1.567\n",
       "C(age)[T.-0.2383033567150501]                                       -0.1120      0.037     -3.041      0.002      -0.184      -0.040\n",
       "C(age)[T.-0.07255814084906453]                                      -0.1865      0.039     -4.779      0.000      -0.263      -0.110\n",
       "C(age)[T.0.41234782445430396]                                       -0.4469      0.044    -10.238      0.000      -0.532      -0.361\n",
       "C(age)[T.1.0439252783928006]                                        -0.6971      0.053    -13.122      0.000      -0.801      -0.593\n",
       "C(DebtRatio)[T.0.07300167695012694]                                 -0.2666      0.040     -6.630      0.000      -0.345      -0.188\n",
       "C(DebtRatio)[T.0.09312639026351777]                                 -0.3909      0.053     -7.398      0.000      -0.494      -0.287\n",
       "C(DebtRatio)[T.0.1580304728356665]                                  -0.3926      0.046     -8.539      0.000      -0.483      -0.302\n",
       "C(DebtRatio)[T.0.19867967101778472]                                 -0.3455      0.049     -7.076      0.000      -0.441      -0.250\n",
       "C(MonthlyIncome)[T.0.01753424106322954]                             -0.0022      0.037     -0.059      0.953      -0.074       0.070\n",
       "C(MonthlyIncome)[T.0.06979434687288388]                             -0.1673      0.044     -3.816      0.000      -0.253      -0.081\n",
       "C(MonthlyIncome)[T.0.36856872235274296]                             -0.3097      0.044     -7.011      0.000      -0.396      -0.223\n",
       "C(NumberOfTime30_59DaysPastDueNotWorse)[T.-0.8913023430781333]      -0.4422      0.043    -10.396      0.000      -0.526      -0.359\n",
       "C(NumberOfTime30_59DaysPastDueNotWorse)[T.0.5382385208179843]       -1.2191      0.038    -31.792      0.000      -1.294      -1.144\n",
       "C(NumberOfTime60_89DaysPastDueNotWorse)[T.0.28505120498871983]      -0.9782      0.037    -26.412      0.000      -1.051      -0.906\n",
       "C(NumberOfTimes90DaysLate)[T.0.3843890237077201]                    -1.4858      0.035    -42.791      0.000      -1.554      -1.418\n",
       "C(NumberOfOpenCreditLinesAndLoans)[T.0.0013388359373907033]          0.3984      0.049      8.098      0.000       0.302       0.495\n",
       "C(NumberOfOpenCreditLinesAndLoans)[T.0.11366145882733902]            0.2036      0.048      4.212      0.000       0.109       0.298\n",
       "C(NumberOfOpenCreditLinesAndLoans)[T.0.12751784361521445]           -0.0422      0.044     -0.963      0.336      -0.128       0.044\n",
       "C(NumberOfOpenCreditLinesAndLoans)[T.0.23091339882091244]           -0.0002      0.043     -0.004      0.997      -0.084       0.084\n",
       "C(NumberRealEstateLoansOrLines)[T.-0.23598824544096342]              0.2050      0.061      3.340      0.001       0.085       0.325\n",
       "C(NumberRealEstateLoansOrLines)[T.0.20668693690726658]              -0.2447      0.046     -5.263      0.000      -0.336      -0.154\n",
       "C(NumberRealEstateLoansOrLines)[T.0.25301136408726843]              -0.3000      0.039     -7.776      0.000      -0.376      -0.224\n",
       "C(NumberOfDependents)[T.-0.1910950948896577]                        -0.1146      0.051     -2.257      0.024      -0.214      -0.015\n",
       "C(NumberOfDependents)[T.-0.09724145713158383]                       -0.0961      0.049     -1.961      0.050      -0.192   -4.69e-05\n",
       "C(NumberOfDependents)[T.0.14536104654819643]                        -0.1532      0.044     -3.467      0.001      -0.240      -0.067\n",
       "====================================================================================================================================\n",
       "\"\"\""
      ]
     },
     "execution_count": 127,
     "metadata": {},
     "output_type": "execute_result"
    }
   ],
   "source": [
    "func.summary()"
   ]
  },
  {
   "cell_type": "code",
   "execution_count": 131,
   "metadata": {},
   "outputs": [
    {
     "name": "stdout",
     "output_type": "stream",
     "text": [
      "ROC_AUC:  0.8563318355897557\n",
      "Somersd:  0.7126636711795113\n"
     ]
    },
    {
     "data": {
      "image/png": "[encoded data removed]",
      "text/plain": [
       "<Figure size 432x288 with 1 Axes>"
      ]
     },
     "metadata": {
      "needs_background": "light"
     },
     "output_type": "display_data"
    }
   ],
   "source": [
    "import sklearn.metrics as setrics\n",
    "\n",
    "def get_metrics(df, model, label_col='status_2_yrs'):\n",
    "#     import scikitplot as skplt\n",
    "#     print('Accuracy: ', )\n",
    "    roc_auc = setrics.roc_auc_score(df[label_col],  model.predict(df))\n",
    "    print('ROC_AUC: ', roc_auc)\n",
    "    \n",
    "    somersd = 2*roc_auc -1\n",
    "    print('Somersd: ', somersd)\n",
    "    \n",
    "    fpr, tpr, _ = setrics.roc_curve(df[label_col],  model.predict(df))\n",
    "    plt.plot(fpr,tpr,label=\"data 1, auc=\"+str(roc_auc))\n",
    "    plt.legend(loc=4)\n",
    "    plt.show()\n",
    "\n",
    "    \n",
    "get_metrics(train_woe, func, label_col='SeriousDlqin2yrs')"
   ]
  },
  {
   "cell_type": "code",
   "execution_count": 134,
   "metadata": {},
   "outputs": [
    {
     "data": {
      "text/plain": [
       "SeriousDlqin2yrs                        30000\n",
       "RevolvingUtilizationOfUnsecuredLines    30000\n",
       "age                                     30000\n",
       "NumberOfTime30_59DaysPastDueNotWorse    30000\n",
       "DebtRatio                               30000\n",
       "MonthlyIncome                           29999\n",
       "NumberOfOpenCreditLinesAndLoans         29999\n",
       "NumberOfTimes90DaysLate                 30000\n",
       "NumberRealEstateLoansOrLines            30000\n",
       "NumberOfTime60_89DaysPastDueNotWorse    30000\n",
       "NumberOfDependents                      30000\n",
       "dtype: int64"
      ]
     },
     "execution_count": 134,
     "metadata": {},
     "output_type": "execute_result"
    }
   ],
   "source": [
    "dev_woe.count()"
   ]
  },
  {
   "cell_type": "code",
   "execution_count": 136,
   "metadata": {},
   "outputs": [
    {
     "name": "stdout",
     "output_type": "stream",
     "text": [
      "ROC_AUC:  0.8629402300553856\n",
      "Somersd:  0.7258804601107711\n"
     ]
    },
    {
     "data": {
      "image/png": "[encoded data removed]",
      "text/plain": [
       "<Figure size 432x288 with 1 Axes>"
      ]
     },
     "metadata": {
      "needs_background": "light"
     },
     "output_type": "display_data"
    }
   ],
   "source": [
    "get_metrics(dev_woe.dropna(), func, label_col='SeriousDlqin2yrs')"
   ]
  },
  {
   "cell_type": "markdown",
   "metadata": {},
   "source": [
    "## Scorecard"
   ]
  },
  {
   "cell_type": "code",
   "execution_count": null,
   "metadata": {},
   "outputs": [],
   "source": [
    "def make_scorecard(woe_df, features, model, pdo, offset):\n",
    "    scorecard = "
   ]
  }
 ],
 "metadata": {
  "kernelspec": {
   "display_name": "Python [conda env:py37]",
   "language": "python",
   "name": "conda-env-py37-py"
  },
  "language_info": {
   "codemirror_mode": {
    "name": "ipython",
    "version": 3
   },
   "file_extension": ".py",
   "mimetype": "text/x-python",
   "name": "python",
   "nbconvert_exporter": "python",
   "pygments_lexer": "ipython3",
   "version": "3.7.1"
  }
 },
 "nbformat": 4,
 "nbformat_minor": 2
}
