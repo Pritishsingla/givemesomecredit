{
 "cells": [
  {
   "cell_type": "code",
   "execution_count": 2,
   "metadata": {},
   "outputs": [
    {
     "name": "stdout",
     "output_type": "stream",
     "text": [
      "The autoreload extension is already loaded. To reload it, use:\n",
      "  %reload_ext autoreload\n"
     ]
    }
   ],
   "source": [
    "%load_ext autoreload\n",
    "%autoreload 2\n",
    "\n",
    "import pandas as pd\n",
    "import numpy as np\n",
    "import matplotlib.pyplot as plt\n",
    "\n",
    "import time\n",
    "import os\n",
    "import sys\n",
    "import warnings\n",
    "warnings.filterwarnings('ignore')\n",
    "\n",
    "%matplotlib inline"
   ]
  },
  {
   "cell_type": "markdown",
   "metadata": {},
   "source": [
    "## Loading Data"
   ]
  },
  {
   "cell_type": "code",
   "execution_count": 3,
   "metadata": {},
   "outputs": [
    {
     "data": {
      "text/html": [
       "<div>\n",
       "<style scoped>\n",
       "    .dataframe tbody tr th:only-of-type {\n",
       "        vertical-align: middle;\n",
       "    }\n",
       "\n",
       "    .dataframe tbody tr th {\n",
       "        vertical-align: top;\n",
       "    }\n",
       "\n",
       "    .dataframe thead th {\n",
       "        text-align: right;\n",
       "    }\n",
       "</style>\n",
       "<table border=\"1\" class=\"dataframe\">\n",
       "  <thead>\n",
       "    <tr style=\"text-align: right;\">\n",
       "      <th></th>\n",
       "      <th>SeriousDlqin2yrs</th>\n",
       "      <th>RevolvingUtilizationOfUnsecuredLines</th>\n",
       "      <th>age</th>\n",
       "      <th>NumberOfTime30-59DaysPastDueNotWorse</th>\n",
       "      <th>DebtRatio</th>\n",
       "      <th>MonthlyIncome</th>\n",
       "      <th>NumberOfOpenCreditLinesAndLoans</th>\n",
       "      <th>NumberOfTimes90DaysLate</th>\n",
       "      <th>NumberRealEstateLoansOrLines</th>\n",
       "      <th>NumberOfTime60-89DaysPastDueNotWorse</th>\n",
       "      <th>NumberOfDependents</th>\n",
       "    </tr>\n",
       "  </thead>\n",
       "  <tbody>\n",
       "    <tr>\n",
       "      <th>1</th>\n",
       "      <td>1</td>\n",
       "      <td>0.766127</td>\n",
       "      <td>45</td>\n",
       "      <td>2</td>\n",
       "      <td>0.802982</td>\n",
       "      <td>9120.0</td>\n",
       "      <td>13</td>\n",
       "      <td>0</td>\n",
       "      <td>6</td>\n",
       "      <td>0</td>\n",
       "      <td>2.0</td>\n",
       "    </tr>\n",
       "    <tr>\n",
       "      <th>2</th>\n",
       "      <td>0</td>\n",
       "      <td>0.957151</td>\n",
       "      <td>40</td>\n",
       "      <td>0</td>\n",
       "      <td>0.121876</td>\n",
       "      <td>2600.0</td>\n",
       "      <td>4</td>\n",
       "      <td>0</td>\n",
       "      <td>0</td>\n",
       "      <td>0</td>\n",
       "      <td>1.0</td>\n",
       "    </tr>\n",
       "    <tr>\n",
       "      <th>3</th>\n",
       "      <td>0</td>\n",
       "      <td>0.658180</td>\n",
       "      <td>38</td>\n",
       "      <td>1</td>\n",
       "      <td>0.085113</td>\n",
       "      <td>3042.0</td>\n",
       "      <td>2</td>\n",
       "      <td>1</td>\n",
       "      <td>0</td>\n",
       "      <td>0</td>\n",
       "      <td>0.0</td>\n",
       "    </tr>\n",
       "    <tr>\n",
       "      <th>4</th>\n",
       "      <td>0</td>\n",
       "      <td>0.233810</td>\n",
       "      <td>30</td>\n",
       "      <td>0</td>\n",
       "      <td>0.036050</td>\n",
       "      <td>3300.0</td>\n",
       "      <td>5</td>\n",
       "      <td>0</td>\n",
       "      <td>0</td>\n",
       "      <td>0</td>\n",
       "      <td>0.0</td>\n",
       "    </tr>\n",
       "    <tr>\n",
       "      <th>5</th>\n",
       "      <td>0</td>\n",
       "      <td>0.907239</td>\n",
       "      <td>49</td>\n",
       "      <td>1</td>\n",
       "      <td>0.024926</td>\n",
       "      <td>63588.0</td>\n",
       "      <td>7</td>\n",
       "      <td>0</td>\n",
       "      <td>1</td>\n",
       "      <td>0</td>\n",
       "      <td>0.0</td>\n",
       "    </tr>\n",
       "  </tbody>\n",
       "</table>\n",
       "</div>"
      ],
      "text/plain": [
       "   SeriousDlqin2yrs  RevolvingUtilizationOfUnsecuredLines  age  \\\n",
       "1                 1                              0.766127   45   \n",
       "2                 0                              0.957151   40   \n",
       "3                 0                              0.658180   38   \n",
       "4                 0                              0.233810   30   \n",
       "5                 0                              0.907239   49   \n",
       "\n",
       "   NumberOfTime30-59DaysPastDueNotWorse  DebtRatio  MonthlyIncome  \\\n",
       "1                                     2   0.802982         9120.0   \n",
       "2                                     0   0.121876         2600.0   \n",
       "3                                     1   0.085113         3042.0   \n",
       "4                                     0   0.036050         3300.0   \n",
       "5                                     1   0.024926        63588.0   \n",
       "\n",
       "   NumberOfOpenCreditLinesAndLoans  NumberOfTimes90DaysLate  \\\n",
       "1                               13                        0   \n",
       "2                                4                        0   \n",
       "3                                2                        1   \n",
       "4                                5                        0   \n",
       "5                                7                        0   \n",
       "\n",
       "   NumberRealEstateLoansOrLines  NumberOfTime60-89DaysPastDueNotWorse  \\\n",
       "1                             6                                     0   \n",
       "2                             0                                     0   \n",
       "3                             0                                     0   \n",
       "4                             0                                     0   \n",
       "5                             1                                     0   \n",
       "\n",
       "   NumberOfDependents  \n",
       "1                 2.0  \n",
       "2                 1.0  \n",
       "3                 0.0  \n",
       "4                 0.0  \n",
       "5                 0.0  "
      ]
     },
     "execution_count": 3,
     "metadata": {},
     "output_type": "execute_result"
    }
   ],
   "source": [
    "data = pd.read_csv('data/cs-training.csv', index_col=0)\n",
    "data.head()"
   ]
  },
  {
   "cell_type": "code",
   "execution_count": 4,
   "metadata": {},
   "outputs": [],
   "source": [
    "target_col = 'SeriousDlqin2yrs'"
   ]
  },
  {
   "cell_type": "markdown",
   "metadata": {},
   "source": [
    "## Splitting into Training and Dev Sets"
   ]
  },
  {
   "cell_type": "code",
   "execution_count": 5,
   "metadata": {},
   "outputs": [
    {
     "data": {
      "text/plain": [
       "(0    0.933217\n",
       " 1    0.066783\n",
       " Name: SeriousDlqin2yrs, dtype: float64, 0    0.932933\n",
       " 1    0.067067\n",
       " Name: SeriousDlqin2yrs, dtype: float64)"
      ]
     },
     "execution_count": 5,
     "metadata": {},
     "output_type": "execute_result"
    }
   ],
   "source": [
    "train = data.sample(n=120000, random_state=3)\n",
    "dev = data[~data.index.isin(train.index)]\n",
    "train[target_col].value_counts(normalize=True), dev[target_col].value_counts(normalize=True)"
   ]
  },
  {
   "cell_type": "markdown",
   "metadata": {},
   "source": [
    "## Cleaning Data"
   ]
  },
  {
   "cell_type": "code",
   "execution_count": 6,
   "metadata": {},
   "outputs": [],
   "source": [
    "def clean_data(df, income_mv, dependent_mv):\n",
    "    \"\"\"\n",
    "    Imputes missing values\n",
    "    Floors & ceils the outliers\n",
    "    Combines smaller categories into a single category\n",
    "    \"\"\"\n",
    "    \n",
    "    df.columns = [col.replace('-', '_') for col in df.columns]\n",
    "    \n",
    "    # RevolvingUtilizationOfUnsecuredLines\n",
    "    df.loc[df['RevolvingUtilizationOfUnsecuredLines'] >1, 'RevolvingUtilizationOfUnsecuredLines'] = 1\n",
    "    \n",
    "    # age\n",
    "    df.loc[df['age']< 21, 'age'] = 21\n",
    "    \n",
    "    # NumberOfTime30-59DaysPastDueNotWorse\n",
    "    df.loc[df['NumberOfTime30_59DaysPastDueNotWorse']>=2, 'NumberOfTime30_59DaysPastDueNotWorse'] = 2\n",
    "    \n",
    "    # NumberOfTime60-89DaysPastDueNotWorse\n",
    "    df.loc[df['NumberOfTime60_89DaysPastDueNotWorse']>=1, 'NumberOfTime60_89DaysPastDueNotWorse'] = 1\n",
    "    \n",
    "    # NumberOfTimes90DaysLate\n",
    "    df.loc[df['NumberOfTimes90DaysLate']>=1, 'NumberOfTimes90DaysLate'] = 1\n",
    "    \n",
    "    # MonthlyIncome\n",
    "    df['MonthlyIncome'] = df['MonthlyIncome'].fillna(income_mv) #replace with median\n",
    "    \n",
    "    # NumberOfOpenCreditLinesAndLoans\n",
    "\n",
    "    # NumberRealEstateLoansOrLines\n",
    "    df.loc[df['NumberRealEstateLoansOrLines']>=3, 'NumberRealEstateLoansOrLines'] = 3\n",
    "    \n",
    "    # NumberOfDependents\n",
    "    df.loc[df['NumberOfDependents']>=3, 'NumberOfDependents'] = 3\n",
    "    df['NumberOfDependents'] = df['NumberOfDependents'].fillna(dependent_mv) #replace with median\n",
    "    \n",
    "    return df\n",
    "\n"
   ]
  },
  {
   "cell_type": "code",
   "execution_count": 7,
   "metadata": {},
   "outputs": [],
   "source": [
    "train = clean_data(train, 5400, 0)\n",
    "dev = clean_data(dev, 5400, 0)"
   ]
  },
  {
   "cell_type": "code",
   "execution_count": 8,
   "metadata": {},
   "outputs": [],
   "source": [
    "def get_bins_from_training_data(df):\n",
    "    '''bin variables based on the eda done in the other notebook'''\n",
    "    binsdf = {}\n",
    "    _, binsdf['RevolvingUtilizationOfUnsecuredLines'] = pd.qcut(df['RevolvingUtilizationOfUnsecuredLines'], 5, retbins=True, labels=None)\n",
    "    _, binsdf['DebtRatio'] = pd.qcut(df['DebtRatio'], 5, retbins=True, labels=None)\n",
    "    _, binsdf['age'] = pd.qcut(df['age'], 5, retbins=True, labels=None)\n",
    "    _, binsdf['MonthlyIncome'] = pd.qcut(df['MonthlyIncome'], 4, retbins=True, labels=None)\n",
    "    _, binsdf['NumberOfOpenCreditLinesAndLoans'] = pd.qcut(df['NumberOfOpenCreditLinesAndLoans'], 5, retbins=True, labels=None)\n",
    "    return binsdf\n",
    "\n",
    "binsdf = get_bins_from_training_data(train)"
   ]
  },
  {
   "cell_type": "code",
   "execution_count": 93,
   "metadata": {},
   "outputs": [],
   "source": [
    "def create_bins(df, binsdf):\n",
    "    '''create bins on the unseen data set'''\n",
    "    retdf = pd.DataFrame()\n",
    "    for column in df.columns:\n",
    "        if column in binsdf.keys():\n",
    "            retdf[column] = pd.cut(df[column], bins=binsdf[column], labels=False, include_lowest=True)\n",
    "        else:\n",
    "            retdf[column] = df[column].copy(deep=True)\n",
    "    return retdf\n",
    "\n",
    "def create_bins_2(df, binsdf):\n",
    "    '''create bins on the unseen data set'''\n",
    "    retdf = pd.DataFrame()\n",
    "    for column in df.columns:\n",
    "        if column in binsdf.keys():\n",
    "            retdf[column] = pd.cut(df[column], bins=binsdf[column], include_lowest=True)\n",
    "        else:\n",
    "            retdf[column] = df[column].copy(deep=True)\n",
    "    return retdf\n",
    "\n",
    "train_binned_df = create_bins(train, binsdf)\n",
    "dev_binned_df = create_bins(dev, binsdf)\n",
    "\n",
    "train_binned_df_2 = create_bins_2(train, binsdf)\n",
    "dev_binned_df_2 = create_bins_2(dev, binsdf)"
   ]
  },
  {
   "cell_type": "code",
   "execution_count": 10,
   "metadata": {},
   "outputs": [],
   "source": [
    "def weight_of_evidence(df, labelcol, col, categorical_col=None):\n",
    "    '''calculates weight of evidence values for each category in a given variable (col)'''\n",
    "    if categorical_col is None:\n",
    "        categorical_col = col\n",
    "    \n",
    "    tempdf = df.groupby(by=categorical_col).agg({labelcol:{\n",
    "                                                        '_counts': 'size',\n",
    "                                                        '_bads': lambda x: len(x[x==1]),\n",
    "                                                        '_goods': lambda x: len(x[x==0])\n",
    "                                                    }})\n",
    "    tempdf.columns  = [col+ column for column in tempdf.columns.droplevel(0)]\n",
    "    tempdf[col+'_distri_tot'] = tempdf[col+'_counts']/(tempdf[col+'_counts'].sum())\n",
    "    tempdf[col+'_distri_bads'] = tempdf[col+'_bads']/(tempdf[col+'_bads'].sum())\n",
    "    tempdf[col+'_distri_goods'] = tempdf[col+'_goods']/(tempdf[col+'_goods'].sum())\n",
    "    tempdf[col+'_bad_rate'] = tempdf[col+'_bads']/tempdf[col+'_counts']\n",
    "    tempdf[col+'_woe'] = np.log(tempdf[col+'_distri_goods']) - np.log(tempdf[col+'_distri_bads'])\n",
    "    return tempdf\n",
    "\n",
    "\n",
    "def information_value(df, col):\n",
    "    '''calculates Information Value using the Weight of evidence scores'''\n",
    "    df['diff_col'] = df[col+'_distri_goods'] - df[col+'_distri_bads']\n",
    "    return np.sum(df['diff_col']*df[col+'_woe'])\n"
   ]
  },
  {
   "cell_type": "code",
   "execution_count": 11,
   "metadata": {},
   "outputs": [],
   "source": [
    "def get_woe_from_training_data(binned_df):\n",
    "    '''calculates the wWeight of Evidence and Information Values based on the training data set for all the features'''\n",
    "    woe_dict = {}\n",
    "    iv_dict = {}\n",
    "    for column in binned_df.columns:\n",
    "        if column == target_col:\n",
    "            pass\n",
    "        else:\n",
    "            woe_df = weight_of_evidence(binned_df, target_col, column)\n",
    "            woe_column = [col for col in woe_df.columns if 'woe' in col][0]\n",
    "            woe_dict[column] = dict(woe_df[woe_column])\n",
    "            iv_dict[column] = information_value(woe_df, column)\n",
    "    return woe_dict, iv_dict\n",
    " \n",
    "\n",
    "woe, iv = get_woe_from_training_data(create_bins(train, binsdf))"
   ]
  },
  {
   "cell_type": "code",
   "execution_count": 12,
   "metadata": {},
   "outputs": [
    {
     "data": {
      "text/html": [
       "<div>\n",
       "<style scoped>\n",
       "    .dataframe tbody tr th:only-of-type {\n",
       "        vertical-align: middle;\n",
       "    }\n",
       "\n",
       "    .dataframe tbody tr th {\n",
       "        vertical-align: top;\n",
       "    }\n",
       "\n",
       "    .dataframe thead th {\n",
       "        text-align: right;\n",
       "    }\n",
       "</style>\n",
       "<table border=\"1\" class=\"dataframe\">\n",
       "  <thead>\n",
       "    <tr style=\"text-align: right;\">\n",
       "      <th></th>\n",
       "      <th>information_value</th>\n",
       "    </tr>\n",
       "  </thead>\n",
       "  <tbody>\n",
       "    <tr>\n",
       "      <th>RevolvingUtilizationOfUnsecuredLines</th>\n",
       "      <td>1.051496</td>\n",
       "    </tr>\n",
       "    <tr>\n",
       "      <th>NumberOfTimes90DaysLate</th>\n",
       "      <td>0.822086</td>\n",
       "    </tr>\n",
       "    <tr>\n",
       "      <th>NumberOfTime30_59DaysPastDueNotWorse</th>\n",
       "      <td>0.736713</td>\n",
       "    </tr>\n",
       "    <tr>\n",
       "      <th>NumberOfTime60_89DaysPastDueNotWorse</th>\n",
       "      <td>0.562831</td>\n",
       "    </tr>\n",
       "    <tr>\n",
       "      <th>age</th>\n",
       "      <td>0.240657</td>\n",
       "    </tr>\n",
       "    <tr>\n",
       "      <th>MonthlyIncome</th>\n",
       "      <td>0.061015</td>\n",
       "    </tr>\n",
       "    <tr>\n",
       "      <th>NumberRealEstateLoansOrLines</th>\n",
       "      <td>0.057126</td>\n",
       "    </tr>\n",
       "    <tr>\n",
       "      <th>DebtRatio</th>\n",
       "      <td>0.054804</td>\n",
       "    </tr>\n",
       "    <tr>\n",
       "      <th>NumberOfOpenCreditLinesAndLoans</th>\n",
       "      <td>0.048957</td>\n",
       "    </tr>\n",
       "    <tr>\n",
       "      <th>NumberOfDependents</th>\n",
       "      <td>0.032749</td>\n",
       "    </tr>\n",
       "  </tbody>\n",
       "</table>\n",
       "</div>"
      ],
      "text/plain": [
       "                                      information_value\n",
       "RevolvingUtilizationOfUnsecuredLines           1.051496\n",
       "NumberOfTimes90DaysLate                        0.822086\n",
       "NumberOfTime30_59DaysPastDueNotWorse           0.736713\n",
       "NumberOfTime60_89DaysPastDueNotWorse           0.562831\n",
       "age                                            0.240657\n",
       "MonthlyIncome                                  0.061015\n",
       "NumberRealEstateLoansOrLines                   0.057126\n",
       "DebtRatio                                      0.054804\n",
       "NumberOfOpenCreditLinesAndLoans                0.048957\n",
       "NumberOfDependents                             0.032749"
      ]
     },
     "execution_count": 12,
     "metadata": {},
     "output_type": "execute_result"
    }
   ],
   "source": [
    "iv = pd.DataFrame.from_dict(iv, orient='index')\n",
    "iv.columns = ['information_value']\n",
    "iv.sort_values(by='information_value', ascending=False)"
   ]
  },
  {
   "cell_type": "code",
   "execution_count": 13,
   "metadata": {},
   "outputs": [],
   "source": [
    "def create_woe(binned_df, woe):\n",
    "    '''Applies the calculated WoE values on the unseen data set'''\n",
    "    for column in woe.keys():\n",
    "        binned_df[column] = binned_df[column].map(woe[column])\n",
    "    return binned_df\n",
    "\n",
    "train_woe = create_woe(train_binned_df, woe)\n",
    "dev_woe =  create_woe(dev_binned_df, woe)"
   ]
  },
  {
   "cell_type": "code",
   "execution_count": 14,
   "metadata": {},
   "outputs": [
    {
     "data": {
      "text/plain": [
       "Index(['SeriousDlqin2yrs', 'RevolvingUtilizationOfUnsecuredLines', 'age',\n",
       "       'NumberOfTime30_59DaysPastDueNotWorse', 'DebtRatio', 'MonthlyIncome',\n",
       "       'NumberOfOpenCreditLinesAndLoans', 'NumberOfTimes90DaysLate',\n",
       "       'NumberRealEstateLoansOrLines', 'NumberOfTime60_89DaysPastDueNotWorse',\n",
       "       'NumberOfDependents'],\n",
       "      dtype='object')"
      ]
     },
     "execution_count": 14,
     "metadata": {},
     "output_type": "execute_result"
    }
   ],
   "source": [
    "train_woe.columns = [col.replace('-', '_') for col in train_woe.columns]\n",
    "dev_woe.columns = [col.replace('-', '_') for col in dev_woe.columns]\n",
    "train_woe.columns"
   ]
  },
  {
   "cell_type": "markdown",
   "metadata": {},
   "source": [
    "## Model"
   ]
  },
  {
   "cell_type": "code",
   "execution_count": 15,
   "metadata": {},
   "outputs": [],
   "source": [
    "import statsmodels.api as sm\n",
    "import statsmodels.formula.api as smf"
   ]
  },
  {
   "cell_type": "code",
   "execution_count": 16,
   "metadata": {},
   "outputs": [
    {
     "data": {
      "text/html": [
       "<table class=\"simpletable\">\n",
       "<caption>Generalized Linear Model Regression Results</caption>\n",
       "<tr>\n",
       "  <th>Dep. Variable:</th>  <td>SeriousDlqin2yrs</td> <th>  No. Observations:  </th>  <td>120000</td>  \n",
       "</tr>\n",
       "<tr>\n",
       "  <th>Model:</th>                 <td>GLM</td>       <th>  Df Residuals:      </th>  <td>119989</td>  \n",
       "</tr>\n",
       "<tr>\n",
       "  <th>Model Family:</th>       <td>Binomial</td>     <th>  Df Model:          </th>  <td>    10</td>  \n",
       "</tr>\n",
       "<tr>\n",
       "  <th>Link Function:</th>        <td>logit</td>      <th>  Scale:             </th> <td>  1.0000</td> \n",
       "</tr>\n",
       "<tr>\n",
       "  <th>Method:</th>               <td>IRLS</td>       <th>  Log-Likelihood:    </th> <td> -22136.</td> \n",
       "</tr>\n",
       "<tr>\n",
       "  <th>Date:</th>           <td>Fri, 10 Jan 2020</td> <th>  Deviance:          </th> <td>  44271.</td> \n",
       "</tr>\n",
       "<tr>\n",
       "  <th>Time:</th>               <td>06:15:34</td>     <th>  Pearson chi2:      </th> <td>1.04e+05</td> \n",
       "</tr>\n",
       "<tr>\n",
       "  <th>No. Iterations:</th>         <td>7</td>        <th>  Covariance Type:   </th> <td>nonrobust</td>\n",
       "</tr>\n",
       "</table>\n",
       "<table class=\"simpletable\">\n",
       "<tr>\n",
       "                    <td></td>                      <th>coef</th>     <th>std err</th>      <th>z</th>      <th>P>|z|</th>  <th>[0.025</th>    <th>0.975]</th>  \n",
       "</tr>\n",
       "<tr>\n",
       "  <th>Intercept</th>                            <td>   -2.6109</td> <td>    0.014</td> <td> -185.004</td> <td> 0.000</td> <td>   -2.639</td> <td>   -2.583</td>\n",
       "</tr>\n",
       "<tr>\n",
       "  <th>RevolvingUtilizationOfUnsecuredLines</th> <td>   -0.6133</td> <td>    0.014</td> <td>  -43.389</td> <td> 0.000</td> <td>   -0.641</td> <td>   -0.586</td>\n",
       "</tr>\n",
       "<tr>\n",
       "  <th>age</th>                                  <td>   -0.4164</td> <td>    0.031</td> <td>  -13.637</td> <td> 0.000</td> <td>   -0.476</td> <td>   -0.357</td>\n",
       "</tr>\n",
       "<tr>\n",
       "  <th>DebtRatio</th>                            <td>   -0.8189</td> <td>    0.058</td> <td>  -14.222</td> <td> 0.000</td> <td>   -0.932</td> <td>   -0.706</td>\n",
       "</tr>\n",
       "<tr>\n",
       "  <th>MonthlyIncome</th>                        <td>   -0.1825</td> <td>    0.055</td> <td>   -3.314</td> <td> 0.001</td> <td>   -0.290</td> <td>   -0.075</td>\n",
       "</tr>\n",
       "<tr>\n",
       "  <th>NumberOfTime30_59DaysPastDueNotWorse</th> <td>   -0.5305</td> <td>    0.014</td> <td>  -36.613</td> <td> 0.000</td> <td>   -0.559</td> <td>   -0.502</td>\n",
       "</tr>\n",
       "<tr>\n",
       "  <th>NumberOfTime60_89DaysPastDueNotWorse</th> <td>   -0.4098</td> <td>    0.016</td> <td>  -26.047</td> <td> 0.000</td> <td>   -0.441</td> <td>   -0.379</td>\n",
       "</tr>\n",
       "<tr>\n",
       "  <th>NumberOfTimes90DaysLate</th>              <td>   -0.5397</td> <td>    0.013</td> <td>  -41.854</td> <td> 0.000</td> <td>   -0.565</td> <td>   -0.514</td>\n",
       "</tr>\n",
       "<tr>\n",
       "  <th>NumberOfOpenCreditLinesAndLoans</th>      <td>   -0.0077</td> <td>    0.063</td> <td>   -0.121</td> <td> 0.903</td> <td>   -0.132</td> <td>    0.117</td>\n",
       "</tr>\n",
       "<tr>\n",
       "  <th>NumberRealEstateLoansOrLines</th>         <td>   -0.6022</td> <td>    0.060</td> <td>   -9.973</td> <td> 0.000</td> <td>   -0.720</td> <td>   -0.484</td>\n",
       "</tr>\n",
       "<tr>\n",
       "  <th>NumberOfDependents</th>                   <td>   -0.2128</td> <td>    0.074</td> <td>   -2.869</td> <td> 0.004</td> <td>   -0.358</td> <td>   -0.067</td>\n",
       "</tr>\n",
       "</table>"
      ],
      "text/plain": [
       "<class 'statsmodels.iolib.summary.Summary'>\n",
       "\"\"\"\n",
       "                 Generalized Linear Model Regression Results                  \n",
       "==============================================================================\n",
       "Dep. Variable:       SeriousDlqin2yrs   No. Observations:               120000\n",
       "Model:                            GLM   Df Residuals:                   119989\n",
       "Model Family:                Binomial   Df Model:                           10\n",
       "Link Function:                  logit   Scale:                          1.0000\n",
       "Method:                          IRLS   Log-Likelihood:                -22136.\n",
       "Date:                Fri, 10 Jan 2020   Deviance:                       44271.\n",
       "Time:                        06:15:34   Pearson chi2:                 1.04e+05\n",
       "No. Iterations:                     7   Covariance Type:             nonrobust\n",
       "========================================================================================================\n",
       "                                           coef    std err          z      P>|z|      [0.025      0.975]\n",
       "--------------------------------------------------------------------------------------------------------\n",
       "Intercept                               -2.6109      0.014   -185.004      0.000      -2.639      -2.583\n",
       "RevolvingUtilizationOfUnsecuredLines    -0.6133      0.014    -43.389      0.000      -0.641      -0.586\n",
       "age                                     -0.4164      0.031    -13.637      0.000      -0.476      -0.357\n",
       "DebtRatio                               -0.8189      0.058    -14.222      0.000      -0.932      -0.706\n",
       "MonthlyIncome                           -0.1825      0.055     -3.314      0.001      -0.290      -0.075\n",
       "NumberOfTime30_59DaysPastDueNotWorse    -0.5305      0.014    -36.613      0.000      -0.559      -0.502\n",
       "NumberOfTime60_89DaysPastDueNotWorse    -0.4098      0.016    -26.047      0.000      -0.441      -0.379\n",
       "NumberOfTimes90DaysLate                 -0.5397      0.013    -41.854      0.000      -0.565      -0.514\n",
       "NumberOfOpenCreditLinesAndLoans         -0.0077      0.063     -0.121      0.903      -0.132       0.117\n",
       "NumberRealEstateLoansOrLines            -0.6022      0.060     -9.973      0.000      -0.720      -0.484\n",
       "NumberOfDependents                      -0.2128      0.074     -2.869      0.004      -0.358      -0.067\n",
       "========================================================================================================\n",
       "\"\"\""
      ]
     },
     "execution_count": 16,
     "metadata": {},
     "output_type": "execute_result"
    }
   ],
   "source": [
    "formula = \" SeriousDlqin2yrs ~ \"\\\n",
    "            +\"RevolvingUtilizationOfUnsecuredLines +\"\\\n",
    "            +\"age +\"\\\n",
    "            +\"DebtRatio + \"\\\n",
    "            +\"MonthlyIncome + \"\\\n",
    "            +\"NumberOfTime30_59DaysPastDueNotWorse +\"\\\n",
    "            +\"NumberOfTime60_89DaysPastDueNotWorse +\"\\\n",
    "            +\"NumberOfTimes90DaysLate +\"\\\n",
    "            +\"NumberOfOpenCreditLinesAndLoans +\"\\\n",
    "            +\"NumberRealEstateLoansOrLines +\"\\\n",
    "            +\"NumberOfDependents\"\n",
    "func=smf.glm(formula=formula,data=train_woe,family=sm.families.Binomial()).fit(maxiter=1000)\n",
    "func.summary()"
   ]
  },
  {
   "cell_type": "markdown",
   "metadata": {},
   "source": [
    "We remove the NumberOfOpenCreditLinesAndLoans as it is not significant by p-value (0.9) and make the model again"
   ]
  },
  {
   "cell_type": "code",
   "execution_count": 17,
   "metadata": {},
   "outputs": [],
   "source": [
    "formula = \" SeriousDlqin2yrs ~ \"\\\n",
    "            +\"RevolvingUtilizationOfUnsecuredLines +\"\\\n",
    "            +\"age +\"\\\n",
    "            +\"DebtRatio + \"\\\n",
    "            +\"MonthlyIncome + \"\\\n",
    "            +\"NumberOfTime30_59DaysPastDueNotWorse +\"\\\n",
    "            +\"NumberOfTime60_89DaysPastDueNotWorse +\"\\\n",
    "            +\"NumberOfTimes90DaysLate +\"\\\n",
    "            +\"NumberRealEstateLoansOrLines +\"\\\n",
    "            +\"NumberOfDependents\"\n",
    "\n",
    "func=smf.glm(formula=formula,data=train_woe,family=sm.families.Binomial()).fit(maxiter=1000)"
   ]
  },
  {
   "cell_type": "code",
   "execution_count": 18,
   "metadata": {},
   "outputs": [
    {
     "data": {
      "text/html": [
       "<table class=\"simpletable\">\n",
       "<caption>Generalized Linear Model Regression Results</caption>\n",
       "<tr>\n",
       "  <th>Dep. Variable:</th>  <td>SeriousDlqin2yrs</td> <th>  No. Observations:  </th>  <td>120000</td>  \n",
       "</tr>\n",
       "<tr>\n",
       "  <th>Model:</th>                 <td>GLM</td>       <th>  Df Residuals:      </th>  <td>119990</td>  \n",
       "</tr>\n",
       "<tr>\n",
       "  <th>Model Family:</th>       <td>Binomial</td>     <th>  Df Model:          </th>  <td>     9</td>  \n",
       "</tr>\n",
       "<tr>\n",
       "  <th>Link Function:</th>        <td>logit</td>      <th>  Scale:             </th> <td>  1.0000</td> \n",
       "</tr>\n",
       "<tr>\n",
       "  <th>Method:</th>               <td>IRLS</td>       <th>  Log-Likelihood:    </th> <td> -22136.</td> \n",
       "</tr>\n",
       "<tr>\n",
       "  <th>Date:</th>           <td>Fri, 10 Jan 2020</td> <th>  Deviance:          </th> <td>  44271.</td> \n",
       "</tr>\n",
       "<tr>\n",
       "  <th>Time:</th>               <td>06:15:34</td>     <th>  Pearson chi2:      </th> <td>1.04e+05</td> \n",
       "</tr>\n",
       "<tr>\n",
       "  <th>No. Iterations:</th>         <td>7</td>        <th>  Covariance Type:   </th> <td>nonrobust</td>\n",
       "</tr>\n",
       "</table>\n",
       "<table class=\"simpletable\">\n",
       "<tr>\n",
       "                    <td></td>                      <th>coef</th>     <th>std err</th>      <th>z</th>      <th>P>|z|</th>  <th>[0.025</th>    <th>0.975]</th>  \n",
       "</tr>\n",
       "<tr>\n",
       "  <th>Intercept</th>                            <td>   -2.6109</td> <td>    0.014</td> <td> -185.005</td> <td> 0.000</td> <td>   -2.639</td> <td>   -2.583</td>\n",
       "</tr>\n",
       "<tr>\n",
       "  <th>RevolvingUtilizationOfUnsecuredLines</th> <td>   -0.6136</td> <td>    0.014</td> <td>  -44.087</td> <td> 0.000</td> <td>   -0.641</td> <td>   -0.586</td>\n",
       "</tr>\n",
       "<tr>\n",
       "  <th>age</th>                                  <td>   -0.4165</td> <td>    0.031</td> <td>  -13.643</td> <td> 0.000</td> <td>   -0.476</td> <td>   -0.357</td>\n",
       "</tr>\n",
       "<tr>\n",
       "  <th>DebtRatio</th>                            <td>   -0.8178</td> <td>    0.057</td> <td>  -14.391</td> <td> 0.000</td> <td>   -0.929</td> <td>   -0.706</td>\n",
       "</tr>\n",
       "<tr>\n",
       "  <th>MonthlyIncome</th>                        <td>   -0.1834</td> <td>    0.055</td> <td>   -3.359</td> <td> 0.001</td> <td>   -0.290</td> <td>   -0.076</td>\n",
       "</tr>\n",
       "<tr>\n",
       "  <th>NumberOfTime30_59DaysPastDueNotWorse</th> <td>   -0.5303</td> <td>    0.014</td> <td>  -36.966</td> <td> 0.000</td> <td>   -0.558</td> <td>   -0.502</td>\n",
       "</tr>\n",
       "<tr>\n",
       "  <th>NumberOfTime60_89DaysPastDueNotWorse</th> <td>   -0.4098</td> <td>    0.016</td> <td>  -26.047</td> <td> 0.000</td> <td>   -0.441</td> <td>   -0.379</td>\n",
       "</tr>\n",
       "<tr>\n",
       "  <th>NumberOfTimes90DaysLate</th>              <td>   -0.5399</td> <td>    0.013</td> <td>  -42.273</td> <td> 0.000</td> <td>   -0.565</td> <td>   -0.515</td>\n",
       "</tr>\n",
       "<tr>\n",
       "  <th>NumberRealEstateLoansOrLines</th>         <td>   -0.6036</td> <td>    0.059</td> <td>  -10.189</td> <td> 0.000</td> <td>   -0.720</td> <td>   -0.487</td>\n",
       "</tr>\n",
       "<tr>\n",
       "  <th>NumberOfDependents</th>                   <td>   -0.2123</td> <td>    0.074</td> <td>   -2.867</td> <td> 0.004</td> <td>   -0.357</td> <td>   -0.067</td>\n",
       "</tr>\n",
       "</table>"
      ],
      "text/plain": [
       "<class 'statsmodels.iolib.summary.Summary'>\n",
       "\"\"\"\n",
       "                 Generalized Linear Model Regression Results                  \n",
       "==============================================================================\n",
       "Dep. Variable:       SeriousDlqin2yrs   No. Observations:               120000\n",
       "Model:                            GLM   Df Residuals:                   119990\n",
       "Model Family:                Binomial   Df Model:                            9\n",
       "Link Function:                  logit   Scale:                          1.0000\n",
       "Method:                          IRLS   Log-Likelihood:                -22136.\n",
       "Date:                Fri, 10 Jan 2020   Deviance:                       44271.\n",
       "Time:                        06:15:34   Pearson chi2:                 1.04e+05\n",
       "No. Iterations:                     7   Covariance Type:             nonrobust\n",
       "========================================================================================================\n",
       "                                           coef    std err          z      P>|z|      [0.025      0.975]\n",
       "--------------------------------------------------------------------------------------------------------\n",
       "Intercept                               -2.6109      0.014   -185.005      0.000      -2.639      -2.583\n",
       "RevolvingUtilizationOfUnsecuredLines    -0.6136      0.014    -44.087      0.000      -0.641      -0.586\n",
       "age                                     -0.4165      0.031    -13.643      0.000      -0.476      -0.357\n",
       "DebtRatio                               -0.8178      0.057    -14.391      0.000      -0.929      -0.706\n",
       "MonthlyIncome                           -0.1834      0.055     -3.359      0.001      -0.290      -0.076\n",
       "NumberOfTime30_59DaysPastDueNotWorse    -0.5303      0.014    -36.966      0.000      -0.558      -0.502\n",
       "NumberOfTime60_89DaysPastDueNotWorse    -0.4098      0.016    -26.047      0.000      -0.441      -0.379\n",
       "NumberOfTimes90DaysLate                 -0.5399      0.013    -42.273      0.000      -0.565      -0.515\n",
       "NumberRealEstateLoansOrLines            -0.6036      0.059    -10.189      0.000      -0.720      -0.487\n",
       "NumberOfDependents                      -0.2123      0.074     -2.867      0.004      -0.357      -0.067\n",
       "========================================================================================================\n",
       "\"\"\""
      ]
     },
     "execution_count": 18,
     "metadata": {},
     "output_type": "execute_result"
    }
   ],
   "source": [
    "func.summary()"
   ]
  },
  {
   "cell_type": "code",
   "execution_count": 19,
   "metadata": {},
   "outputs": [],
   "source": [
    "# saving model\n",
    "func.save('model_9_variables_1.pkl')"
   ]
  },
  {
   "cell_type": "markdown",
   "metadata": {},
   "source": [
    "### Checking performance"
   ]
  },
  {
   "cell_type": "code",
   "execution_count": 20,
   "metadata": {},
   "outputs": [
    {
     "name": "stdout",
     "output_type": "stream",
     "text": [
      "-----   Training Set Performance   --------\n",
      "\n",
      "ROC_AUC:  0.85414757649726\n",
      "Somersd:  0.7082951529945201\n"
     ]
    },
    {
     "data": {
      "image/png": "[encoded data removed]",
      "text/plain": [
       "<Figure size 432x288 with 1 Axes>"
      ]
     },
     "metadata": {},
     "output_type": "display_data"
    }
   ],
   "source": [
    "import sklearn.metrics as setrics\n",
    "\n",
    "def get_metrics(df, model, label_col='status_2_yrs'):\n",
    "    '''plots roc-auc and calcualtes somers-d score'''\n",
    "    roc_auc = setrics.roc_auc_score(df[label_col],  model.predict(df))\n",
    "    print('ROC_AUC: ', roc_auc)\n",
    "    \n",
    "    somersd = 2*roc_auc -1\n",
    "    print('Somersd: ', somersd)\n",
    "    \n",
    "    fpr, tpr, _ = setrics.roc_curve(df[label_col],  model.predict(df))\n",
    "    plt.plot(fpr,tpr,label=\"data 1, auc=\"+str(roc_auc))\n",
    "    plt.legend(loc=4)\n",
    "    plt.show()\n",
    "\n",
    "print('-----   Training Set Performance   --------\\n')    \n",
    "get_metrics(train_woe, func, label_col='SeriousDlqin2yrs')"
   ]
  },
  {
   "cell_type": "code",
   "execution_count": 21,
   "metadata": {},
   "outputs": [
    {
     "name": "stdout",
     "output_type": "stream",
     "text": [
      "-----   Dev Set Performance   --------\n",
      "\n",
      "ROC_AUC:  0.8623952259429915\n",
      "Somersd:  0.7247904518859829\n"
     ]
    },
    {
     "data": {
      "image/png": "[encoded data removed]",
      "text/plain": [
       "<Figure size 432x288 with 1 Axes>"
      ]
     },
     "metadata": {},
     "output_type": "display_data"
    }
   ],
   "source": [
    "print('-----   Dev Set Performance   --------\\n')    \n",
    "\n",
    "get_metrics(dev_woe.dropna(), func, label_col='SeriousDlqin2yrs')"
   ]
  },
  {
   "cell_type": "markdown",
   "metadata": {},
   "source": [
    "## Scorecard"
   ]
  },
  {
   "cell_type": "markdown",
   "metadata": {},
   "source": [
    "### Calculating Offset\n",
    "\n",
    "Let's set the odds of 50:1 at a score of 600"
   ]
  },
  {
   "cell_type": "code",
   "execution_count": 63,
   "metadata": {},
   "outputs": [
    {
     "data": {
      "text/plain": [
       "487.1228762045055"
      ]
     },
     "execution_count": 63,
     "metadata": {},
     "output_type": "execute_result"
    }
   ],
   "source": [
    "score= 600\n",
    "odds = 50\n",
    "pdo = 20\n",
    "factor = pdo/np.log(2)\n",
    "\n",
    "offset = score - np.log(odds)*factor\n",
    "offset"
   ]
  },
  {
   "cell_type": "code",
   "execution_count": 64,
   "metadata": {},
   "outputs": [],
   "source": [
    "def make_scorecard(woe_df, model, pdo=20, offset_score=600):\n",
    "    '''calculates credit score'''\n",
    "    features = model.params.index.values[1:]\n",
    "    factor = pdo/np.log(2)\n",
    "    n = len(features)\n",
    "    offset = offset_score - np.log(50)*factor\n",
    "    \n",
    "    scorecard = -(((woe_df[features]*(model.params.iloc[1:])).sum(axis=1)) + model.params.Intercept)*factor +  offset\n",
    "    return scorecard"
   ]
  },
  {
   "cell_type": "code",
   "execution_count": 68,
   "metadata": {},
   "outputs": [],
   "source": [
    "train_scorecard = make_scorecard(train_woe, func, offset_score=600)\n",
    "dev_scorecard = make_scorecard(dev_woe, func, offset_score=600)"
   ]
  },
  {
   "cell_type": "code",
   "execution_count": 69,
   "metadata": {},
   "outputs": [],
   "source": [
    "train['credit_score'] = train_scorecard\n",
    "train.to_csv('output/train_credit_scores.csv')\n",
    "\n",
    "dev['credit_score'] = dev_scorecard\n",
    "dev.to_csv('output/dev_credit_scores.csv')"
   ]
  },
  {
   "cell_type": "markdown",
   "metadata": {},
   "source": [
    "## Predicting on Test Data"
   ]
  },
  {
   "cell_type": "code",
   "execution_count": 67,
   "metadata": {},
   "outputs": [
    {
     "data": {
      "text/html": [
       "<div>\n",
       "<style scoped>\n",
       "    .dataframe tbody tr th:only-of-type {\n",
       "        vertical-align: middle;\n",
       "    }\n",
       "\n",
       "    .dataframe tbody tr th {\n",
       "        vertical-align: top;\n",
       "    }\n",
       "\n",
       "    .dataframe thead th {\n",
       "        text-align: right;\n",
       "    }\n",
       "</style>\n",
       "<table border=\"1\" class=\"dataframe\">\n",
       "  <thead>\n",
       "    <tr style=\"text-align: right;\">\n",
       "      <th></th>\n",
       "      <th>SeriousDlqin2yrs</th>\n",
       "      <th>RevolvingUtilizationOfUnsecuredLines</th>\n",
       "      <th>age</th>\n",
       "      <th>NumberOfTime30-59DaysPastDueNotWorse</th>\n",
       "      <th>DebtRatio</th>\n",
       "      <th>MonthlyIncome</th>\n",
       "      <th>NumberOfOpenCreditLinesAndLoans</th>\n",
       "      <th>NumberOfTimes90DaysLate</th>\n",
       "      <th>NumberRealEstateLoansOrLines</th>\n",
       "      <th>NumberOfTime60-89DaysPastDueNotWorse</th>\n",
       "      <th>NumberOfDependents</th>\n",
       "    </tr>\n",
       "  </thead>\n",
       "  <tbody>\n",
       "    <tr>\n",
       "      <th>1</th>\n",
       "      <td>NaN</td>\n",
       "      <td>0.885519</td>\n",
       "      <td>43</td>\n",
       "      <td>0</td>\n",
       "      <td>0.177513</td>\n",
       "      <td>5700.0</td>\n",
       "      <td>4</td>\n",
       "      <td>0</td>\n",
       "      <td>0</td>\n",
       "      <td>0</td>\n",
       "      <td>0.0</td>\n",
       "    </tr>\n",
       "    <tr>\n",
       "      <th>2</th>\n",
       "      <td>NaN</td>\n",
       "      <td>0.463295</td>\n",
       "      <td>57</td>\n",
       "      <td>0</td>\n",
       "      <td>0.527237</td>\n",
       "      <td>9141.0</td>\n",
       "      <td>15</td>\n",
       "      <td>0</td>\n",
       "      <td>4</td>\n",
       "      <td>0</td>\n",
       "      <td>2.0</td>\n",
       "    </tr>\n",
       "    <tr>\n",
       "      <th>3</th>\n",
       "      <td>NaN</td>\n",
       "      <td>0.043275</td>\n",
       "      <td>59</td>\n",
       "      <td>0</td>\n",
       "      <td>0.687648</td>\n",
       "      <td>5083.0</td>\n",
       "      <td>12</td>\n",
       "      <td>0</td>\n",
       "      <td>1</td>\n",
       "      <td>0</td>\n",
       "      <td>2.0</td>\n",
       "    </tr>\n",
       "    <tr>\n",
       "      <th>4</th>\n",
       "      <td>NaN</td>\n",
       "      <td>0.280308</td>\n",
       "      <td>38</td>\n",
       "      <td>1</td>\n",
       "      <td>0.925961</td>\n",
       "      <td>3200.0</td>\n",
       "      <td>7</td>\n",
       "      <td>0</td>\n",
       "      <td>2</td>\n",
       "      <td>0</td>\n",
       "      <td>0.0</td>\n",
       "    </tr>\n",
       "    <tr>\n",
       "      <th>5</th>\n",
       "      <td>NaN</td>\n",
       "      <td>1.000000</td>\n",
       "      <td>27</td>\n",
       "      <td>0</td>\n",
       "      <td>0.019917</td>\n",
       "      <td>3865.0</td>\n",
       "      <td>4</td>\n",
       "      <td>0</td>\n",
       "      <td>0</td>\n",
       "      <td>0</td>\n",
       "      <td>1.0</td>\n",
       "    </tr>\n",
       "  </tbody>\n",
       "</table>\n",
       "</div>"
      ],
      "text/plain": [
       "   SeriousDlqin2yrs  RevolvingUtilizationOfUnsecuredLines  age  \\\n",
       "1               NaN                              0.885519   43   \n",
       "2               NaN                              0.463295   57   \n",
       "3               NaN                              0.043275   59   \n",
       "4               NaN                              0.280308   38   \n",
       "5               NaN                              1.000000   27   \n",
       "\n",
       "   NumberOfTime30-59DaysPastDueNotWorse  DebtRatio  MonthlyIncome  \\\n",
       "1                                     0   0.177513         5700.0   \n",
       "2                                     0   0.527237         9141.0   \n",
       "3                                     0   0.687648         5083.0   \n",
       "4                                     1   0.925961         3200.0   \n",
       "5                                     0   0.019917         3865.0   \n",
       "\n",
       "   NumberOfOpenCreditLinesAndLoans  NumberOfTimes90DaysLate  \\\n",
       "1                                4                        0   \n",
       "2                               15                        0   \n",
       "3                               12                        0   \n",
       "4                                7                        0   \n",
       "5                                4                        0   \n",
       "\n",
       "   NumberRealEstateLoansOrLines  NumberOfTime60-89DaysPastDueNotWorse  \\\n",
       "1                             0                                     0   \n",
       "2                             4                                     0   \n",
       "3                             1                                     0   \n",
       "4                             2                                     0   \n",
       "5                             0                                     0   \n",
       "\n",
       "   NumberOfDependents  \n",
       "1                 0.0  \n",
       "2                 2.0  \n",
       "3                 2.0  \n",
       "4                 0.0  \n",
       "5                 1.0  "
      ]
     },
     "execution_count": 67,
     "metadata": {},
     "output_type": "execute_result"
    }
   ],
   "source": [
    "test = pd.read_csv('data/cs-test.csv', index_col=0)\n",
    "test.head()"
   ]
  },
  {
   "cell_type": "code",
   "execution_count": 26,
   "metadata": {},
   "outputs": [
    {
     "data": {
      "text/plain": [
       "count    101503.000000\n",
       "mean        695.353465\n",
       "std          34.102913\n",
       "min         540.370848\n",
       "25%         677.351574\n",
       "50%         704.746386\n",
       "75%         721.206900\n",
       "max         741.375176\n",
       "dtype: float64"
      ]
     },
     "execution_count": 26,
     "metadata": {},
     "output_type": "execute_result"
    }
   ],
   "source": [
    "test = clean_data(test, 5400, 3)\n",
    "test_binned_df = create_bins(test, binsdf)\n",
    "test_woe = create_woe(test_binned_df, woe)\n",
    "test_scorecard = make_scorecard(test_woe, func)\n",
    "test_scorecard.describe()"
   ]
  },
  {
   "cell_type": "code",
   "execution_count": 27,
   "metadata": {},
   "outputs": [],
   "source": [
    "test['credit_score'] = test_scorecard\n",
    "test.to_csv('output/test_credit_scores.csv')"
   ]
  },
  {
   "cell_type": "markdown",
   "metadata": {},
   "source": [
    "### Score distribution"
   ]
  },
  {
   "cell_type": "code",
   "execution_count": null,
   "metadata": {},
   "outputs": [],
   "source": []
  },
  {
   "cell_type": "code",
   "execution_count": null,
   "metadata": {},
   "outputs": [],
   "source": []
  },
  {
   "cell_type": "code",
   "execution_count": null,
   "metadata": {},
   "outputs": [],
   "source": []
  },
  {
   "cell_type": "code",
   "execution_count": null,
   "metadata": {},
   "outputs": [],
   "source": []
  },
  {
   "cell_type": "code",
   "execution_count": 70,
   "metadata": {},
   "outputs": [],
   "source": [
    "dev['credit_score'] = dev_scorecard"
   ]
  },
  {
   "cell_type": "code",
   "execution_count": 143,
   "metadata": {},
   "outputs": [
    {
     "data": {
      "text/plain": [
       "<matplotlib.axes._subplots.AxesSubplot at 0x7f3da00e17f0>"
      ]
     },
     "execution_count": 143,
     "metadata": {},
     "output_type": "execute_result"
    },
    {
     "data": {
      "image/png": "[encoded data removed]",
      "text/plain": [
       "<Figure size 432x288 with 1 Axes>"
      ]
     },
     "metadata": {},
     "output_type": "display_data"
    }
   ],
   "source": [
    "# plt.style.use('dark_background')\n",
    "dev['credit_bin'] = pd.qcut(dev['credit_score'], 10)\n",
    "dev.groupby(by='credit_bin').agg('mean')[target_col].plot()"
   ]
  },
  {
   "cell_type": "code",
   "execution_count": 72,
   "metadata": {},
   "outputs": [
    {
     "data": {
      "text/html": [
       "<div>\n",
       "<style scoped>\n",
       "    .dataframe tbody tr th:only-of-type {\n",
       "        vertical-align: middle;\n",
       "    }\n",
       "\n",
       "    .dataframe tbody tr th {\n",
       "        vertical-align: top;\n",
       "    }\n",
       "\n",
       "    .dataframe thead th {\n",
       "        text-align: right;\n",
       "    }\n",
       "</style>\n",
       "<table border=\"1\" class=\"dataframe\">\n",
       "  <thead>\n",
       "    <tr style=\"text-align: right;\">\n",
       "      <th></th>\n",
       "      <th>credit_bin</th>\n",
       "      <th>min_score</th>\n",
       "      <th>max_score</th>\n",
       "      <th>default_rate</th>\n",
       "    </tr>\n",
       "  </thead>\n",
       "  <tbody>\n",
       "    <tr>\n",
       "      <th>0</th>\n",
       "      <td>(430.624, 538.367]</td>\n",
       "      <td>430</td>\n",
       "      <td>538</td>\n",
       "      <td>36.7</td>\n",
       "    </tr>\n",
       "    <tr>\n",
       "      <th>1</th>\n",
       "      <td>(538.367, 557.479]</td>\n",
       "      <td>538</td>\n",
       "      <td>557</td>\n",
       "      <td>11.4</td>\n",
       "    </tr>\n",
       "    <tr>\n",
       "      <th>2</th>\n",
       "      <td>(557.479, 571.337]</td>\n",
       "      <td>557</td>\n",
       "      <td>571</td>\n",
       "      <td>7.0</td>\n",
       "    </tr>\n",
       "    <tr>\n",
       "      <th>3</th>\n",
       "      <td>(571.337, 583.009]</td>\n",
       "      <td>571</td>\n",
       "      <td>583</td>\n",
       "      <td>4.6</td>\n",
       "    </tr>\n",
       "    <tr>\n",
       "      <th>4</th>\n",
       "      <td>(583.009, 591.473]</td>\n",
       "      <td>583</td>\n",
       "      <td>591</td>\n",
       "      <td>2.6</td>\n",
       "    </tr>\n",
       "    <tr>\n",
       "      <th>5</th>\n",
       "      <td>(591.473, 598.97]</td>\n",
       "      <td>591</td>\n",
       "      <td>598</td>\n",
       "      <td>1.5</td>\n",
       "    </tr>\n",
       "    <tr>\n",
       "      <th>6</th>\n",
       "      <td>(598.97, 605.128]</td>\n",
       "      <td>598</td>\n",
       "      <td>605</td>\n",
       "      <td>1.2</td>\n",
       "    </tr>\n",
       "    <tr>\n",
       "      <th>7</th>\n",
       "      <td>(605.128, 610.527]</td>\n",
       "      <td>605</td>\n",
       "      <td>610</td>\n",
       "      <td>0.9</td>\n",
       "    </tr>\n",
       "    <tr>\n",
       "      <th>8</th>\n",
       "      <td>(610.527, 616.943]</td>\n",
       "      <td>610</td>\n",
       "      <td>616</td>\n",
       "      <td>0.6</td>\n",
       "    </tr>\n",
       "    <tr>\n",
       "      <th>9</th>\n",
       "      <td>(616.943, 628.498]</td>\n",
       "      <td>616</td>\n",
       "      <td>628</td>\n",
       "      <td>0.6</td>\n",
       "    </tr>\n",
       "  </tbody>\n",
       "</table>\n",
       "</div>"
      ],
      "text/plain": [
       "           credit_bin min_score max_score  default_rate\n",
       "0  (430.624, 538.367]       430       538          36.7\n",
       "1  (538.367, 557.479]       538       557          11.4\n",
       "2  (557.479, 571.337]       557       571           7.0\n",
       "3  (571.337, 583.009]       571       583           4.6\n",
       "4  (583.009, 591.473]       583       591           2.6\n",
       "5   (591.473, 598.97]       591       598           1.5\n",
       "6   (598.97, 605.128]       598       605           1.2\n",
       "7  (605.128, 610.527]       605       610           0.9\n",
       "8  (610.527, 616.943]       610       616           0.6\n",
       "9  (616.943, 628.498]       616       628           0.6"
      ]
     },
     "execution_count": 72,
     "metadata": {},
     "output_type": "execute_result"
    }
   ],
   "source": [
    "score_bins['min_score'] = score_bins['credit_bin'].apply(lambda x: int(x.left))\n",
    "score_bins['max_score'] = score_bins['credit_bin'].apply(lambda x: int(x.right))\n",
    "score_bins.columns = ['credit_bin', 'default_rate', 'min_score', 'max_score']\n",
    "score_bins = score_bins[['credit_bin', 'min_score', 'max_score', 'default_rate']]\n",
    "score_bins"
   ]
  },
  {
   "cell_type": "code",
   "execution_count": 75,
   "metadata": {},
   "outputs": [
    {
     "data": {
      "text/plain": [
       "['RevolvingUtilizationOfUnsecuredLines',\n",
       " 'age',\n",
       " 'DebtRatio',\n",
       " 'MonthlyIncome',\n",
       " 'NumberOfTime30_59DaysPastDueNotWorse',\n",
       " 'NumberOfTime60_89DaysPastDueNotWorse',\n",
       " 'NumberOfTimes90DaysLate',\n",
       " 'NumberRealEstateLoansOrLines',\n",
       " 'NumberOfDependents']"
      ]
     },
     "execution_count": 75,
     "metadata": {},
     "output_type": "execute_result"
    }
   ],
   "source": [
    "variables = list(func.params[1:].index)\n",
    "variables"
   ]
  },
  {
   "cell_type": "code",
   "execution_count": 102,
   "metadata": {},
   "outputs": [
    {
     "data": {
      "text/html": [
       "<div>\n",
       "<style scoped>\n",
       "    .dataframe tbody tr th:only-of-type {\n",
       "        vertical-align: middle;\n",
       "    }\n",
       "\n",
       "    .dataframe tbody tr th {\n",
       "        vertical-align: top;\n",
       "    }\n",
       "\n",
       "    .dataframe thead th {\n",
       "        text-align: right;\n",
       "    }\n",
       "</style>\n",
       "<table border=\"1\" class=\"dataframe\">\n",
       "  <thead>\n",
       "    <tr style=\"text-align: right;\">\n",
       "      <th></th>\n",
       "      <th>SeriousDlqin2yrs</th>\n",
       "      <th>RevolvingUtilizationOfUnsecuredLines</th>\n",
       "      <th>age</th>\n",
       "      <th>NumberOfTime30_59DaysPastDueNotWorse</th>\n",
       "      <th>DebtRatio</th>\n",
       "      <th>MonthlyIncome</th>\n",
       "      <th>NumberOfOpenCreditLinesAndLoans</th>\n",
       "      <th>NumberOfTimes90DaysLate</th>\n",
       "      <th>NumberRealEstateLoansOrLines</th>\n",
       "      <th>NumberOfTime60_89DaysPastDueNotWorse</th>\n",
       "      <th>...</th>\n",
       "      <th>RevolvingUtilizationOfUnsecuredLines_woe</th>\n",
       "      <th>age_woe</th>\n",
       "      <th>NumberOfTime30_59DaysPastDueNotWorse_woe</th>\n",
       "      <th>DebtRatio_woe</th>\n",
       "      <th>MonthlyIncome_woe</th>\n",
       "      <th>NumberOfOpenCreditLinesAndLoans_woe</th>\n",
       "      <th>NumberOfTimes90DaysLate_woe</th>\n",
       "      <th>NumberRealEstateLoansOrLines_woe</th>\n",
       "      <th>NumberOfTime60_89DaysPastDueNotWorse_woe</th>\n",
       "      <th>NumberOfDependents_woe</th>\n",
       "    </tr>\n",
       "  </thead>\n",
       "  <tbody>\n",
       "    <tr>\n",
       "      <th>7</th>\n",
       "      <td>0</td>\n",
       "      <td>(0.27, 0.6970000000000001]</td>\n",
       "      <td>(56.0, 65.0]</td>\n",
       "      <td>0</td>\n",
       "      <td>(3.62, 329664.0]</td>\n",
       "      <td>(3900.0, 5400.0]</td>\n",
       "      <td>(6.0, 9.0]</td>\n",
       "      <td>0</td>\n",
       "      <td>3</td>\n",
       "      <td>0</td>\n",
       "      <td>...</td>\n",
       "      <td>-0.041499</td>\n",
       "      <td>0.412348</td>\n",
       "      <td>0.538239</td>\n",
       "      <td>0.198680</td>\n",
       "      <td>0.017534</td>\n",
       "      <td>0.230913</td>\n",
       "      <td>0.384389</td>\n",
       "      <td>-0.235988</td>\n",
       "      <td>0.285051</td>\n",
       "      <td>0.145361</td>\n",
       "    </tr>\n",
       "    <tr>\n",
       "      <th>9</th>\n",
       "      <td>0</td>\n",
       "      <td>(0.0828, 0.27]</td>\n",
       "      <td>(20.999, 39.0]</td>\n",
       "      <td>0</td>\n",
       "      <td>(3.62, 329664.0]</td>\n",
       "      <td>(3900.0, 5400.0]</td>\n",
       "      <td>(-0.001, 4.0]</td>\n",
       "      <td>0</td>\n",
       "      <td>0</td>\n",
       "      <td>0</td>\n",
       "      <td>...</td>\n",
       "      <td>0.856237</td>\n",
       "      <td>-0.491161</td>\n",
       "      <td>0.538239</td>\n",
       "      <td>0.198680</td>\n",
       "      <td>0.017534</td>\n",
       "      <td>-0.351146</td>\n",
       "      <td>0.384389</td>\n",
       "      <td>-0.243963</td>\n",
       "      <td>0.285051</td>\n",
       "      <td>0.145361</td>\n",
       "    </tr>\n",
       "    <tr>\n",
       "      <th>13</th>\n",
       "      <td>0</td>\n",
       "      <td>(-0.001, 0.019100000000000002]</td>\n",
       "      <td>(39.0, 48.0]</td>\n",
       "      <td>0</td>\n",
       "      <td>(0.28700000000000003, 0.468]</td>\n",
       "      <td>(7373.25, 1794060.0]</td>\n",
       "      <td>(12.0, 57.0]</td>\n",
       "      <td>0</td>\n",
       "      <td>2</td>\n",
       "      <td>0</td>\n",
       "      <td>...</td>\n",
       "      <td>1.300265</td>\n",
       "      <td>-0.238303</td>\n",
       "      <td>0.538239</td>\n",
       "      <td>0.073002</td>\n",
       "      <td>0.368569</td>\n",
       "      <td>0.001339</td>\n",
       "      <td>0.384389</td>\n",
       "      <td>0.206687</td>\n",
       "      <td>0.285051</td>\n",
       "      <td>-0.191095</td>\n",
       "    </tr>\n",
       "    <tr>\n",
       "      <th>20</th>\n",
       "      <td>0</td>\n",
       "      <td>(0.27, 0.6970000000000001]</td>\n",
       "      <td>(20.999, 39.0]</td>\n",
       "      <td>0</td>\n",
       "      <td>(-0.001, 0.134]</td>\n",
       "      <td>(-0.001, 3900.0]</td>\n",
       "      <td>(-0.001, 4.0]</td>\n",
       "      <td>0</td>\n",
       "      <td>0</td>\n",
       "      <td>0</td>\n",
       "      <td>...</td>\n",
       "      <td>-0.041499</td>\n",
       "      <td>-0.491161</td>\n",
       "      <td>0.538239</td>\n",
       "      <td>0.093126</td>\n",
       "      <td>-0.328794</td>\n",
       "      <td>-0.351146</td>\n",
       "      <td>0.384389</td>\n",
       "      <td>-0.243963</td>\n",
       "      <td>0.285051</td>\n",
       "      <td>0.145361</td>\n",
       "    </tr>\n",
       "    <tr>\n",
       "      <th>25</th>\n",
       "      <td>0</td>\n",
       "      <td>(0.019100000000000002, 0.0828]</td>\n",
       "      <td>(56.0, 65.0]</td>\n",
       "      <td>0</td>\n",
       "      <td>(0.134, 0.28700000000000003]</td>\n",
       "      <td>(-0.001, 3900.0]</td>\n",
       "      <td>(6.0, 9.0]</td>\n",
       "      <td>0</td>\n",
       "      <td>1</td>\n",
       "      <td>0</td>\n",
       "      <td>...</td>\n",
       "      <td>1.407820</td>\n",
       "      <td>0.412348</td>\n",
       "      <td>0.538239</td>\n",
       "      <td>0.158030</td>\n",
       "      <td>-0.328794</td>\n",
       "      <td>0.230913</td>\n",
       "      <td>0.384389</td>\n",
       "      <td>0.253011</td>\n",
       "      <td>0.285051</td>\n",
       "      <td>0.145361</td>\n",
       "    </tr>\n",
       "  </tbody>\n",
       "</table>\n",
       "<p>5 rows × 24 columns</p>\n",
       "</div>"
      ],
      "text/plain": [
       "    SeriousDlqin2yrs RevolvingUtilizationOfUnsecuredLines             age  \\\n",
       "7                  0           (0.27, 0.6970000000000001]    (56.0, 65.0]   \n",
       "9                  0                       (0.0828, 0.27]  (20.999, 39.0]   \n",
       "13                 0       (-0.001, 0.019100000000000002]    (39.0, 48.0]   \n",
       "20                 0           (0.27, 0.6970000000000001]  (20.999, 39.0]   \n",
       "25                 0       (0.019100000000000002, 0.0828]    (56.0, 65.0]   \n",
       "\n",
       "    NumberOfTime30_59DaysPastDueNotWorse                     DebtRatio  \\\n",
       "7                                      0              (3.62, 329664.0]   \n",
       "9                                      0              (3.62, 329664.0]   \n",
       "13                                     0  (0.28700000000000003, 0.468]   \n",
       "20                                     0               (-0.001, 0.134]   \n",
       "25                                     0  (0.134, 0.28700000000000003]   \n",
       "\n",
       "           MonthlyIncome NumberOfOpenCreditLinesAndLoans  \\\n",
       "7       (3900.0, 5400.0]                      (6.0, 9.0]   \n",
       "9       (3900.0, 5400.0]                   (-0.001, 4.0]   \n",
       "13  (7373.25, 1794060.0]                    (12.0, 57.0]   \n",
       "20      (-0.001, 3900.0]                   (-0.001, 4.0]   \n",
       "25      (-0.001, 3900.0]                      (6.0, 9.0]   \n",
       "\n",
       "    NumberOfTimes90DaysLate  NumberRealEstateLoansOrLines  \\\n",
       "7                         0                             3   \n",
       "9                         0                             0   \n",
       "13                        0                             2   \n",
       "20                        0                             0   \n",
       "25                        0                             1   \n",
       "\n",
       "    NumberOfTime60_89DaysPastDueNotWorse           ...            \\\n",
       "7                                      0           ...             \n",
       "9                                      0           ...             \n",
       "13                                     0           ...             \n",
       "20                                     0           ...             \n",
       "25                                     0           ...             \n",
       "\n",
       "    RevolvingUtilizationOfUnsecuredLines_woe   age_woe  \\\n",
       "7                                  -0.041499  0.412348   \n",
       "9                                   0.856237 -0.491161   \n",
       "13                                  1.300265 -0.238303   \n",
       "20                                 -0.041499 -0.491161   \n",
       "25                                  1.407820  0.412348   \n",
       "\n",
       "   NumberOfTime30_59DaysPastDueNotWorse_woe  DebtRatio_woe  MonthlyIncome_woe  \\\n",
       "7                                  0.538239       0.198680           0.017534   \n",
       "9                                  0.538239       0.198680           0.017534   \n",
       "13                                 0.538239       0.073002           0.368569   \n",
       "20                                 0.538239       0.093126          -0.328794   \n",
       "25                                 0.538239       0.158030          -0.328794   \n",
       "\n",
       "    NumberOfOpenCreditLinesAndLoans_woe  NumberOfTimes90DaysLate_woe  \\\n",
       "7                              0.230913                     0.384389   \n",
       "9                             -0.351146                     0.384389   \n",
       "13                             0.001339                     0.384389   \n",
       "20                            -0.351146                     0.384389   \n",
       "25                             0.230913                     0.384389   \n",
       "\n",
       "    NumberRealEstateLoansOrLines_woe  \\\n",
       "7                          -0.235988   \n",
       "9                          -0.243963   \n",
       "13                          0.206687   \n",
       "20                         -0.243963   \n",
       "25                          0.253011   \n",
       "\n",
       "    NumberOfTime60_89DaysPastDueNotWorse_woe  NumberOfDependents_woe  \n",
       "7                                   0.285051                0.145361  \n",
       "9                                   0.285051                0.145361  \n",
       "13                                  0.285051               -0.191095  \n",
       "20                                  0.285051                0.145361  \n",
       "25                                  0.285051                0.145361  \n",
       "\n",
       "[5 rows x 24 columns]"
      ]
     },
     "execution_count": 102,
     "metadata": {},
     "output_type": "execute_result"
    }
   ],
   "source": [
    "dev_binned_df_3 = dev_binned_df_2.join(dev_woe, rsuffix='_woe')\n",
    "dev_binned_df_3.head()"
   ]
  },
  {
   "cell_type": "code",
   "execution_count": 127,
   "metadata": {},
   "outputs": [],
   "source": [
    "score_list = []\n",
    "for variable in variables:\n",
    "    for val in dev_binned_df_3[variable+'_woe'].unique():\n",
    "        try:\n",
    "            temp_list = []\n",
    "            temp_list.append(variable)\n",
    "            _bin = dev_binned_df_3[dev_binned_df_3[variable+'_woe']==val][variable].mode().values[0]\n",
    "#             if isinstance(_bin, Interval):\n",
    "#                 _bin = (_bin.left, _bin.right)\n",
    "            temp_list.append(_bin)\n",
    "            temp_list.append((val*func.params[variable] +\\\n",
    "                                         func.params['Intercept']/len(variables))*20/np.log(2) + \\\n",
    "                                        offset/len(variables))\n",
    "            score_list.append(pd.Series(temp_list))\n",
    "        except:\n",
    "            pass\n",
    "      "
   ]
  },
  {
   "cell_type": "code",
   "execution_count": 132,
   "metadata": {},
   "outputs": [
    {
     "data": {
      "text/html": [
       "<div>\n",
       "<style scoped>\n",
       "    .dataframe tbody tr th:only-of-type {\n",
       "        vertical-align: middle;\n",
       "    }\n",
       "\n",
       "    .dataframe tbody tr th {\n",
       "        vertical-align: top;\n",
       "    }\n",
       "\n",
       "    .dataframe thead th {\n",
       "        text-align: right;\n",
       "    }\n",
       "</style>\n",
       "<table border=\"1\" class=\"dataframe\">\n",
       "  <thead>\n",
       "    <tr style=\"text-align: right;\">\n",
       "      <th></th>\n",
       "      <th>variable</th>\n",
       "      <th>bin</th>\n",
       "      <th>score</th>\n",
       "    </tr>\n",
       "  </thead>\n",
       "  <tbody>\n",
       "    <tr>\n",
       "      <th>0</th>\n",
       "      <td>RevolvingUtilizationOfUnsecuredLines</td>\n",
       "      <td>(0.6970000000000001, 1.0]</td>\n",
       "      <td>67.7531</td>\n",
       "    </tr>\n",
       "    <tr>\n",
       "      <th>1</th>\n",
       "      <td>RevolvingUtilizationOfUnsecuredLines</td>\n",
       "      <td>(0.27, 0.6970000000000001]</td>\n",
       "      <td>46.4889</td>\n",
       "    </tr>\n",
       "    <tr>\n",
       "      <th>2</th>\n",
       "      <td>RevolvingUtilizationOfUnsecuredLines</td>\n",
       "      <td>(0.0828, 0.27]</td>\n",
       "      <td>30.5946</td>\n",
       "    </tr>\n",
       "    <tr>\n",
       "      <th>3</th>\n",
       "      <td>RevolvingUtilizationOfUnsecuredLines</td>\n",
       "      <td>(-0.001, 0.019100000000000002]</td>\n",
       "      <td>22.7332</td>\n",
       "    </tr>\n",
       "    <tr>\n",
       "      <th>4</th>\n",
       "      <td>RevolvingUtilizationOfUnsecuredLines</td>\n",
       "      <td>(0.019100000000000002, 0.0828]</td>\n",
       "      <td>20.8289</td>\n",
       "    </tr>\n",
       "    <tr>\n",
       "      <th>5</th>\n",
       "      <td>age</td>\n",
       "      <td>(20.999, 39.0]</td>\n",
       "      <td>51.6563</td>\n",
       "    </tr>\n",
       "    <tr>\n",
       "      <th>6</th>\n",
       "      <td>age</td>\n",
       "      <td>(39.0, 48.0]</td>\n",
       "      <td>48.6178</td>\n",
       "    </tr>\n",
       "    <tr>\n",
       "      <th>7</th>\n",
       "      <td>age</td>\n",
       "      <td>(48.0, 56.0]</td>\n",
       "      <td>46.6261</td>\n",
       "    </tr>\n",
       "    <tr>\n",
       "      <th>8</th>\n",
       "      <td>age</td>\n",
       "      <td>(56.0, 65.0]</td>\n",
       "      <td>40.7991</td>\n",
       "    </tr>\n",
       "    <tr>\n",
       "      <th>9</th>\n",
       "      <td>age</td>\n",
       "      <td>(65.0, 109.0]</td>\n",
       "      <td>33.2097</td>\n",
       "    </tr>\n",
       "    <tr>\n",
       "      <th>10</th>\n",
       "      <td>DebtRatio</td>\n",
       "      <td>(0.468, 3.62]</td>\n",
       "      <td>55.4281</td>\n",
       "    </tr>\n",
       "    <tr>\n",
       "      <th>11</th>\n",
       "      <td>DebtRatio</td>\n",
       "      <td>(0.28700000000000003, 0.468]</td>\n",
       "      <td>44.0316</td>\n",
       "    </tr>\n",
       "    <tr>\n",
       "      <th>12</th>\n",
       "      <td>DebtRatio</td>\n",
       "      <td>(-0.001, 0.134]</td>\n",
       "      <td>43.5567</td>\n",
       "    </tr>\n",
       "    <tr>\n",
       "      <th>13</th>\n",
       "      <td>DebtRatio</td>\n",
       "      <td>(0.134, 0.28700000000000003]</td>\n",
       "      <td>42.0252</td>\n",
       "    </tr>\n",
       "    <tr>\n",
       "      <th>14</th>\n",
       "      <td>DebtRatio</td>\n",
       "      <td>(3.62, 329664.0]</td>\n",
       "      <td>41.066</td>\n",
       "    </tr>\n",
       "    <tr>\n",
       "      <th>15</th>\n",
       "      <td>MonthlyIncome</td>\n",
       "      <td>(-0.001, 3900.0]</td>\n",
       "      <td>47.4938</td>\n",
       "    </tr>\n",
       "    <tr>\n",
       "      <th>16</th>\n",
       "      <td>MonthlyIncome</td>\n",
       "      <td>(3900.0, 5400.0]</td>\n",
       "      <td>45.6614</td>\n",
       "    </tr>\n",
       "    <tr>\n",
       "      <th>17</th>\n",
       "      <td>MonthlyIncome</td>\n",
       "      <td>(5400.0, 7373.25]</td>\n",
       "      <td>45.3849</td>\n",
       "    </tr>\n",
       "    <tr>\n",
       "      <th>18</th>\n",
       "      <td>MonthlyIncome</td>\n",
       "      <td>(7373.25, 1794060.0]</td>\n",
       "      <td>43.8041</td>\n",
       "    </tr>\n",
       "    <tr>\n",
       "      <th>19</th>\n",
       "      <td>NumberOfTime30_59DaysPastDueNotWorse</td>\n",
       "      <td>2</td>\n",
       "      <td>74.8946</td>\n",
       "    </tr>\n",
       "    <tr>\n",
       "      <th>20</th>\n",
       "      <td>NumberOfTime30_59DaysPastDueNotWorse</td>\n",
       "      <td>1</td>\n",
       "      <td>59.3922</td>\n",
       "    </tr>\n",
       "    <tr>\n",
       "      <th>21</th>\n",
       "      <td>NumberOfTime30_59DaysPastDueNotWorse</td>\n",
       "      <td>0</td>\n",
       "      <td>37.5185</td>\n",
       "    </tr>\n",
       "    <tr>\n",
       "      <th>22</th>\n",
       "      <td>NumberOfTime60_89DaysPastDueNotWorse</td>\n",
       "      <td>1</td>\n",
       "      <td>70.1805</td>\n",
       "    </tr>\n",
       "    <tr>\n",
       "      <th>23</th>\n",
       "      <td>NumberOfTime60_89DaysPastDueNotWorse</td>\n",
       "      <td>0</td>\n",
       "      <td>42.3838</td>\n",
       "    </tr>\n",
       "    <tr>\n",
       "      <th>24</th>\n",
       "      <td>NumberOfTimes90DaysLate</td>\n",
       "      <td>1</td>\n",
       "      <td>81.3477</td>\n",
       "    </tr>\n",
       "    <tr>\n",
       "      <th>25</th>\n",
       "      <td>NumberOfTimes90DaysLate</td>\n",
       "      <td>0</td>\n",
       "      <td>39.7659</td>\n",
       "    </tr>\n",
       "    <tr>\n",
       "      <th>26</th>\n",
       "      <td>NumberRealEstateLoansOrLines</td>\n",
       "      <td>0</td>\n",
       "      <td>50.0029</td>\n",
       "    </tr>\n",
       "    <tr>\n",
       "      <th>27</th>\n",
       "      <td>NumberRealEstateLoansOrLines</td>\n",
       "      <td>3</td>\n",
       "      <td>49.864</td>\n",
       "    </tr>\n",
       "    <tr>\n",
       "      <th>28</th>\n",
       "      <td>NumberRealEstateLoansOrLines</td>\n",
       "      <td>2</td>\n",
       "      <td>42.1546</td>\n",
       "    </tr>\n",
       "    <tr>\n",
       "      <th>29</th>\n",
       "      <td>NumberRealEstateLoansOrLines</td>\n",
       "      <td>1</td>\n",
       "      <td>41.3479</td>\n",
       "    </tr>\n",
       "    <tr>\n",
       "      <th>30</th>\n",
       "      <td>NumberOfDependents</td>\n",
       "      <td>3</td>\n",
       "      <td>47.9951</td>\n",
       "    </tr>\n",
       "    <tr>\n",
       "      <th>31</th>\n",
       "      <td>NumberOfDependents</td>\n",
       "      <td>2</td>\n",
       "      <td>46.9249</td>\n",
       "    </tr>\n",
       "    <tr>\n",
       "      <th>32</th>\n",
       "      <td>NumberOfDependents</td>\n",
       "      <td>1</td>\n",
       "      <td>46.3499</td>\n",
       "    </tr>\n",
       "    <tr>\n",
       "      <th>33</th>\n",
       "      <td>NumberOfDependents</td>\n",
       "      <td>0</td>\n",
       "      <td>44.8636</td>\n",
       "    </tr>\n",
       "  </tbody>\n",
       "</table>\n",
       "</div>"
      ],
      "text/plain": [
       "                                variable                             bin  \\\n",
       "0   RevolvingUtilizationOfUnsecuredLines       (0.6970000000000001, 1.0]   \n",
       "1   RevolvingUtilizationOfUnsecuredLines      (0.27, 0.6970000000000001]   \n",
       "2   RevolvingUtilizationOfUnsecuredLines                  (0.0828, 0.27]   \n",
       "3   RevolvingUtilizationOfUnsecuredLines  (-0.001, 0.019100000000000002]   \n",
       "4   RevolvingUtilizationOfUnsecuredLines  (0.019100000000000002, 0.0828]   \n",
       "5                                    age                  (20.999, 39.0]   \n",
       "6                                    age                    (39.0, 48.0]   \n",
       "7                                    age                    (48.0, 56.0]   \n",
       "8                                    age                    (56.0, 65.0]   \n",
       "9                                    age                   (65.0, 109.0]   \n",
       "10                             DebtRatio                   (0.468, 3.62]   \n",
       "11                             DebtRatio    (0.28700000000000003, 0.468]   \n",
       "12                             DebtRatio                 (-0.001, 0.134]   \n",
       "13                             DebtRatio    (0.134, 0.28700000000000003]   \n",
       "14                             DebtRatio                (3.62, 329664.0]   \n",
       "15                         MonthlyIncome                (-0.001, 3900.0]   \n",
       "16                         MonthlyIncome                (3900.0, 5400.0]   \n",
       "17                         MonthlyIncome               (5400.0, 7373.25]   \n",
       "18                         MonthlyIncome            (7373.25, 1794060.0]   \n",
       "19  NumberOfTime30_59DaysPastDueNotWorse                               2   \n",
       "20  NumberOfTime30_59DaysPastDueNotWorse                               1   \n",
       "21  NumberOfTime30_59DaysPastDueNotWorse                               0   \n",
       "22  NumberOfTime60_89DaysPastDueNotWorse                               1   \n",
       "23  NumberOfTime60_89DaysPastDueNotWorse                               0   \n",
       "24               NumberOfTimes90DaysLate                               1   \n",
       "25               NumberOfTimes90DaysLate                               0   \n",
       "26          NumberRealEstateLoansOrLines                               0   \n",
       "27          NumberRealEstateLoansOrLines                               3   \n",
       "28          NumberRealEstateLoansOrLines                               2   \n",
       "29          NumberRealEstateLoansOrLines                               1   \n",
       "30                    NumberOfDependents                               3   \n",
       "31                    NumberOfDependents                               2   \n",
       "32                    NumberOfDependents                               1   \n",
       "33                    NumberOfDependents                               0   \n",
       "\n",
       "      score  \n",
       "0   67.7531  \n",
       "1   46.4889  \n",
       "2   30.5946  \n",
       "3   22.7332  \n",
       "4   20.8289  \n",
       "5   51.6563  \n",
       "6   48.6178  \n",
       "7   46.6261  \n",
       "8   40.7991  \n",
       "9   33.2097  \n",
       "10  55.4281  \n",
       "11  44.0316  \n",
       "12  43.5567  \n",
       "13  42.0252  \n",
       "14   41.066  \n",
       "15  47.4938  \n",
       "16  45.6614  \n",
       "17  45.3849  \n",
       "18  43.8041  \n",
       "19  74.8946  \n",
       "20  59.3922  \n",
       "21  37.5185  \n",
       "22  70.1805  \n",
       "23  42.3838  \n",
       "24  81.3477  \n",
       "25  39.7659  \n",
       "26  50.0029  \n",
       "27   49.864  \n",
       "28  42.1546  \n",
       "29  41.3479  \n",
       "30  47.9951  \n",
       "31  46.9249  \n",
       "32  46.3499  \n",
       "33  44.8636  "
      ]
     },
     "execution_count": 132,
     "metadata": {},
     "output_type": "execute_result"
    }
   ],
   "source": [
    "score_df = pd.concat(score_list, axis=1).T\n",
    "score_df.columns = ['variable', 'bin', 'score']\n",
    "score_df"
   ]
  },
  {
   "cell_type": "code",
   "execution_count": 136,
   "metadata": {},
   "outputs": [
    {
     "data": {
      "text/plain": [
       "numpy.float64"
      ]
     },
     "execution_count": 136,
     "metadata": {},
     "output_type": "execute_result"
    }
   ],
   "source": [
    "type(score_df['bin'].iloc[-2])"
   ]
  },
  {
   "cell_type": "code",
   "execution_count": 140,
   "metadata": {},
   "outputs": [],
   "source": [
    "score_df['left'] = score_df['bin'].apply(lambda x:x if (isinstance(x, np.int64) or isinstance(x, np.float64)) else x.left)\n",
    "# score_df['right'] = score_df['bin'].apply(lambda x:x if (isinstance(x, np.int64) or isinstance(x, np.float64)) else x.left)"
   ]
  },
  {
   "cell_type": "code",
   "execution_count": 152,
   "metadata": {},
   "outputs": [],
   "source": [
    "some_df = score_df.sort_values(by=['variable', 'left'], ascending=True).drop(columns=['left'])\n",
    "some_df.to_csv('tt.csv')"
   ]
  },
  {
   "cell_type": "code",
   "execution_count": 108,
   "metadata": {},
   "outputs": [
    {
     "data": {
      "text/plain": [
       "numpy.float64"
      ]
     },
     "execution_count": 108,
     "metadata": {},
     "output_type": "execute_result"
    }
   ],
   "source": [
    "type(dev_binned_df_3[dev_binned_df_3[variable+'_woe']==val][variable].mode())"
   ]
  },
  {
   "cell_type": "code",
   "execution_count": 150,
   "metadata": {},
   "outputs": [
    {
     "data": {
      "image/png": "[encoded data removed]",
      "text/plain": [
       "<Figure size 720x720 with 1 Axes>"
      ]
     },
     "metadata": {},
     "output_type": "display_data"
    },
    {
     "data": {
      "image/png": "[encoded data removed]",
      "text/plain": [
       "<Figure size 432x288 with 1 Axes>"
      ]
     },
     "metadata": {},
     "output_type": "display_data"
    },
    {
     "data": {
      "image/png": "[encoded data removed]",
      "text/plain": [
       "<Figure size 432x288 with 1 Axes>"
      ]
     },
     "metadata": {},
     "output_type": "display_data"
    },
    {
     "data": {
      "image/png": "[encoded data removed]",
      "text/plain": [
       "<Figure size 432x288 with 1 Axes>"
      ]
     },
     "metadata": {},
     "output_type": "display_data"
    },
    {
     "data": {
      "image/png": "[encoded data removed]",
      "text/plain": [
       "<Figure size 432x288 with 1 Axes>"
      ]
     },
     "metadata": {},
     "output_type": "display_data"
    },
    {
     "data": {
      "image/png": "[encoded data removed]",
      "text/plain": [
       "<Figure size 432x288 with 1 Axes>"
      ]
     },
     "metadata": {},
     "output_type": "display_data"
    },
    {
     "data": {
      "image/png": "[encoded data removed]",
      "text/plain": [
       "<Figure size 432x288 with 1 Axes>"
      ]
     },
     "metadata": {},
     "output_type": "display_data"
    },
    {
     "data": {
      "image/png": "[encoded data removed]",
      "text/plain": [
       "<Figure size 432x288 with 1 Axes>"
      ]
     },
     "metadata": {},
     "output_type": "display_data"
    },
    {
     "data": {
      "image/png": "[encoded data removed]",
      "text/plain": [
       "<Figure size 432x288 with 1 Axes>"
      ]
     },
     "metadata": {},
     "output_type": "display_data"
    },
    {
     "data": {
      "image/png": "[encoded data removed]",
      "text/plain": [
       "<Figure size 432x288 with 1 Axes>"
      ]
     },
     "metadata": {},
     "output_type": "display_data"
    }
   ],
   "source": [
    "\n",
    "\n",
    "fig = plt.figure(figsize=(10,10))\n",
    "\n",
    "for i, variable in enumerate(some_df['variable'].unique()):\n",
    "    var_df= some_df[some_df['variable']==variable]\n",
    "    plt.subplot(3,3,i+1)\n",
    "    var_df['score'].plot(kind='barh', title=variable, color='white')"
   ]
  },
  {
   "cell_type": "code",
   "execution_count": null,
   "metadata": {},
   "outputs": [],
   "source": []
  }
 ],
 "metadata": {
  "kernelspec": {
   "display_name": "Python [conda env:an_py3]",
   "language": "python",
   "name": "conda-env-an_py3-py"
  },
  "language_info": {
   "codemirror_mode": {
    "name": "ipython",
    "version": 3
   },
   "file_extension": ".py",
   "mimetype": "text/x-python",
   "name": "python",
   "nbconvert_exporter": "python",
   "pygments_lexer": "ipython3",
   "version": "3.6.5"
  }
 },
 "nbformat": 4,
 "nbformat_minor": 2
}
