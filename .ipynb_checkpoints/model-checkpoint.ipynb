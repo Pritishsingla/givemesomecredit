{
 "cells": [
  {
   "cell_type": "code",
   "execution_count": 221,
   "metadata": {},
   "outputs": [
    {
     "name": "stdout",
     "output_type": "stream",
     "text": [
      "The autoreload extension is already loaded. To reload it, use:\n",
      "  %reload_ext autoreload\n"
     ]
    }
   ],
   "source": [
    "%load_ext autoreload\n",
    "%autoreload 2\n",
    "\n",
    "import pandas as pd\n",
    "import numpy as np\n",
    "import matplotlib.pyplot as plt\n",
    "\n",
    "import time\n",
    "import os\n",
    "import sys\n",
    "import warnings\n",
    "warnings.filterwarnings('ignore')\n",
    "\n",
    "%matplotlib inline"
   ]
  },
  {
   "cell_type": "markdown",
   "metadata": {},
   "source": [
    "## Loading Data"
   ]
  },
  {
   "cell_type": "code",
   "execution_count": 222,
   "metadata": {},
   "outputs": [
    {
     "data": {
      "text/html": [
       "<div>\n",
       "<style scoped>\n",
       "    .dataframe tbody tr th:only-of-type {\n",
       "        vertical-align: middle;\n",
       "    }\n",
       "\n",
       "    .dataframe tbody tr th {\n",
       "        vertical-align: top;\n",
       "    }\n",
       "\n",
       "    .dataframe thead th {\n",
       "        text-align: right;\n",
       "    }\n",
       "</style>\n",
       "<table border=\"1\" class=\"dataframe\">\n",
       "  <thead>\n",
       "    <tr style=\"text-align: right;\">\n",
       "      <th></th>\n",
       "      <th>SeriousDlqin2yrs</th>\n",
       "      <th>RevolvingUtilizationOfUnsecuredLines</th>\n",
       "      <th>age</th>\n",
       "      <th>NumberOfTime30-59DaysPastDueNotWorse</th>\n",
       "      <th>DebtRatio</th>\n",
       "      <th>MonthlyIncome</th>\n",
       "      <th>NumberOfOpenCreditLinesAndLoans</th>\n",
       "      <th>NumberOfTimes90DaysLate</th>\n",
       "      <th>NumberRealEstateLoansOrLines</th>\n",
       "      <th>NumberOfTime60-89DaysPastDueNotWorse</th>\n",
       "      <th>NumberOfDependents</th>\n",
       "    </tr>\n",
       "  </thead>\n",
       "  <tbody>\n",
       "    <tr>\n",
       "      <th>1</th>\n",
       "      <td>1</td>\n",
       "      <td>0.766127</td>\n",
       "      <td>45</td>\n",
       "      <td>2</td>\n",
       "      <td>0.802982</td>\n",
       "      <td>9120.0</td>\n",
       "      <td>13</td>\n",
       "      <td>0</td>\n",
       "      <td>6</td>\n",
       "      <td>0</td>\n",
       "      <td>2.0</td>\n",
       "    </tr>\n",
       "    <tr>\n",
       "      <th>2</th>\n",
       "      <td>0</td>\n",
       "      <td>0.957151</td>\n",
       "      <td>40</td>\n",
       "      <td>0</td>\n",
       "      <td>0.121876</td>\n",
       "      <td>2600.0</td>\n",
       "      <td>4</td>\n",
       "      <td>0</td>\n",
       "      <td>0</td>\n",
       "      <td>0</td>\n",
       "      <td>1.0</td>\n",
       "    </tr>\n",
       "    <tr>\n",
       "      <th>3</th>\n",
       "      <td>0</td>\n",
       "      <td>0.658180</td>\n",
       "      <td>38</td>\n",
       "      <td>1</td>\n",
       "      <td>0.085113</td>\n",
       "      <td>3042.0</td>\n",
       "      <td>2</td>\n",
       "      <td>1</td>\n",
       "      <td>0</td>\n",
       "      <td>0</td>\n",
       "      <td>0.0</td>\n",
       "    </tr>\n",
       "    <tr>\n",
       "      <th>4</th>\n",
       "      <td>0</td>\n",
       "      <td>0.233810</td>\n",
       "      <td>30</td>\n",
       "      <td>0</td>\n",
       "      <td>0.036050</td>\n",
       "      <td>3300.0</td>\n",
       "      <td>5</td>\n",
       "      <td>0</td>\n",
       "      <td>0</td>\n",
       "      <td>0</td>\n",
       "      <td>0.0</td>\n",
       "    </tr>\n",
       "    <tr>\n",
       "      <th>5</th>\n",
       "      <td>0</td>\n",
       "      <td>0.907239</td>\n",
       "      <td>49</td>\n",
       "      <td>1</td>\n",
       "      <td>0.024926</td>\n",
       "      <td>63588.0</td>\n",
       "      <td>7</td>\n",
       "      <td>0</td>\n",
       "      <td>1</td>\n",
       "      <td>0</td>\n",
       "      <td>0.0</td>\n",
       "    </tr>\n",
       "  </tbody>\n",
       "</table>\n",
       "</div>"
      ],
      "text/plain": [
       "   SeriousDlqin2yrs  RevolvingUtilizationOfUnsecuredLines  age  \\\n",
       "1                 1                              0.766127   45   \n",
       "2                 0                              0.957151   40   \n",
       "3                 0                              0.658180   38   \n",
       "4                 0                              0.233810   30   \n",
       "5                 0                              0.907239   49   \n",
       "\n",
       "   NumberOfTime30-59DaysPastDueNotWorse  DebtRatio  MonthlyIncome  \\\n",
       "1                                     2   0.802982         9120.0   \n",
       "2                                     0   0.121876         2600.0   \n",
       "3                                     1   0.085113         3042.0   \n",
       "4                                     0   0.036050         3300.0   \n",
       "5                                     1   0.024926        63588.0   \n",
       "\n",
       "   NumberOfOpenCreditLinesAndLoans  NumberOfTimes90DaysLate  \\\n",
       "1                               13                        0   \n",
       "2                                4                        0   \n",
       "3                                2                        1   \n",
       "4                                5                        0   \n",
       "5                                7                        0   \n",
       "\n",
       "   NumberRealEstateLoansOrLines  NumberOfTime60-89DaysPastDueNotWorse  \\\n",
       "1                             6                                     0   \n",
       "2                             0                                     0   \n",
       "3                             0                                     0   \n",
       "4                             0                                     0   \n",
       "5                             1                                     0   \n",
       "\n",
       "   NumberOfDependents  \n",
       "1                 2.0  \n",
       "2                 1.0  \n",
       "3                 0.0  \n",
       "4                 0.0  \n",
       "5                 0.0  "
      ]
     },
     "execution_count": 222,
     "metadata": {},
     "output_type": "execute_result"
    }
   ],
   "source": [
    "data = pd.read_csv('data/cs-training.csv', index_col=0)\n",
    "data.head()"
   ]
  },
  {
   "cell_type": "code",
   "execution_count": 223,
   "metadata": {},
   "outputs": [],
   "source": [
    "target_col = 'SeriousDlqin2yrs'"
   ]
  },
  {
   "cell_type": "markdown",
   "metadata": {},
   "source": [
    "## Splitting into Training and Dev Sets"
   ]
  },
  {
   "cell_type": "code",
   "execution_count": 224,
   "metadata": {},
   "outputs": [
    {
     "data": {
      "text/plain": [
       "(0    0.933217\n",
       " 1    0.066783\n",
       " Name: SeriousDlqin2yrs, dtype: float64, 0    0.932933\n",
       " 1    0.067067\n",
       " Name: SeriousDlqin2yrs, dtype: float64)"
      ]
     },
     "execution_count": 224,
     "metadata": {},
     "output_type": "execute_result"
    }
   ],
   "source": [
    "train = data.sample(n=120000, random_state=3)\n",
    "dev = data[~data.index.isin(train.index)]\n",
    "train[target_col].value_counts(normalize=True), dev[target_col].value_counts(normalize=True)"
   ]
  },
  {
   "cell_type": "markdown",
   "metadata": {},
   "source": [
    "## Cleaning Data"
   ]
  },
  {
   "cell_type": "code",
   "execution_count": 225,
   "metadata": {},
   "outputs": [],
   "source": [
    "def clean_data(df, income_mv, dependent_mv):\n",
    "    \"\"\"\n",
    "    Imputes missing values\n",
    "    Floors & ceils the outliers\n",
    "    Combines smaller categories into a single category\n",
    "    \"\"\"\n",
    "    \n",
    "    df.columns = [col.replace('-', '_') for col in df.columns]\n",
    "    \n",
    "    # RevolvingUtilizationOfUnsecuredLines\n",
    "    df.loc[df['RevolvingUtilizationOfUnsecuredLines'] >1, 'RevolvingUtilizationOfUnsecuredLines'] = 1\n",
    "    \n",
    "    # age\n",
    "    df.loc[df['age']< 21, 'age'] = 21\n",
    "    \n",
    "    # NumberOfTime30-59DaysPastDueNotWorse\n",
    "    df.loc[df['NumberOfTime30_59DaysPastDueNotWorse']>=2, 'NumberOfTime30_59DaysPastDueNotWorse'] = 2\n",
    "    \n",
    "    # NumberOfTime60-89DaysPastDueNotWorse\n",
    "    df.loc[df['NumberOfTime60_89DaysPastDueNotWorse']>=1, 'NumberOfTime60_89DaysPastDueNotWorse'] = 1\n",
    "    \n",
    "    # NumberOfTimes90DaysLate\n",
    "    df.loc[df['NumberOfTimes90DaysLate']>=1, 'NumberOfTimes90DaysLate'] = 1\n",
    "    \n",
    "    # MonthlyIncome\n",
    "    df['MonthlyIncome'] = df['MonthlyIncome'].fillna(income_mv) #replace with median\n",
    "    \n",
    "    # NumberOfOpenCreditLinesAndLoans\n",
    "\n",
    "    # NumberRealEstateLoansOrLines\n",
    "    df.loc[df['NumberRealEstateLoansOrLines']>=3, 'NumberRealEstateLoansOrLines'] = 3\n",
    "    \n",
    "    # NumberOfDependents\n",
    "    df.loc[df['NumberOfDependents']>=3, 'NumberOfDependents'] = 3\n",
    "    df['NumberOfDependents'] = df['NumberOfDependents'].fillna(dependent_mv) #replace with median\n",
    "    \n",
    "    return df\n",
    "\n"
   ]
  },
  {
   "cell_type": "code",
   "execution_count": 226,
   "metadata": {},
   "outputs": [],
   "source": [
    "train = clean_data(train, 5400, 0)\n",
    "dev = clean_data(dev, 5400, 0)"
   ]
  },
  {
   "cell_type": "code",
   "execution_count": 227,
   "metadata": {},
   "outputs": [],
   "source": [
    "def get_bins_from_training_data(df):\n",
    "    '''bin variables based on the eda done in the other notebook'''\n",
    "    binsdf = {}\n",
    "    _, binsdf['RevolvingUtilizationOfUnsecuredLines'] = pd.qcut(df['RevolvingUtilizationOfUnsecuredLines'], 5, retbins=True, labels=None)\n",
    "    _, binsdf['DebtRatio'] = pd.qcut(df['DebtRatio'], 5, retbins=True, labels=None)\n",
    "    _, binsdf['age'] = pd.qcut(df['age'], 5, retbins=True, labels=None)\n",
    "#     binsdf['NumberOfTime30-59DaysPastDueNotWorse'] = df['NumberOfTime30-59DaysPastDueNotWorse'].copy(deep=True)\n",
    "#     binsdf['NumberOfTime60-89DaysPastDueNotWorse'] = df['NumberOfTime60-89DaysPastDueNotWorse'].copy(deep=True)\n",
    "#     binsdf['NumberOfTimes90DaysLate'] = df['NumberOfTimes90DaysLate'].copy(deep=True)\n",
    "    _, binsdf['MonthlyIncome'] = pd.qcut(df['MonthlyIncome'], 4, retbins=True, labels=None)\n",
    "    _, binsdf['NumberOfOpenCreditLinesAndLoans'] = pd.qcut(df['NumberOfOpenCreditLinesAndLoans'], 5, retbins=True, labels=None)\n",
    "#     binsdf['NumberRealEstateLoansOrLines'] = df['NumberOfTimes90DaysLate'].copy(deep=True)\n",
    "#     binsdf['NumberOfDependents'] = df['NumberOfTimes90DaysLate'].copy(deep=True)\n",
    "    return binsdf\n",
    "\n",
    "binsdf = get_bins_from_training_data(train)"
   ]
  },
  {
   "cell_type": "code",
   "execution_count": 228,
   "metadata": {},
   "outputs": [],
   "source": [
    "def create_bins(df, binsdf):\n",
    "    '''create bins on the unseen data set'''\n",
    "    retdf = pd.DataFrame()\n",
    "    for column in df.columns:\n",
    "        if column in binsdf.keys():\n",
    "            retdf[column] = pd.cut(df[column], bins=binsdf[column], labels=False, include_lowest=True)\n",
    "        else:\n",
    "            retdf[column] = df[column].copy(deep=True)\n",
    "    return retdf\n",
    "\n",
    "train_binned_df = create_bins(train, binsdf)\n",
    "dev_binned_df = create_bins(dev, binsdf)"
   ]
  },
  {
   "cell_type": "code",
   "execution_count": 229,
   "metadata": {},
   "outputs": [],
   "source": [
    "def weight_of_evidence(df, labelcol, col, categorical_col=None):\n",
    "    '''calculates weight of evidence values for each category in a given variable (col)'''\n",
    "    if categorical_col is None:\n",
    "        categorical_col = col\n",
    "    \n",
    "    tempdf = df.groupby(by=categorical_col).agg({labelcol:{\n",
    "                                                        '_counts': 'size',\n",
    "                                                        '_bads': lambda x: len(x[x==1]),\n",
    "                                                        '_goods': lambda x: len(x[x==0])\n",
    "                                                    }})\n",
    "    tempdf.columns  = [col+ column for column in tempdf.columns.droplevel(0)]\n",
    "    tempdf[col+'_distri_tot'] = tempdf[col+'_counts']/(tempdf[col+'_counts'].sum())\n",
    "    tempdf[col+'_distri_bads'] = tempdf[col+'_bads']/(tempdf[col+'_bads'].sum())\n",
    "    tempdf[col+'_distri_goods'] = tempdf[col+'_goods']/(tempdf[col+'_goods'].sum())\n",
    "    tempdf[col+'_bad_rate'] = tempdf[col+'_bads']/tempdf[col+'_counts']\n",
    "    tempdf[col+'_woe'] = np.log(tempdf[col+'_distri_goods']) - np.log(tempdf[col+'_distri_bads'])\n",
    "    return tempdf\n",
    "\n",
    "\n",
    "def information_value(df, col):\n",
    "    '''calculates Information Value using the Weight of evidence scores'''\n",
    "    df['diff_col'] = df[col+'_distri_goods'] - df[col+'_distri_bads']\n",
    "    return np.sum(df['diff_col']*df[col+'_woe'])\n"
   ]
  },
  {
   "cell_type": "code",
   "execution_count": 262,
   "metadata": {},
   "outputs": [],
   "source": [
    "def get_woe_from_training_data(binned_df):\n",
    "    '''calculates the wWeight of Evidence and Information Values based on the training data set for all the features'''\n",
    "    woe_dict = {}\n",
    "    iv_dict = {}\n",
    "    for column in binned_df.columns:\n",
    "        if column == target_col:\n",
    "            pass\n",
    "        else:\n",
    "            woe_df = weight_of_evidence(binned_df, target_col, column)\n",
    "            woe_column = [col for col in woe_df.columns if 'woe' in col][0]\n",
    "            woe_dict[column] = dict(woe_df[woe_column])\n",
    "            iv_dict[column] = information_value(woe_df, column)\n",
    "    return woe_dict, iv_dict\n",
    " \n",
    "\n",
    "woe, iv = get_woe_from_training_data(create_bins(train, binsdf))"
   ]
  },
  {
   "cell_type": "code",
   "execution_count": 231,
   "metadata": {},
   "outputs": [
    {
     "data": {
      "text/html": [
       "<div>\n",
       "<style scoped>\n",
       "    .dataframe tbody tr th:only-of-type {\n",
       "        vertical-align: middle;\n",
       "    }\n",
       "\n",
       "    .dataframe tbody tr th {\n",
       "        vertical-align: top;\n",
       "    }\n",
       "\n",
       "    .dataframe thead th {\n",
       "        text-align: right;\n",
       "    }\n",
       "</style>\n",
       "<table border=\"1\" class=\"dataframe\">\n",
       "  <thead>\n",
       "    <tr style=\"text-align: right;\">\n",
       "      <th></th>\n",
       "      <th>information_value</th>\n",
       "    </tr>\n",
       "  </thead>\n",
       "  <tbody>\n",
       "    <tr>\n",
       "      <th>RevolvingUtilizationOfUnsecuredLines</th>\n",
       "      <td>1.051496</td>\n",
       "    </tr>\n",
       "    <tr>\n",
       "      <th>NumberOfTimes90DaysLate</th>\n",
       "      <td>0.822086</td>\n",
       "    </tr>\n",
       "    <tr>\n",
       "      <th>NumberOfTime30_59DaysPastDueNotWorse</th>\n",
       "      <td>0.736713</td>\n",
       "    </tr>\n",
       "    <tr>\n",
       "      <th>NumberOfTime60_89DaysPastDueNotWorse</th>\n",
       "      <td>0.562831</td>\n",
       "    </tr>\n",
       "    <tr>\n",
       "      <th>age</th>\n",
       "      <td>0.240657</td>\n",
       "    </tr>\n",
       "    <tr>\n",
       "      <th>MonthlyIncome</th>\n",
       "      <td>0.061015</td>\n",
       "    </tr>\n",
       "    <tr>\n",
       "      <th>NumberRealEstateLoansOrLines</th>\n",
       "      <td>0.057126</td>\n",
       "    </tr>\n",
       "    <tr>\n",
       "      <th>DebtRatio</th>\n",
       "      <td>0.054804</td>\n",
       "    </tr>\n",
       "    <tr>\n",
       "      <th>NumberOfOpenCreditLinesAndLoans</th>\n",
       "      <td>0.048957</td>\n",
       "    </tr>\n",
       "    <tr>\n",
       "      <th>NumberOfDependents</th>\n",
       "      <td>0.032749</td>\n",
       "    </tr>\n",
       "  </tbody>\n",
       "</table>\n",
       "</div>"
      ],
      "text/plain": [
       "                                      information_value\n",
       "RevolvingUtilizationOfUnsecuredLines           1.051496\n",
       "NumberOfTimes90DaysLate                        0.822086\n",
       "NumberOfTime30_59DaysPastDueNotWorse           0.736713\n",
       "NumberOfTime60_89DaysPastDueNotWorse           0.562831\n",
       "age                                            0.240657\n",
       "MonthlyIncome                                  0.061015\n",
       "NumberRealEstateLoansOrLines                   0.057126\n",
       "DebtRatio                                      0.054804\n",
       "NumberOfOpenCreditLinesAndLoans                0.048957\n",
       "NumberOfDependents                             0.032749"
      ]
     },
     "execution_count": 231,
     "metadata": {},
     "output_type": "execute_result"
    }
   ],
   "source": [
    "iv = pd.DataFrame.from_dict(iv, orient='index')\n",
    "iv.columns = ['information_value']\n",
    "iv.sort_values(by='information_value', ascending=False)"
   ]
  },
  {
   "cell_type": "code",
   "execution_count": 232,
   "metadata": {},
   "outputs": [],
   "source": [
    "def create_woe(binned_df, woe):\n",
    "    '''Applies the calculated WoE values on the unseen data set'''\n",
    "    for column in woe.keys():\n",
    "        binned_df[column] = binned_df[column].map(woe[column])\n",
    "    return binned_df\n",
    "\n",
    "train_woe = create_woe(train_binned_df, woe)\n",
    "dev_woe =  create_woe(dev_binned_df, woe)"
   ]
  },
  {
   "cell_type": "code",
   "execution_count": 233,
   "metadata": {},
   "outputs": [
    {
     "data": {
      "text/plain": [
       "Index(['SeriousDlqin2yrs', 'RevolvingUtilizationOfUnsecuredLines', 'age',\n",
       "       'NumberOfTime30_59DaysPastDueNotWorse', 'DebtRatio', 'MonthlyIncome',\n",
       "       'NumberOfOpenCreditLinesAndLoans', 'NumberOfTimes90DaysLate',\n",
       "       'NumberRealEstateLoansOrLines', 'NumberOfTime60_89DaysPastDueNotWorse',\n",
       "       'NumberOfDependents'],\n",
       "      dtype='object')"
      ]
     },
     "execution_count": 233,
     "metadata": {},
     "output_type": "execute_result"
    }
   ],
   "source": [
    "train_woe.columns = [col.replace('-', '_') for col in train_woe.columns]\n",
    "dev_woe.columns = [col.replace('-', '_') for col in dev_woe.columns]\n",
    "train_woe.columns"
   ]
  },
  {
   "cell_type": "markdown",
   "metadata": {},
   "source": [
    "## Model"
   ]
  },
  {
   "cell_type": "code",
   "execution_count": 234,
   "metadata": {},
   "outputs": [],
   "source": [
    "import statsmodels.api as sm\n",
    "import statsmodels.formula.api as smf"
   ]
  },
  {
   "cell_type": "code",
   "execution_count": 249,
   "metadata": {},
   "outputs": [
    {
     "data": {
      "text/html": [
       "<table class=\"simpletable\">\n",
       "<caption>Generalized Linear Model Regression Results</caption>\n",
       "<tr>\n",
       "  <th>Dep. Variable:</th>  <td>SeriousDlqin2yrs</td> <th>  No. Observations:  </th>  <td>120000</td>  \n",
       "</tr>\n",
       "<tr>\n",
       "  <th>Model:</th>                 <td>GLM</td>       <th>  Df Residuals:      </th>  <td>119989</td>  \n",
       "</tr>\n",
       "<tr>\n",
       "  <th>Model Family:</th>       <td>Binomial</td>     <th>  Df Model:          </th>  <td>    10</td>  \n",
       "</tr>\n",
       "<tr>\n",
       "  <th>Link Function:</th>        <td>logit</td>      <th>  Scale:             </th> <td>  1.0000</td> \n",
       "</tr>\n",
       "<tr>\n",
       "  <th>Method:</th>               <td>IRLS</td>       <th>  Log-Likelihood:    </th> <td> -22136.</td> \n",
       "</tr>\n",
       "<tr>\n",
       "  <th>Date:</th>           <td>Mon, 06 Jan 2020</td> <th>  Deviance:          </th> <td>  44271.</td> \n",
       "</tr>\n",
       "<tr>\n",
       "  <th>Time:</th>               <td>14:56:35</td>     <th>  Pearson chi2:      </th> <td>1.04e+05</td> \n",
       "</tr>\n",
       "<tr>\n",
       "  <th>No. Iterations:</th>         <td>7</td>        <th>  Covariance Type:   </th> <td>nonrobust</td>\n",
       "</tr>\n",
       "</table>\n",
       "<table class=\"simpletable\">\n",
       "<tr>\n",
       "                    <td></td>                      <th>coef</th>     <th>std err</th>      <th>z</th>      <th>P>|z|</th>  <th>[0.025</th>    <th>0.975]</th>  \n",
       "</tr>\n",
       "<tr>\n",
       "  <th>Intercept</th>                            <td>   -2.6109</td> <td>    0.014</td> <td> -185.004</td> <td> 0.000</td> <td>   -2.639</td> <td>   -2.583</td>\n",
       "</tr>\n",
       "<tr>\n",
       "  <th>RevolvingUtilizationOfUnsecuredLines</th> <td>   -0.6133</td> <td>    0.014</td> <td>  -43.389</td> <td> 0.000</td> <td>   -0.641</td> <td>   -0.586</td>\n",
       "</tr>\n",
       "<tr>\n",
       "  <th>age</th>                                  <td>   -0.4164</td> <td>    0.031</td> <td>  -13.637</td> <td> 0.000</td> <td>   -0.476</td> <td>   -0.357</td>\n",
       "</tr>\n",
       "<tr>\n",
       "  <th>DebtRatio</th>                            <td>   -0.8189</td> <td>    0.058</td> <td>  -14.222</td> <td> 0.000</td> <td>   -0.932</td> <td>   -0.706</td>\n",
       "</tr>\n",
       "<tr>\n",
       "  <th>MonthlyIncome</th>                        <td>   -0.1825</td> <td>    0.055</td> <td>   -3.314</td> <td> 0.001</td> <td>   -0.290</td> <td>   -0.075</td>\n",
       "</tr>\n",
       "<tr>\n",
       "  <th>NumberOfTime30_59DaysPastDueNotWorse</th> <td>   -0.5305</td> <td>    0.014</td> <td>  -36.613</td> <td> 0.000</td> <td>   -0.559</td> <td>   -0.502</td>\n",
       "</tr>\n",
       "<tr>\n",
       "  <th>NumberOfTime60_89DaysPastDueNotWorse</th> <td>   -0.4098</td> <td>    0.016</td> <td>  -26.047</td> <td> 0.000</td> <td>   -0.441</td> <td>   -0.379</td>\n",
       "</tr>\n",
       "<tr>\n",
       "  <th>NumberOfTimes90DaysLate</th>              <td>   -0.5397</td> <td>    0.013</td> <td>  -41.854</td> <td> 0.000</td> <td>   -0.565</td> <td>   -0.514</td>\n",
       "</tr>\n",
       "<tr>\n",
       "  <th>NumberOfOpenCreditLinesAndLoans</th>      <td>   -0.0077</td> <td>    0.063</td> <td>   -0.121</td> <td> 0.903</td> <td>   -0.132</td> <td>    0.117</td>\n",
       "</tr>\n",
       "<tr>\n",
       "  <th>NumberRealEstateLoansOrLines</th>         <td>   -0.6022</td> <td>    0.060</td> <td>   -9.973</td> <td> 0.000</td> <td>   -0.720</td> <td>   -0.484</td>\n",
       "</tr>\n",
       "<tr>\n",
       "  <th>NumberOfDependents</th>                   <td>   -0.2128</td> <td>    0.074</td> <td>   -2.869</td> <td> 0.004</td> <td>   -0.358</td> <td>   -0.067</td>\n",
       "</tr>\n",
       "</table>"
      ],
      "text/plain": [
       "<class 'statsmodels.iolib.summary.Summary'>\n",
       "\"\"\"\n",
       "                 Generalized Linear Model Regression Results                  \n",
       "==============================================================================\n",
       "Dep. Variable:       SeriousDlqin2yrs   No. Observations:               120000\n",
       "Model:                            GLM   Df Residuals:                   119989\n",
       "Model Family:                Binomial   Df Model:                           10\n",
       "Link Function:                  logit   Scale:                          1.0000\n",
       "Method:                          IRLS   Log-Likelihood:                -22136.\n",
       "Date:                Mon, 06 Jan 2020   Deviance:                       44271.\n",
       "Time:                        14:56:35   Pearson chi2:                 1.04e+05\n",
       "No. Iterations:                     7   Covariance Type:             nonrobust\n",
       "========================================================================================================\n",
       "                                           coef    std err          z      P>|z|      [0.025      0.975]\n",
       "--------------------------------------------------------------------------------------------------------\n",
       "Intercept                               -2.6109      0.014   -185.004      0.000      -2.639      -2.583\n",
       "RevolvingUtilizationOfUnsecuredLines    -0.6133      0.014    -43.389      0.000      -0.641      -0.586\n",
       "age                                     -0.4164      0.031    -13.637      0.000      -0.476      -0.357\n",
       "DebtRatio                               -0.8189      0.058    -14.222      0.000      -0.932      -0.706\n",
       "MonthlyIncome                           -0.1825      0.055     -3.314      0.001      -0.290      -0.075\n",
       "NumberOfTime30_59DaysPastDueNotWorse    -0.5305      0.014    -36.613      0.000      -0.559      -0.502\n",
       "NumberOfTime60_89DaysPastDueNotWorse    -0.4098      0.016    -26.047      0.000      -0.441      -0.379\n",
       "NumberOfTimes90DaysLate                 -0.5397      0.013    -41.854      0.000      -0.565      -0.514\n",
       "NumberOfOpenCreditLinesAndLoans         -0.0077      0.063     -0.121      0.903      -0.132       0.117\n",
       "NumberRealEstateLoansOrLines            -0.6022      0.060     -9.973      0.000      -0.720      -0.484\n",
       "NumberOfDependents                      -0.2128      0.074     -2.869      0.004      -0.358      -0.067\n",
       "========================================================================================================\n",
       "\"\"\""
      ]
     },
     "execution_count": 249,
     "metadata": {},
     "output_type": "execute_result"
    }
   ],
   "source": [
    "formula = \" SeriousDlqin2yrs ~ \"\\\n",
    "            +\"RevolvingUtilizationOfUnsecuredLines +\"\\\n",
    "            +\"age +\"\\\n",
    "            +\"DebtRatio + \"\\\n",
    "            +\"MonthlyIncome + \"\\\n",
    "            +\"NumberOfTime30_59DaysPastDueNotWorse +\"\\\n",
    "            +\"NumberOfTime60_89DaysPastDueNotWorse +\"\\\n",
    "            +\"NumberOfTimes90DaysLate +\"\\\n",
    "            +\"NumberOfOpenCreditLinesAndLoans +\"\\\n",
    "            +\"NumberRealEstateLoansOrLines +\"\\\n",
    "            +\"NumberOfDependents\"\n",
    "func=smf.glm(formula=formula,data=train_woe,family=sm.families.Binomial()).fit(maxiter=1000)\n",
    "func.summary()"
   ]
  },
  {
   "cell_type": "markdown",
   "metadata": {},
   "source": [
    "We remove the NumberOfOpenCreditLinesAndLoans as it is not significant by p-value (0.9) and make the model again"
   ]
  },
  {
   "cell_type": "code",
   "execution_count": 253,
   "metadata": {},
   "outputs": [],
   "source": [
    "formula = \" SeriousDlqin2yrs ~ \"\\\n",
    "            +\"RevolvingUtilizationOfUnsecuredLines +\"\\\n",
    "            +\"age +\"\\\n",
    "            +\"DebtRatio + \"\\\n",
    "            +\"MonthlyIncome + \"\\\n",
    "            +\"NumberOfTime30_59DaysPastDueNotWorse +\"\\\n",
    "            +\"NumberOfTime60_89DaysPastDueNotWorse +\"\\\n",
    "            +\"NumberOfTimes90DaysLate +\"\\\n",
    "            +\"NumberRealEstateLoansOrLines +\"\\\n",
    "            +\"NumberOfDependents\"\n",
    "\n",
    "func=smf.glm(formula=formula,data=train_woe,family=sm.families.Binomial()).fit(maxiter=1000)"
   ]
  },
  {
   "cell_type": "code",
   "execution_count": 254,
   "metadata": {},
   "outputs": [
    {
     "data": {
      "text/html": [
       "<table class=\"simpletable\">\n",
       "<caption>Generalized Linear Model Regression Results</caption>\n",
       "<tr>\n",
       "  <th>Dep. Variable:</th>  <td>SeriousDlqin2yrs</td> <th>  No. Observations:  </th>  <td>120000</td>  \n",
       "</tr>\n",
       "<tr>\n",
       "  <th>Model:</th>                 <td>GLM</td>       <th>  Df Residuals:      </th>  <td>119990</td>  \n",
       "</tr>\n",
       "<tr>\n",
       "  <th>Model Family:</th>       <td>Binomial</td>     <th>  Df Model:          </th>  <td>     9</td>  \n",
       "</tr>\n",
       "<tr>\n",
       "  <th>Link Function:</th>        <td>logit</td>      <th>  Scale:             </th> <td>  1.0000</td> \n",
       "</tr>\n",
       "<tr>\n",
       "  <th>Method:</th>               <td>IRLS</td>       <th>  Log-Likelihood:    </th> <td> -22136.</td> \n",
       "</tr>\n",
       "<tr>\n",
       "  <th>Date:</th>           <td>Mon, 06 Jan 2020</td> <th>  Deviance:          </th> <td>  44271.</td> \n",
       "</tr>\n",
       "<tr>\n",
       "  <th>Time:</th>               <td>14:58:08</td>     <th>  Pearson chi2:      </th> <td>1.04e+05</td> \n",
       "</tr>\n",
       "<tr>\n",
       "  <th>No. Iterations:</th>         <td>7</td>        <th>  Covariance Type:   </th> <td>nonrobust</td>\n",
       "</tr>\n",
       "</table>\n",
       "<table class=\"simpletable\">\n",
       "<tr>\n",
       "                    <td></td>                      <th>coef</th>     <th>std err</th>      <th>z</th>      <th>P>|z|</th>  <th>[0.025</th>    <th>0.975]</th>  \n",
       "</tr>\n",
       "<tr>\n",
       "  <th>Intercept</th>                            <td>   -2.6109</td> <td>    0.014</td> <td> -185.005</td> <td> 0.000</td> <td>   -2.639</td> <td>   -2.583</td>\n",
       "</tr>\n",
       "<tr>\n",
       "  <th>RevolvingUtilizationOfUnsecuredLines</th> <td>   -0.6136</td> <td>    0.014</td> <td>  -44.087</td> <td> 0.000</td> <td>   -0.641</td> <td>   -0.586</td>\n",
       "</tr>\n",
       "<tr>\n",
       "  <th>age</th>                                  <td>   -0.4165</td> <td>    0.031</td> <td>  -13.643</td> <td> 0.000</td> <td>   -0.476</td> <td>   -0.357</td>\n",
       "</tr>\n",
       "<tr>\n",
       "  <th>DebtRatio</th>                            <td>   -0.8178</td> <td>    0.057</td> <td>  -14.391</td> <td> 0.000</td> <td>   -0.929</td> <td>   -0.706</td>\n",
       "</tr>\n",
       "<tr>\n",
       "  <th>MonthlyIncome</th>                        <td>   -0.1834</td> <td>    0.055</td> <td>   -3.359</td> <td> 0.001</td> <td>   -0.290</td> <td>   -0.076</td>\n",
       "</tr>\n",
       "<tr>\n",
       "  <th>NumberOfTime30_59DaysPastDueNotWorse</th> <td>   -0.5303</td> <td>    0.014</td> <td>  -36.966</td> <td> 0.000</td> <td>   -0.558</td> <td>   -0.502</td>\n",
       "</tr>\n",
       "<tr>\n",
       "  <th>NumberOfTime60_89DaysPastDueNotWorse</th> <td>   -0.4098</td> <td>    0.016</td> <td>  -26.047</td> <td> 0.000</td> <td>   -0.441</td> <td>   -0.379</td>\n",
       "</tr>\n",
       "<tr>\n",
       "  <th>NumberOfTimes90DaysLate</th>              <td>   -0.5399</td> <td>    0.013</td> <td>  -42.273</td> <td> 0.000</td> <td>   -0.565</td> <td>   -0.515</td>\n",
       "</tr>\n",
       "<tr>\n",
       "  <th>NumberRealEstateLoansOrLines</th>         <td>   -0.6036</td> <td>    0.059</td> <td>  -10.189</td> <td> 0.000</td> <td>   -0.720</td> <td>   -0.487</td>\n",
       "</tr>\n",
       "<tr>\n",
       "  <th>NumberOfDependents</th>                   <td>   -0.2123</td> <td>    0.074</td> <td>   -2.867</td> <td> 0.004</td> <td>   -0.357</td> <td>   -0.067</td>\n",
       "</tr>\n",
       "</table>"
      ],
      "text/plain": [
       "<class 'statsmodels.iolib.summary.Summary'>\n",
       "\"\"\"\n",
       "                 Generalized Linear Model Regression Results                  \n",
       "==============================================================================\n",
       "Dep. Variable:       SeriousDlqin2yrs   No. Observations:               120000\n",
       "Model:                            GLM   Df Residuals:                   119990\n",
       "Model Family:                Binomial   Df Model:                            9\n",
       "Link Function:                  logit   Scale:                          1.0000\n",
       "Method:                          IRLS   Log-Likelihood:                -22136.\n",
       "Date:                Mon, 06 Jan 2020   Deviance:                       44271.\n",
       "Time:                        14:58:08   Pearson chi2:                 1.04e+05\n",
       "No. Iterations:                     7   Covariance Type:             nonrobust\n",
       "========================================================================================================\n",
       "                                           coef    std err          z      P>|z|      [0.025      0.975]\n",
       "--------------------------------------------------------------------------------------------------------\n",
       "Intercept                               -2.6109      0.014   -185.005      0.000      -2.639      -2.583\n",
       "RevolvingUtilizationOfUnsecuredLines    -0.6136      0.014    -44.087      0.000      -0.641      -0.586\n",
       "age                                     -0.4165      0.031    -13.643      0.000      -0.476      -0.357\n",
       "DebtRatio                               -0.8178      0.057    -14.391      0.000      -0.929      -0.706\n",
       "MonthlyIncome                           -0.1834      0.055     -3.359      0.001      -0.290      -0.076\n",
       "NumberOfTime30_59DaysPastDueNotWorse    -0.5303      0.014    -36.966      0.000      -0.558      -0.502\n",
       "NumberOfTime60_89DaysPastDueNotWorse    -0.4098      0.016    -26.047      0.000      -0.441      -0.379\n",
       "NumberOfTimes90DaysLate                 -0.5399      0.013    -42.273      0.000      -0.565      -0.515\n",
       "NumberRealEstateLoansOrLines            -0.6036      0.059    -10.189      0.000      -0.720      -0.487\n",
       "NumberOfDependents                      -0.2123      0.074     -2.867      0.004      -0.357      -0.067\n",
       "========================================================================================================\n",
       "\"\"\""
      ]
     },
     "execution_count": 254,
     "metadata": {},
     "output_type": "execute_result"
    }
   ],
   "source": [
    "func.summary()"
   ]
  },
  {
   "cell_type": "code",
   "execution_count": 270,
   "metadata": {},
   "outputs": [],
   "source": [
    "# saving model\n",
    "func.save('model_9_variables_1.pkl')"
   ]
  },
  {
   "cell_type": "markdown",
   "metadata": {},
   "source": [
    "### Checking performance"
   ]
  },
  {
   "cell_type": "code",
   "execution_count": 258,
   "metadata": {},
   "outputs": [
    {
     "name": "stdout",
     "output_type": "stream",
     "text": [
      "-----   Training Set Performance   --------\n",
      "\n",
      "ROC_AUC:  0.85414757649726\n",
      "Somersd:  0.7082951529945201\n"
     ]
    },
    {
     "data": {
      "image/png": "[encoded data removed]",
      "text/plain": [
       "<Figure size 432x288 with 1 Axes>"
      ]
     },
     "metadata": {
      "needs_background": "light"
     },
     "output_type": "display_data"
    }
   ],
   "source": [
    "import sklearn.metrics as setrics\n",
    "\n",
    "def get_metrics(df, model, label_col='status_2_yrs'):\n",
    "    '''plots roc-auc and calcualtes somers-d score'''\n",
    "    roc_auc = setrics.roc_auc_score(df[label_col],  model.predict(df))\n",
    "    print('ROC_AUC: ', roc_auc)\n",
    "    \n",
    "    somersd = 2*roc_auc -1\n",
    "    print('Somersd: ', somersd)\n",
    "    \n",
    "    fpr, tpr, _ = setrics.roc_curve(df[label_col],  model.predict(df))\n",
    "    plt.plot(fpr,tpr,label=\"data 1, auc=\"+str(roc_auc))\n",
    "    plt.legend(loc=4)\n",
    "    plt.show()\n",
    "\n",
    "print('-----   Training Set Performance   --------\\n')    \n",
    "get_metrics(train_woe, func, label_col='SeriousDlqin2yrs')"
   ]
  },
  {
   "cell_type": "code",
   "execution_count": 259,
   "metadata": {},
   "outputs": [
    {
     "name": "stdout",
     "output_type": "stream",
     "text": [
      "-----   Dev Set Performance   --------\n",
      "\n",
      "ROC_AUC:  0.8623952259429915\n",
      "Somersd:  0.7247904518859829\n"
     ]
    },
    {
     "data": {
      "image/png": "[encoded data removed]",
      "text/plain": [
       "<Figure size 432x288 with 1 Axes>"
      ]
     },
     "metadata": {
      "needs_background": "light"
     },
     "output_type": "display_data"
    }
   ],
   "source": [
    "print('-----   Dev Set Performance   --------\\n')    \n",
    "\n",
    "get_metrics(dev_woe.dropna(), func, label_col='SeriousDlqin2yrs')"
   ]
  },
  {
   "cell_type": "markdown",
   "metadata": {},
   "source": [
    "## Scorecard"
   ]
  },
  {
   "cell_type": "code",
   "execution_count": 240,
   "metadata": {},
   "outputs": [],
   "source": [
    "def make_scorecard(woe_df, model, pdo=20, offset=600):\n",
    "    '''calculates credit score'''\n",
    "    features = model.params.index.values[1:]\n",
    "    factor = pdo/np.log(2)\n",
    "    n = len(features)\n",
    "    \n",
    "    scorecard = -(((woe_df[features]*(model.params.iloc[1:])).sum(axis=1)) + model.params.Intercept)*factor +  offset\n",
    "    return scorecard"
   ]
  },
  {
   "cell_type": "code",
   "execution_count": 268,
   "metadata": {},
   "outputs": [],
   "source": [
    "train_scorecard = make_scorecard(train_woe, func, offset=600)\n",
    "dev_scorecard = make_scorecard(dev_woe, func, offset=600)"
   ]
  },
  {
   "cell_type": "code",
   "execution_count": 269,
   "metadata": {},
   "outputs": [],
   "source": [
    "train['credit_score'] = train_scorecard\n",
    "train.to_csv('output/train_credit_scores.csv')\n",
    "\n",
    "dev['credit_score'] = dev_scorecard\n",
    "dev.to_csv('output/dev_credit_scores.csv')"
   ]
  },
  {
   "cell_type": "markdown",
   "metadata": {},
   "source": [
    "## Predicting on Test Data"
   ]
  },
  {
   "cell_type": "code",
   "execution_count": 244,
   "metadata": {},
   "outputs": [
    {
     "data": {
      "text/html": [
       "<div>\n",
       "<style scoped>\n",
       "    .dataframe tbody tr th:only-of-type {\n",
       "        vertical-align: middle;\n",
       "    }\n",
       "\n",
       "    .dataframe tbody tr th {\n",
       "        vertical-align: top;\n",
       "    }\n",
       "\n",
       "    .dataframe thead th {\n",
       "        text-align: right;\n",
       "    }\n",
       "</style>\n",
       "<table border=\"1\" class=\"dataframe\">\n",
       "  <thead>\n",
       "    <tr style=\"text-align: right;\">\n",
       "      <th></th>\n",
       "      <th>SeriousDlqin2yrs</th>\n",
       "      <th>RevolvingUtilizationOfUnsecuredLines</th>\n",
       "      <th>age</th>\n",
       "      <th>NumberOfTime30-59DaysPastDueNotWorse</th>\n",
       "      <th>DebtRatio</th>\n",
       "      <th>MonthlyIncome</th>\n",
       "      <th>NumberOfOpenCreditLinesAndLoans</th>\n",
       "      <th>NumberOfTimes90DaysLate</th>\n",
       "      <th>NumberRealEstateLoansOrLines</th>\n",
       "      <th>NumberOfTime60-89DaysPastDueNotWorse</th>\n",
       "      <th>NumberOfDependents</th>\n",
       "    </tr>\n",
       "  </thead>\n",
       "  <tbody>\n",
       "    <tr>\n",
       "      <th>1</th>\n",
       "      <td>NaN</td>\n",
       "      <td>0.885519</td>\n",
       "      <td>43</td>\n",
       "      <td>0</td>\n",
       "      <td>0.177513</td>\n",
       "      <td>5700.0</td>\n",
       "      <td>4</td>\n",
       "      <td>0</td>\n",
       "      <td>0</td>\n",
       "      <td>0</td>\n",
       "      <td>0.0</td>\n",
       "    </tr>\n",
       "    <tr>\n",
       "      <th>2</th>\n",
       "      <td>NaN</td>\n",
       "      <td>0.463295</td>\n",
       "      <td>57</td>\n",
       "      <td>0</td>\n",
       "      <td>0.527237</td>\n",
       "      <td>9141.0</td>\n",
       "      <td>15</td>\n",
       "      <td>0</td>\n",
       "      <td>4</td>\n",
       "      <td>0</td>\n",
       "      <td>2.0</td>\n",
       "    </tr>\n",
       "    <tr>\n",
       "      <th>3</th>\n",
       "      <td>NaN</td>\n",
       "      <td>0.043275</td>\n",
       "      <td>59</td>\n",
       "      <td>0</td>\n",
       "      <td>0.687648</td>\n",
       "      <td>5083.0</td>\n",
       "      <td>12</td>\n",
       "      <td>0</td>\n",
       "      <td>1</td>\n",
       "      <td>0</td>\n",
       "      <td>2.0</td>\n",
       "    </tr>\n",
       "    <tr>\n",
       "      <th>4</th>\n",
       "      <td>NaN</td>\n",
       "      <td>0.280308</td>\n",
       "      <td>38</td>\n",
       "      <td>1</td>\n",
       "      <td>0.925961</td>\n",
       "      <td>3200.0</td>\n",
       "      <td>7</td>\n",
       "      <td>0</td>\n",
       "      <td>2</td>\n",
       "      <td>0</td>\n",
       "      <td>0.0</td>\n",
       "    </tr>\n",
       "    <tr>\n",
       "      <th>5</th>\n",
       "      <td>NaN</td>\n",
       "      <td>1.000000</td>\n",
       "      <td>27</td>\n",
       "      <td>0</td>\n",
       "      <td>0.019917</td>\n",
       "      <td>3865.0</td>\n",
       "      <td>4</td>\n",
       "      <td>0</td>\n",
       "      <td>0</td>\n",
       "      <td>0</td>\n",
       "      <td>1.0</td>\n",
       "    </tr>\n",
       "  </tbody>\n",
       "</table>\n",
       "</div>"
      ],
      "text/plain": [
       "   SeriousDlqin2yrs  RevolvingUtilizationOfUnsecuredLines  age  \\\n",
       "1               NaN                              0.885519   43   \n",
       "2               NaN                              0.463295   57   \n",
       "3               NaN                              0.043275   59   \n",
       "4               NaN                              0.280308   38   \n",
       "5               NaN                              1.000000   27   \n",
       "\n",
       "   NumberOfTime30-59DaysPastDueNotWorse  DebtRatio  MonthlyIncome  \\\n",
       "1                                     0   0.177513         5700.0   \n",
       "2                                     0   0.527237         9141.0   \n",
       "3                                     0   0.687648         5083.0   \n",
       "4                                     1   0.925961         3200.0   \n",
       "5                                     0   0.019917         3865.0   \n",
       "\n",
       "   NumberOfOpenCreditLinesAndLoans  NumberOfTimes90DaysLate  \\\n",
       "1                                4                        0   \n",
       "2                               15                        0   \n",
       "3                               12                        0   \n",
       "4                                7                        0   \n",
       "5                                4                        0   \n",
       "\n",
       "   NumberRealEstateLoansOrLines  NumberOfTime60-89DaysPastDueNotWorse  \\\n",
       "1                             0                                     0   \n",
       "2                             4                                     0   \n",
       "3                             1                                     0   \n",
       "4                             2                                     0   \n",
       "5                             0                                     0   \n",
       "\n",
       "   NumberOfDependents  \n",
       "1                 0.0  \n",
       "2                 2.0  \n",
       "3                 2.0  \n",
       "4                 0.0  \n",
       "5                 1.0  "
      ]
     },
     "execution_count": 244,
     "metadata": {},
     "output_type": "execute_result"
    }
   ],
   "source": [
    "test = pd.read_csv('data/cs-test.csv', index_col=0)\n",
    "test.head()"
   ]
  },
  {
   "cell_type": "code",
   "execution_count": 247,
   "metadata": {},
   "outputs": [
    {
     "data": {
      "text/plain": [
       "count    101503.000000\n",
       "mean        695.353044\n",
       "std          34.102648\n",
       "min         540.384401\n",
       "25%         677.362509\n",
       "50%         704.737385\n",
       "75%         721.195530\n",
       "max         741.400257\n",
       "dtype: float64"
      ]
     },
     "execution_count": 247,
     "metadata": {},
     "output_type": "execute_result"
    }
   ],
   "source": [
    "test = clean_data(test, 5400, 3)\n",
    "test_binned_df = create_bins(test, binsdf)\n",
    "test_woe = create_woe(test_binned_df, woe)\n",
    "test_scorecard = make_scorecard(test_woe, func)\n",
    "test_scorecard.describe()"
   ]
  },
  {
   "cell_type": "code",
   "execution_count": 266,
   "metadata": {},
   "outputs": [],
   "source": [
    "test['credit_score'] = test_scorecard\n",
    "test.to_csv('output/test_credit_scores.csv')"
   ]
  },
  {
   "cell_type": "markdown",
   "metadata": {},
   "source": []
  }
 ],
 "metadata": {
  "kernelspec": {
   "display_name": "Python [conda env:py37]",
   "language": "python",
   "name": "conda-env-py37-py"
  },
  "language_info": {
   "codemirror_mode": {
    "name": "ipython",
    "version": 3
   },
   "file_extension": ".py",
   "mimetype": "text/x-python",
   "name": "python",
   "nbconvert_exporter": "python",
   "pygments_lexer": "ipython3",
   "version": "3.7.1"
  }
 },
 "nbformat": 4,
 "nbformat_minor": 2
}
